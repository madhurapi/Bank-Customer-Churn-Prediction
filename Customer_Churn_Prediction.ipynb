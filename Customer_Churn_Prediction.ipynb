{
  "cells": [
    {
      "cell_type": "markdown",
      "metadata": {
        "id": "view-in-github",
        "colab_type": "text"
      },
      "source": [
        "<a href=\"https://colab.research.google.com/github/madhurapi/Bank-Customer-Churn-Prediction/blob/main/Customer_Churn_Prediction.ipynb\" target=\"_parent\"><img src=\"https://colab.research.google.com/assets/colab-badge.svg\" alt=\"Open In Colab\"/></a>"
      ]
    },
    {
      "cell_type": "code",
      "execution_count": null,
      "id": "45133cf0",
      "metadata": {
        "id": "45133cf0"
      },
      "outputs": [],
      "source": [
        "# import 'Numpy' \n",
        "import numpy as np\n",
        "\n",
        "# import 'Pandas' \n",
        "import pandas as pd\n",
        "\n",
        "# import subpackage of Matplotlib\n",
        "import matplotlib.pyplot as plt\n",
        "\n",
        "# import 'Seaborn' \n",
        "import seaborn as sns\n",
        "\n",
        "# to suppress warnings \n",
        "from warnings import filterwarnings\n",
        "filterwarnings('ignore')\n",
        " \n",
        "# to display the float values upto 6 decimal places     \n",
        "pd.options.display.float_format = '{:.6f}'.format\n",
        "\n",
        "# import train-test split \n",
        "from sklearn.model_selection import train_test_split\n",
        "\n",
        "# import various functions from statsmodels\n",
        "import statsmodels\n",
        "import statsmodels.api as sm\n",
        "\n",
        "# import 'stats'\n",
        "from scipy import stats\n",
        "\n",
        "# import StandardScaler to perform scaling\n",
        "from sklearn.preprocessing import StandardScaler \n"
      ]
    },
    {
      "cell_type": "code",
      "execution_count": null,
      "id": "6dd7be8b",
      "metadata": {
        "id": "6dd7be8b"
      },
      "outputs": [],
      "source": [
        "file = pd.read_csv(\"Bank Customer Churn Prediction.csv\")"
      ]
    },
    {
      "cell_type": "code",
      "execution_count": null,
      "id": "83a57a95",
      "metadata": {
        "id": "83a57a95"
      },
      "outputs": [],
      "source": [
        "df = pd.DataFrame(file)"
      ]
    },
    {
      "cell_type": "code",
      "execution_count": null,
      "id": "ea79e48a",
      "metadata": {
        "id": "ea79e48a",
        "outputId": "632c27bc-0aaa-4d56-fec9-5db4c4daa1ca"
      },
      "outputs": [
        {
          "data": {
            "text/html": [
              "<div>\n",
              "<style scoped>\n",
              "    .dataframe tbody tr th:only-of-type {\n",
              "        vertical-align: middle;\n",
              "    }\n",
              "\n",
              "    .dataframe tbody tr th {\n",
              "        vertical-align: top;\n",
              "    }\n",
              "\n",
              "    .dataframe thead th {\n",
              "        text-align: right;\n",
              "    }\n",
              "</style>\n",
              "<table border=\"1\" class=\"dataframe\">\n",
              "  <thead>\n",
              "    <tr style=\"text-align: right;\">\n",
              "      <th></th>\n",
              "      <th>customer_id</th>\n",
              "      <th>credit_score</th>\n",
              "      <th>country</th>\n",
              "      <th>gender</th>\n",
              "      <th>age</th>\n",
              "      <th>tenure</th>\n",
              "      <th>balance</th>\n",
              "      <th>products_number</th>\n",
              "      <th>credit_card</th>\n",
              "      <th>active_member</th>\n",
              "      <th>estimated_salary</th>\n",
              "      <th>churn</th>\n",
              "    </tr>\n",
              "  </thead>\n",
              "  <tbody>\n",
              "    <tr>\n",
              "      <th>0</th>\n",
              "      <td>15634602</td>\n",
              "      <td>619</td>\n",
              "      <td>France</td>\n",
              "      <td>Female</td>\n",
              "      <td>42</td>\n",
              "      <td>2</td>\n",
              "      <td>0.000000</td>\n",
              "      <td>1</td>\n",
              "      <td>1</td>\n",
              "      <td>1</td>\n",
              "      <td>101348.880000</td>\n",
              "      <td>1</td>\n",
              "    </tr>\n",
              "    <tr>\n",
              "      <th>1</th>\n",
              "      <td>15647311</td>\n",
              "      <td>608</td>\n",
              "      <td>Spain</td>\n",
              "      <td>Female</td>\n",
              "      <td>41</td>\n",
              "      <td>1</td>\n",
              "      <td>83807.860000</td>\n",
              "      <td>1</td>\n",
              "      <td>0</td>\n",
              "      <td>1</td>\n",
              "      <td>112542.580000</td>\n",
              "      <td>0</td>\n",
              "    </tr>\n",
              "    <tr>\n",
              "      <th>2</th>\n",
              "      <td>15619304</td>\n",
              "      <td>502</td>\n",
              "      <td>France</td>\n",
              "      <td>Female</td>\n",
              "      <td>42</td>\n",
              "      <td>8</td>\n",
              "      <td>159660.800000</td>\n",
              "      <td>3</td>\n",
              "      <td>1</td>\n",
              "      <td>0</td>\n",
              "      <td>113931.570000</td>\n",
              "      <td>1</td>\n",
              "    </tr>\n",
              "    <tr>\n",
              "      <th>3</th>\n",
              "      <td>15701354</td>\n",
              "      <td>699</td>\n",
              "      <td>France</td>\n",
              "      <td>Female</td>\n",
              "      <td>39</td>\n",
              "      <td>1</td>\n",
              "      <td>0.000000</td>\n",
              "      <td>2</td>\n",
              "      <td>0</td>\n",
              "      <td>0</td>\n",
              "      <td>93826.630000</td>\n",
              "      <td>0</td>\n",
              "    </tr>\n",
              "    <tr>\n",
              "      <th>4</th>\n",
              "      <td>15737888</td>\n",
              "      <td>850</td>\n",
              "      <td>Spain</td>\n",
              "      <td>Female</td>\n",
              "      <td>43</td>\n",
              "      <td>2</td>\n",
              "      <td>125510.820000</td>\n",
              "      <td>1</td>\n",
              "      <td>1</td>\n",
              "      <td>1</td>\n",
              "      <td>79084.100000</td>\n",
              "      <td>0</td>\n",
              "    </tr>\n",
              "    <tr>\n",
              "      <th>...</th>\n",
              "      <td>...</td>\n",
              "      <td>...</td>\n",
              "      <td>...</td>\n",
              "      <td>...</td>\n",
              "      <td>...</td>\n",
              "      <td>...</td>\n",
              "      <td>...</td>\n",
              "      <td>...</td>\n",
              "      <td>...</td>\n",
              "      <td>...</td>\n",
              "      <td>...</td>\n",
              "      <td>...</td>\n",
              "    </tr>\n",
              "    <tr>\n",
              "      <th>9995</th>\n",
              "      <td>15606229</td>\n",
              "      <td>771</td>\n",
              "      <td>France</td>\n",
              "      <td>Male</td>\n",
              "      <td>39</td>\n",
              "      <td>5</td>\n",
              "      <td>0.000000</td>\n",
              "      <td>2</td>\n",
              "      <td>1</td>\n",
              "      <td>0</td>\n",
              "      <td>96270.640000</td>\n",
              "      <td>0</td>\n",
              "    </tr>\n",
              "    <tr>\n",
              "      <th>9996</th>\n",
              "      <td>15569892</td>\n",
              "      <td>516</td>\n",
              "      <td>France</td>\n",
              "      <td>Male</td>\n",
              "      <td>35</td>\n",
              "      <td>10</td>\n",
              "      <td>57369.610000</td>\n",
              "      <td>1</td>\n",
              "      <td>1</td>\n",
              "      <td>1</td>\n",
              "      <td>101699.770000</td>\n",
              "      <td>0</td>\n",
              "    </tr>\n",
              "    <tr>\n",
              "      <th>9997</th>\n",
              "      <td>15584532</td>\n",
              "      <td>709</td>\n",
              "      <td>France</td>\n",
              "      <td>Female</td>\n",
              "      <td>36</td>\n",
              "      <td>7</td>\n",
              "      <td>0.000000</td>\n",
              "      <td>1</td>\n",
              "      <td>0</td>\n",
              "      <td>1</td>\n",
              "      <td>42085.580000</td>\n",
              "      <td>1</td>\n",
              "    </tr>\n",
              "    <tr>\n",
              "      <th>9998</th>\n",
              "      <td>15682355</td>\n",
              "      <td>772</td>\n",
              "      <td>Germany</td>\n",
              "      <td>Male</td>\n",
              "      <td>42</td>\n",
              "      <td>3</td>\n",
              "      <td>75075.310000</td>\n",
              "      <td>2</td>\n",
              "      <td>1</td>\n",
              "      <td>0</td>\n",
              "      <td>92888.520000</td>\n",
              "      <td>1</td>\n",
              "    </tr>\n",
              "    <tr>\n",
              "      <th>9999</th>\n",
              "      <td>15628319</td>\n",
              "      <td>792</td>\n",
              "      <td>France</td>\n",
              "      <td>Female</td>\n",
              "      <td>28</td>\n",
              "      <td>4</td>\n",
              "      <td>130142.790000</td>\n",
              "      <td>1</td>\n",
              "      <td>1</td>\n",
              "      <td>0</td>\n",
              "      <td>38190.780000</td>\n",
              "      <td>0</td>\n",
              "    </tr>\n",
              "  </tbody>\n",
              "</table>\n",
              "<p>10000 rows × 12 columns</p>\n",
              "</div>"
            ],
            "text/plain": [
              "      customer_id  credit_score  country  gender  age  tenure       balance  \\\n",
              "0        15634602           619   France  Female   42       2      0.000000   \n",
              "1        15647311           608    Spain  Female   41       1  83807.860000   \n",
              "2        15619304           502   France  Female   42       8 159660.800000   \n",
              "3        15701354           699   France  Female   39       1      0.000000   \n",
              "4        15737888           850    Spain  Female   43       2 125510.820000   \n",
              "...           ...           ...      ...     ...  ...     ...           ...   \n",
              "9995     15606229           771   France    Male   39       5      0.000000   \n",
              "9996     15569892           516   France    Male   35      10  57369.610000   \n",
              "9997     15584532           709   France  Female   36       7      0.000000   \n",
              "9998     15682355           772  Germany    Male   42       3  75075.310000   \n",
              "9999     15628319           792   France  Female   28       4 130142.790000   \n",
              "\n",
              "      products_number  credit_card  active_member  estimated_salary  churn  \n",
              "0                   1            1              1     101348.880000      1  \n",
              "1                   1            0              1     112542.580000      0  \n",
              "2                   3            1              0     113931.570000      1  \n",
              "3                   2            0              0      93826.630000      0  \n",
              "4                   1            1              1      79084.100000      0  \n",
              "...               ...          ...            ...               ...    ...  \n",
              "9995                2            1              0      96270.640000      0  \n",
              "9996                1            1              1     101699.770000      0  \n",
              "9997                1            0              1      42085.580000      1  \n",
              "9998                2            1              0      92888.520000      1  \n",
              "9999                1            1              0      38190.780000      0  \n",
              "\n",
              "[10000 rows x 12 columns]"
            ]
          },
          "execution_count": 5,
          "metadata": {},
          "output_type": "execute_result"
        }
      ],
      "source": [
        "df"
      ]
    },
    {
      "cell_type": "code",
      "execution_count": null,
      "id": "b9dc89b5",
      "metadata": {
        "id": "b9dc89b5",
        "outputId": "9f7b540f-40eb-44ac-cd34-75d4295f16e9"
      },
      "outputs": [
        {
          "name": "stdout",
          "output_type": "stream",
          "text": [
            "<class 'pandas.core.frame.DataFrame'>\n",
            "RangeIndex: 10000 entries, 0 to 9999\n",
            "Data columns (total 12 columns):\n",
            " #   Column            Non-Null Count  Dtype  \n",
            "---  ------            --------------  -----  \n",
            " 0   customer_id       10000 non-null  int64  \n",
            " 1   credit_score      10000 non-null  int64  \n",
            " 2   country           10000 non-null  object \n",
            " 3   gender            10000 non-null  object \n",
            " 4   age               10000 non-null  int64  \n",
            " 5   tenure            10000 non-null  int64  \n",
            " 6   balance           10000 non-null  float64\n",
            " 7   products_number   10000 non-null  int64  \n",
            " 8   credit_card       10000 non-null  int64  \n",
            " 9   active_member     10000 non-null  int64  \n",
            " 10  estimated_salary  10000 non-null  float64\n",
            " 11  churn             10000 non-null  int64  \n",
            "dtypes: float64(2), int64(8), object(2)\n",
            "memory usage: 937.6+ KB\n"
          ]
        }
      ],
      "source": [
        "df.info()"
      ]
    },
    {
      "cell_type": "code",
      "execution_count": null,
      "id": "31bc761b",
      "metadata": {
        "id": "31bc761b",
        "outputId": "b3f5bbc1-25ea-4d52-8a88-d25ddd3dedeb"
      },
      "outputs": [
        {
          "data": {
            "text/plain": [
              "customer_id         0\n",
              "credit_score        0\n",
              "country             0\n",
              "gender              0\n",
              "age                 0\n",
              "tenure              0\n",
              "balance             0\n",
              "products_number     0\n",
              "credit_card         0\n",
              "active_member       0\n",
              "estimated_salary    0\n",
              "churn               0\n",
              "dtype: int64"
            ]
          },
          "execution_count": 7,
          "metadata": {},
          "output_type": "execute_result"
        }
      ],
      "source": [
        "df.isnull().sum()"
      ]
    },
    {
      "cell_type": "markdown",
      "id": "b0dde075",
      "metadata": {
        "id": "b0dde075"
      },
      "source": [
        "### 10000 data entries\n",
        "### no null values\n",
        "### 12 columns\n",
        "### churn: target variable, 1== True, 0 ==False"
      ]
    },
    {
      "cell_type": "markdown",
      "id": "0d62b6d2",
      "metadata": {
        "id": "0d62b6d2"
      },
      "source": [
        "# Visualisation"
      ]
    },
    {
      "cell_type": "code",
      "execution_count": null,
      "id": "084bf55e",
      "metadata": {
        "id": "084bf55e",
        "outputId": "7a33fdef-dfb0-4878-a5d3-6588aa7e7d42"
      },
      "outputs": [
        {
          "data": {
            "image/png": "[encoded data removed]",
            "text/plain": [
              "<Figure size 3600x3600 with 12 Axes>"
            ]
          },
          "metadata": {
            "needs_background": "light"
          },
          "output_type": "display_data"
        }
      ],
      "source": [
        "# set the plot size\n",
        "plt.rcParams['figure.figsize']=(50,50)\n",
        "#numeric column datatype\n",
        "df_numeric = df.select_dtypes(include=np.number)\n",
        "df_numeric.hist()\n",
        "# show plot\n",
        "plt.show()"
      ]
    },
    {
      "cell_type": "code",
      "execution_count": null,
      "id": "74d026bd",
      "metadata": {
        "id": "74d026bd",
        "outputId": "85bb8fe3-e6ac-4583-86e3-59e15ecb255c"
      },
      "outputs": [
        {
          "data": {
            "text/plain": [
              "<AxesSubplot:xlabel='gender', ylabel='count'>"
            ]
          },
          "execution_count": 9,
          "metadata": {},
          "output_type": "execute_result"
        },
        {
          "data": {
            "image/png": "[encoded data removed]",
            "text/plain": [
              "<Figure size 432x360 with 1 Axes>"
            ]
          },
          "metadata": {},
          "output_type": "display_data"
        }
      ],
      "source": [
        "sns.set(rc={\"figure.figsize\":(6, 5)})\n",
        "sns.countplot(df['gender'])"
      ]
    },
    {
      "cell_type": "code",
      "execution_count": null,
      "id": "9bd0c536",
      "metadata": {
        "id": "9bd0c536",
        "outputId": "f946fa86-22fc-4637-f7ee-a06af567dc1e"
      },
      "outputs": [
        {
          "data": {
            "text/plain": [
              "<AxesSubplot:xlabel='country', ylabel='count'>"
            ]
          },
          "execution_count": 10,
          "metadata": {},
          "output_type": "execute_result"
        },
        {
          "data": {
            "image/png": "[encoded data removed]",
            "text/plain": [
              "<Figure size 432x360 with 1 Axes>"
            ]
          },
          "metadata": {},
          "output_type": "display_data"
        }
      ],
      "source": [
        "sns.set(rc={\"figure.figsize\":(6, 5)})\n",
        "sns.countplot(df['country'])"
      ]
    },
    {
      "cell_type": "markdown",
      "id": "6d22a6ef",
      "metadata": {
        "id": "6d22a6ef"
      },
      "source": [
        "# Key Findings\n"
      ]
    },
    {
      "cell_type": "markdown",
      "id": "dfb3b85a",
      "metadata": {
        "id": "dfb3b85a"
      },
      "source": [
        "### 1. Tenure is from 0 to 10 hence the collected data is for 10 years\n",
        "### 2. credit card = 0 & 1 ;; Use of credit card:7000 and not using credit card : 3000\n",
        "### 3. Churn : for (0 : 8000) and (for 1: 2000) hence target variable is imbalanced, either to perform oversampling or            undersampling\n",
        "### 4. Credit score is normally distributed. mode = 650 for near abot 2000 people\n",
        "### 5. Balance : Nearly 4000 people have zero balance in their account and have average balance maintained by                others is arround 11000(11 lac) for 2000 people for remaing are litle more and other 2000 are less than that.\n",
        "### 6. Active Member : Non- active and active are almost equal in number.\n",
        "### 7.Estimated salary is uniformly distributed. Range from 25k to 20L is salary band. each slab have approx 1000              to 1500 customers among 8 portions. Hence data represents all sets of class of community having diff                      salary. min is 11/-\n",
        "### 8. Products offered to customers from  1 to 4, many of them avail any 2 of them nearly 5000 and 4500 for 1 and             2 resp. and remaining are 500 : (300 :3) & (200:4)\n",
        "### 9. Age 18 to 85. 30 to 45 the number of counts are high. Age can be grouped into three from 18 to 30,30 to                    45,45 to 85."
      ]
    },
    {
      "cell_type": "code",
      "execution_count": null,
      "id": "d79fb0c5",
      "metadata": {
        "id": "d79fb0c5",
        "outputId": "f5ca0f2d-5443-4f5c-ede8-b4dba97d03df"
      },
      "outputs": [
        {
          "data": {
            "text/html": [
              "<div>\n",
              "<style scoped>\n",
              "    .dataframe tbody tr th:only-of-type {\n",
              "        vertical-align: middle;\n",
              "    }\n",
              "\n",
              "    .dataframe tbody tr th {\n",
              "        vertical-align: top;\n",
              "    }\n",
              "\n",
              "    .dataframe thead th {\n",
              "        text-align: right;\n",
              "    }\n",
              "</style>\n",
              "<table border=\"1\" class=\"dataframe\">\n",
              "  <thead>\n",
              "    <tr style=\"text-align: right;\">\n",
              "      <th></th>\n",
              "      <th>customer_id</th>\n",
              "      <th>credit_score</th>\n",
              "      <th>age</th>\n",
              "      <th>tenure</th>\n",
              "      <th>balance</th>\n",
              "      <th>products_number</th>\n",
              "      <th>credit_card</th>\n",
              "      <th>active_member</th>\n",
              "      <th>estimated_salary</th>\n",
              "      <th>churn</th>\n",
              "    </tr>\n",
              "  </thead>\n",
              "  <tbody>\n",
              "    <tr>\n",
              "      <th>count</th>\n",
              "      <td>10000.000000</td>\n",
              "      <td>10000.000000</td>\n",
              "      <td>10000.000000</td>\n",
              "      <td>10000.000000</td>\n",
              "      <td>10000.000000</td>\n",
              "      <td>10000.000000</td>\n",
              "      <td>10000.000000</td>\n",
              "      <td>10000.000000</td>\n",
              "      <td>10000.000000</td>\n",
              "      <td>10000.000000</td>\n",
              "    </tr>\n",
              "    <tr>\n",
              "      <th>mean</th>\n",
              "      <td>15690940.569400</td>\n",
              "      <td>650.528800</td>\n",
              "      <td>38.921800</td>\n",
              "      <td>5.012800</td>\n",
              "      <td>76485.889288</td>\n",
              "      <td>1.530200</td>\n",
              "      <td>0.705500</td>\n",
              "      <td>0.515100</td>\n",
              "      <td>100090.239881</td>\n",
              "      <td>0.203700</td>\n",
              "    </tr>\n",
              "    <tr>\n",
              "      <th>std</th>\n",
              "      <td>71936.186123</td>\n",
              "      <td>96.653299</td>\n",
              "      <td>10.487806</td>\n",
              "      <td>2.892174</td>\n",
              "      <td>62397.405202</td>\n",
              "      <td>0.581654</td>\n",
              "      <td>0.455840</td>\n",
              "      <td>0.499797</td>\n",
              "      <td>57510.492818</td>\n",
              "      <td>0.402769</td>\n",
              "    </tr>\n",
              "    <tr>\n",
              "      <th>min</th>\n",
              "      <td>15565701.000000</td>\n",
              "      <td>350.000000</td>\n",
              "      <td>18.000000</td>\n",
              "      <td>0.000000</td>\n",
              "      <td>0.000000</td>\n",
              "      <td>1.000000</td>\n",
              "      <td>0.000000</td>\n",
              "      <td>0.000000</td>\n",
              "      <td>11.580000</td>\n",
              "      <td>0.000000</td>\n",
              "    </tr>\n",
              "    <tr>\n",
              "      <th>25%</th>\n",
              "      <td>15628528.250000</td>\n",
              "      <td>584.000000</td>\n",
              "      <td>32.000000</td>\n",
              "      <td>3.000000</td>\n",
              "      <td>0.000000</td>\n",
              "      <td>1.000000</td>\n",
              "      <td>0.000000</td>\n",
              "      <td>0.000000</td>\n",
              "      <td>51002.110000</td>\n",
              "      <td>0.000000</td>\n",
              "    </tr>\n",
              "    <tr>\n",
              "      <th>50%</th>\n",
              "      <td>15690738.000000</td>\n",
              "      <td>652.000000</td>\n",
              "      <td>37.000000</td>\n",
              "      <td>5.000000</td>\n",
              "      <td>97198.540000</td>\n",
              "      <td>1.000000</td>\n",
              "      <td>1.000000</td>\n",
              "      <td>1.000000</td>\n",
              "      <td>100193.915000</td>\n",
              "      <td>0.000000</td>\n",
              "    </tr>\n",
              "    <tr>\n",
              "      <th>75%</th>\n",
              "      <td>15753233.750000</td>\n",
              "      <td>718.000000</td>\n",
              "      <td>44.000000</td>\n",
              "      <td>7.000000</td>\n",
              "      <td>127644.240000</td>\n",
              "      <td>2.000000</td>\n",
              "      <td>1.000000</td>\n",
              "      <td>1.000000</td>\n",
              "      <td>149388.247500</td>\n",
              "      <td>0.000000</td>\n",
              "    </tr>\n",
              "    <tr>\n",
              "      <th>max</th>\n",
              "      <td>15815690.000000</td>\n",
              "      <td>850.000000</td>\n",
              "      <td>92.000000</td>\n",
              "      <td>10.000000</td>\n",
              "      <td>250898.090000</td>\n",
              "      <td>4.000000</td>\n",
              "      <td>1.000000</td>\n",
              "      <td>1.000000</td>\n",
              "      <td>199992.480000</td>\n",
              "      <td>1.000000</td>\n",
              "    </tr>\n",
              "  </tbody>\n",
              "</table>\n",
              "</div>"
            ],
            "text/plain": [
              "          customer_id  credit_score          age       tenure       balance  \\\n",
              "count    10000.000000  10000.000000 10000.000000 10000.000000  10000.000000   \n",
              "mean  15690940.569400    650.528800    38.921800     5.012800  76485.889288   \n",
              "std      71936.186123     96.653299    10.487806     2.892174  62397.405202   \n",
              "min   15565701.000000    350.000000    18.000000     0.000000      0.000000   \n",
              "25%   15628528.250000    584.000000    32.000000     3.000000      0.000000   \n",
              "50%   15690738.000000    652.000000    37.000000     5.000000  97198.540000   \n",
              "75%   15753233.750000    718.000000    44.000000     7.000000 127644.240000   \n",
              "max   15815690.000000    850.000000    92.000000    10.000000 250898.090000   \n",
              "\n",
              "       products_number  credit_card  active_member  estimated_salary  \\\n",
              "count     10000.000000 10000.000000   10000.000000      10000.000000   \n",
              "mean          1.530200     0.705500       0.515100     100090.239881   \n",
              "std           0.581654     0.455840       0.499797      57510.492818   \n",
              "min           1.000000     0.000000       0.000000         11.580000   \n",
              "25%           1.000000     0.000000       0.000000      51002.110000   \n",
              "50%           1.000000     1.000000       1.000000     100193.915000   \n",
              "75%           2.000000     1.000000       1.000000     149388.247500   \n",
              "max           4.000000     1.000000       1.000000     199992.480000   \n",
              "\n",
              "             churn  \n",
              "count 10000.000000  \n",
              "mean      0.203700  \n",
              "std       0.402769  \n",
              "min       0.000000  \n",
              "25%       0.000000  \n",
              "50%       0.000000  \n",
              "75%       0.000000  \n",
              "max       1.000000  "
            ]
          },
          "execution_count": 11,
          "metadata": {},
          "output_type": "execute_result"
        }
      ],
      "source": [
        "df.describe()"
      ]
    },
    {
      "cell_type": "markdown",
      "id": "483ad907",
      "metadata": {
        "id": "483ad907"
      },
      "source": [
        "# checking for outliers"
      ]
    },
    {
      "cell_type": "code",
      "execution_count": null,
      "id": "3e6626af",
      "metadata": {
        "id": "3e6626af",
        "outputId": "a1d4815e-8203-410f-ef47-2625cecc0b99"
      },
      "outputs": [
        {
          "data": {
            "text/plain": [
              "<AxesSubplot:>"
            ]
          },
          "execution_count": 12,
          "metadata": {},
          "output_type": "execute_result"
        },
        {
          "data": {
            "image/png": "[encoded data removed]",
            "text/plain": [
              "<Figure size 432x720 with 1 Axes>"
            ]
          },
          "metadata": {},
          "output_type": "display_data"
        }
      ],
      "source": [
        "sns.set(rc={\"figure.figsize\":(6, 10)})\n",
        "df.boxplot('credit_score')"
      ]
    },
    {
      "cell_type": "code",
      "execution_count": null,
      "id": "6edc222d",
      "metadata": {
        "id": "6edc222d",
        "outputId": "4512f02c-0ccc-4ecd-8665-32d2a8839816"
      },
      "outputs": [
        {
          "data": {
            "text/plain": [
              "<AxesSubplot:>"
            ]
          },
          "execution_count": 13,
          "metadata": {},
          "output_type": "execute_result"
        },
        {
          "data": {
            "image/png": "[encoded data removed]",
            "text/plain": [
              "<Figure size 432x360 with 1 Axes>"
            ]
          },
          "metadata": {},
          "output_type": "display_data"
        }
      ],
      "source": [
        "sns.set(rc={\"figure.figsize\":(6, 5)})\n",
        "df.boxplot('balance')"
      ]
    },
    {
      "cell_type": "code",
      "execution_count": null,
      "id": "d11554e0",
      "metadata": {
        "id": "d11554e0",
        "outputId": "4d548b6f-e378-4d59-c544-e4b48bb48ccd"
      },
      "outputs": [
        {
          "data": {
            "text/plain": [
              "<AxesSubplot:>"
            ]
          },
          "execution_count": 14,
          "metadata": {},
          "output_type": "execute_result"
        },
        {
          "data": {
            "image/png": "[encoded data removed]",
            "text/plain": [
              "<Figure size 432x360 with 1 Axes>"
            ]
          },
          "metadata": {},
          "output_type": "display_data"
        }
      ],
      "source": [
        "sns.set(rc={\"figure.figsize\":(6, 5)})\n",
        "df.boxplot('estimated_salary')"
      ]
    },
    {
      "cell_type": "markdown",
      "id": "0a828c9e",
      "metadata": {
        "id": "0a828c9e"
      },
      "source": [
        "# Few Questions?"
      ]
    },
    {
      "cell_type": "markdown",
      "id": "fab15a5f",
      "metadata": {
        "id": "fab15a5f"
      },
      "source": [
        "### 1. Does all the non active member are churn?\n",
        "### 2. How many of non active member churned\n",
        "### 3. Customers having zero balance are very less paid? or highly paid have also not maintained balance?\n",
        "### 4. why the customer has low credit score , credit ustilisation is more than 80% of the card limit them the credit                score will be affected. Hence, here in, the bank can look into and offer an upgradation of card without                        charges or minimal charges to retain the customer.\n",
        "### 5. now these are salaried account hence zero balance is preferred but if the account is non salaried then is                     bank giving any other privileges to retain.\n",
        "### 6. why all the products offered by bank isnot availed by all customers?\n",
        "### 7. are those rest products are only availed by highly salaried people?\n",
        "### 8. customers who all used all the services and products are still the customers are not?\n",
        "### 9. why from germany and spain the customers are less ? its a international bank dataset why is the customer                 count less in these two countries.\n",
        "### 10. is customer aged >60 is the old customer or just for sake of deposit the customer has opened the account?\n",
        "### 11. if a customer has tenure of 10 what is his age? \n",
        "### 12. is a highly paid or less paid person is active ?\n"
      ]
    },
    {
      "cell_type": "markdown",
      "id": "74e81167",
      "metadata": {
        "id": "74e81167"
      },
      "source": [
        "# ANSWERS TO ABOVE"
      ]
    },
    {
      "cell_type": "code",
      "execution_count": null,
      "id": "53661b15",
      "metadata": {
        "id": "53661b15"
      },
      "outputs": [],
      "source": [
        "## 1. Does all the non active member are churn?"
      ]
    },
    {
      "cell_type": "code",
      "execution_count": null,
      "id": "94e342ef",
      "metadata": {
        "id": "94e342ef"
      },
      "outputs": [],
      "source": [
        "df_nonactive = df[((df['active_member'] == 0))]"
      ]
    },
    {
      "cell_type": "code",
      "execution_count": null,
      "id": "c7950c12",
      "metadata": {
        "id": "c7950c12",
        "outputId": "70f61db7-3eba-46db-bf49-c020505707b7"
      },
      "outputs": [
        {
          "data": {
            "text/html": [
              "<div>\n",
              "<style scoped>\n",
              "    .dataframe tbody tr th:only-of-type {\n",
              "        vertical-align: middle;\n",
              "    }\n",
              "\n",
              "    .dataframe tbody tr th {\n",
              "        vertical-align: top;\n",
              "    }\n",
              "\n",
              "    .dataframe thead th {\n",
              "        text-align: right;\n",
              "    }\n",
              "</style>\n",
              "<table border=\"1\" class=\"dataframe\">\n",
              "  <thead>\n",
              "    <tr style=\"text-align: right;\">\n",
              "      <th></th>\n",
              "      <th>churn</th>\n",
              "    </tr>\n",
              "    <tr>\n",
              "      <th>active_member</th>\n",
              "      <th></th>\n",
              "    </tr>\n",
              "  </thead>\n",
              "  <tbody>\n",
              "    <tr>\n",
              "      <th>0</th>\n",
              "      <td>1302</td>\n",
              "    </tr>\n",
              "  </tbody>\n",
              "</table>\n",
              "</div>"
            ],
            "text/plain": [
              "               churn\n",
              "active_member       \n",
              "0               1302"
            ]
          },
          "execution_count": 17,
          "metadata": {},
          "output_type": "execute_result"
        }
      ],
      "source": [
        "pivot_1 = df_nonactive.pivot_table(index =['active_member'],\n",
        "                       values =['churn'],\n",
        "                       aggfunc ='sum')\n",
        "pivot_1"
      ]
    },
    {
      "cell_type": "code",
      "execution_count": null,
      "id": "de16df86",
      "metadata": {
        "id": "de16df86",
        "outputId": "a46af31c-65fe-4fe4-af99-bf119fa4a21d"
      },
      "outputs": [
        {
          "name": "stdout",
          "output_type": "stream",
          "text": [
            "<class 'pandas.core.frame.DataFrame'>\n",
            "Int64Index: 4849 entries, 2 to 9999\n",
            "Data columns (total 12 columns):\n",
            " #   Column            Non-Null Count  Dtype  \n",
            "---  ------            --------------  -----  \n",
            " 0   customer_id       4849 non-null   int64  \n",
            " 1   credit_score      4849 non-null   int64  \n",
            " 2   country           4849 non-null   object \n",
            " 3   gender            4849 non-null   object \n",
            " 4   age               4849 non-null   int64  \n",
            " 5   tenure            4849 non-null   int64  \n",
            " 6   balance           4849 non-null   float64\n",
            " 7   products_number   4849 non-null   int64  \n",
            " 8   credit_card       4849 non-null   int64  \n",
            " 9   active_member     4849 non-null   int64  \n",
            " 10  estimated_salary  4849 non-null   float64\n",
            " 11  churn             4849 non-null   int64  \n",
            "dtypes: float64(2), int64(8), object(2)\n",
            "memory usage: 492.5+ KB\n"
          ]
        }
      ],
      "source": [
        "df_nonactive.info()"
      ]
    },
    {
      "cell_type": "code",
      "execution_count": null,
      "id": "a3a72cf1",
      "metadata": {
        "id": "a3a72cf1"
      },
      "outputs": [],
      "source": [
        "# No all non active members didnot get churned"
      ]
    },
    {
      "cell_type": "code",
      "execution_count": null,
      "id": "2ed1b026",
      "metadata": {
        "id": "2ed1b026"
      },
      "outputs": [],
      "source": [
        "# 2. How many of non active member churned\n",
        "# Out of total 4849 nonactive members 1302 members got churned. 26 % of total non active mmber got churned"
      ]
    },
    {
      "cell_type": "code",
      "execution_count": null,
      "id": "695c09e0",
      "metadata": {
        "id": "695c09e0"
      },
      "outputs": [],
      "source": [
        "# 3. Customers having zero balance are very less paid? or highly paid have also not maintained balance?"
      ]
    },
    {
      "cell_type": "code",
      "execution_count": null,
      "id": "9a7866e0",
      "metadata": {
        "id": "9a7866e0"
      },
      "outputs": [],
      "source": [
        "df_balance_0 = df[((df['balance'] == 0))]"
      ]
    },
    {
      "cell_type": "code",
      "execution_count": null,
      "id": "0f134fca",
      "metadata": {
        "id": "0f134fca",
        "outputId": "713987a1-6ac6-4881-bd15-2557a1c11eb6"
      },
      "outputs": [
        {
          "name": "stdout",
          "output_type": "stream",
          "text": [
            "<class 'pandas.core.frame.DataFrame'>\n",
            "Int64Index: 3617 entries, 0 to 9997\n",
            "Data columns (total 12 columns):\n",
            " #   Column            Non-Null Count  Dtype  \n",
            "---  ------            --------------  -----  \n",
            " 0   customer_id       3617 non-null   int64  \n",
            " 1   credit_score      3617 non-null   int64  \n",
            " 2   country           3617 non-null   object \n",
            " 3   gender            3617 non-null   object \n",
            " 4   age               3617 non-null   int64  \n",
            " 5   tenure            3617 non-null   int64  \n",
            " 6   balance           3617 non-null   float64\n",
            " 7   products_number   3617 non-null   int64  \n",
            " 8   credit_card       3617 non-null   int64  \n",
            " 9   active_member     3617 non-null   int64  \n",
            " 10  estimated_salary  3617 non-null   float64\n",
            " 11  churn             3617 non-null   int64  \n",
            "dtypes: float64(2), int64(8), object(2)\n",
            "memory usage: 367.4+ KB\n"
          ]
        }
      ],
      "source": [
        "df_balance_0.info()"
      ]
    },
    {
      "cell_type": "code",
      "execution_count": null,
      "id": "3b646403",
      "metadata": {
        "id": "3b646403",
        "outputId": "21d7fbfb-4fa2-4090-a187-5dd1aef879e3"
      },
      "outputs": [
        {
          "data": {
            "text/html": [
              "<div>\n",
              "<style scoped>\n",
              "    .dataframe tbody tr th:only-of-type {\n",
              "        vertical-align: middle;\n",
              "    }\n",
              "\n",
              "    .dataframe tbody tr th {\n",
              "        vertical-align: top;\n",
              "    }\n",
              "\n",
              "    .dataframe thead th {\n",
              "        text-align: right;\n",
              "    }\n",
              "</style>\n",
              "<table border=\"1\" class=\"dataframe\">\n",
              "  <thead>\n",
              "    <tr style=\"text-align: right;\">\n",
              "      <th></th>\n",
              "      <th>churn</th>\n",
              "    </tr>\n",
              "    <tr>\n",
              "      <th>active_member</th>\n",
              "      <th></th>\n",
              "    </tr>\n",
              "  </thead>\n",
              "  <tbody>\n",
              "    <tr>\n",
              "      <th>0</th>\n",
              "      <td>320</td>\n",
              "    </tr>\n",
              "    <tr>\n",
              "      <th>1</th>\n",
              "      <td>180</td>\n",
              "    </tr>\n",
              "  </tbody>\n",
              "</table>\n",
              "</div>"
            ],
            "text/plain": [
              "               churn\n",
              "active_member       \n",
              "0                320\n",
              "1                180"
            ]
          },
          "execution_count": 24,
          "metadata": {},
          "output_type": "execute_result"
        }
      ],
      "source": [
        "pivot_2 = df_balance_0.pivot_table(index =['active_member'],\n",
        "                       values =['churn'],\n",
        "                       aggfunc ='sum')\n",
        "pivot_2"
      ]
    },
    {
      "cell_type": "code",
      "execution_count": null,
      "id": "8a38bde0",
      "metadata": {
        "id": "8a38bde0"
      },
      "outputs": [],
      "source": [
        "# 3617 maintained zero balance.  36% of total customers have zero balance. \n",
        "# Out of 3617, 500 got churned. 13.8% who maintained zero balance got churned. (out of 500, 320 were non active.)\n",
        "# theres no data how long they have been keeping a balance zero."
      ]
    },
    {
      "cell_type": "code",
      "execution_count": null,
      "id": "18ab6d99",
      "metadata": {
        "id": "18ab6d99"
      },
      "outputs": [],
      "source": [
        "df_balance_0_less_salary = df_balance_0[((df_balance_0['estimated_salary'] < 51002.110000))]"
      ]
    },
    {
      "cell_type": "code",
      "execution_count": null,
      "id": "0da855ab",
      "metadata": {
        "id": "0da855ab"
      },
      "outputs": [],
      "source": [
        "# 25% of total customers estimated salary was found be 50000,\n",
        "# hence the less salaried person who are maintaining zero balance are 927 in number.\n",
        "# 25.16% are less salaried of zero balance maintaining customers (927/3617)\n",
        "# 0.09% of total customers who maintain zero balance are less salaried.(927/10000)\n",
        "# 2690 are highly paid with maintaining zero balance.(3617-927). (2690/3617)74.37 are well salaried.\n",
        "# 0.269 ~~ 27% of total customes who are well salaried are still maintaining zero balance.(2690/10000)"
      ]
    },
    {
      "cell_type": "code",
      "execution_count": null,
      "id": "7fba8f57",
      "metadata": {
        "id": "7fba8f57",
        "outputId": "ef99cf91-48e0-4675-c317-7f64bffd8828"
      },
      "outputs": [
        {
          "name": "stdout",
          "output_type": "stream",
          "text": [
            "<class 'pandas.core.frame.DataFrame'>\n",
            "Int64Index: 927 entries, 6 to 9997\n",
            "Data columns (total 12 columns):\n",
            " #   Column            Non-Null Count  Dtype  \n",
            "---  ------            --------------  -----  \n",
            " 0   customer_id       927 non-null    int64  \n",
            " 1   credit_score      927 non-null    int64  \n",
            " 2   country           927 non-null    object \n",
            " 3   gender            927 non-null    object \n",
            " 4   age               927 non-null    int64  \n",
            " 5   tenure            927 non-null    int64  \n",
            " 6   balance           927 non-null    float64\n",
            " 7   products_number   927 non-null    int64  \n",
            " 8   credit_card       927 non-null    int64  \n",
            " 9   active_member     927 non-null    int64  \n",
            " 10  estimated_salary  927 non-null    float64\n",
            " 11  churn             927 non-null    int64  \n",
            "dtypes: float64(2), int64(8), object(2)\n",
            "memory usage: 94.1+ KB\n"
          ]
        }
      ],
      "source": [
        "df_balance_0_less_salary.info()"
      ]
    },
    {
      "cell_type": "code",
      "execution_count": null,
      "id": "4c8b2f07",
      "metadata": {
        "id": "4c8b2f07",
        "outputId": "195a8c16-214c-4d41-b90e-1e6fcc8bf13d"
      },
      "outputs": [
        {
          "data": {
            "text/html": [
              "<div>\n",
              "<style scoped>\n",
              "    .dataframe tbody tr th:only-of-type {\n",
              "        vertical-align: middle;\n",
              "    }\n",
              "\n",
              "    .dataframe tbody tr th {\n",
              "        vertical-align: top;\n",
              "    }\n",
              "\n",
              "    .dataframe thead th {\n",
              "        text-align: right;\n",
              "    }\n",
              "</style>\n",
              "<table border=\"1\" class=\"dataframe\">\n",
              "  <thead>\n",
              "    <tr style=\"text-align: right;\">\n",
              "      <th></th>\n",
              "      <th>churn</th>\n",
              "    </tr>\n",
              "    <tr>\n",
              "      <th>active_member</th>\n",
              "      <th></th>\n",
              "    </tr>\n",
              "  </thead>\n",
              "  <tbody>\n",
              "    <tr>\n",
              "      <th>0</th>\n",
              "      <td>82</td>\n",
              "    </tr>\n",
              "    <tr>\n",
              "      <th>1</th>\n",
              "      <td>39</td>\n",
              "    </tr>\n",
              "  </tbody>\n",
              "</table>\n",
              "</div>"
            ],
            "text/plain": [
              "               churn\n",
              "active_member       \n",
              "0                 82\n",
              "1                 39"
            ]
          },
          "execution_count": 29,
          "metadata": {},
          "output_type": "execute_result"
        }
      ],
      "source": [
        "pivot_3 = df_balance_0_less_salary.pivot_table(index =['active_member'],\n",
        "                       values =['churn'],\n",
        "                       aggfunc ='sum')\n",
        "pivot_3"
      ]
    },
    {
      "cell_type": "code",
      "execution_count": null,
      "id": "36128f60",
      "metadata": {
        "id": "36128f60"
      },
      "outputs": [],
      "source": [
        "# from less salaried persons 82 were nonactive who got churned.\n",
        "# 82/927 = 0.088 , 8.8% were non active from less salaried\n",
        "# 0.82 % from total customer count"
      ]
    },
    {
      "cell_type": "code",
      "execution_count": null,
      "id": "3646bc2e",
      "metadata": {
        "id": "3646bc2e"
      },
      "outputs": [],
      "source": [
        "# 4. why the customer has low credit score , credit ustilisation is more than 80% of the card limit them the credit score will be affected.\n",
        "# Hence, here in,the bank can look into and offer an upgradation of card without charges \n",
        "# or minimal charges to retain the customer."
      ]
    },
    {
      "cell_type": "code",
      "execution_count": null,
      "id": "9eca50e6",
      "metadata": {
        "id": "9eca50e6"
      },
      "outputs": [],
      "source": [
        "df_low_creditscore = df[((df['credit_score'] <=650))]"
      ]
    },
    {
      "cell_type": "code",
      "execution_count": null,
      "id": "3bc4d1a2",
      "metadata": {
        "id": "3bc4d1a2",
        "outputId": "4703d87b-e97d-42f3-984b-4376a280c5a9"
      },
      "outputs": [
        {
          "name": "stdout",
          "output_type": "stream",
          "text": [
            "<class 'pandas.core.frame.DataFrame'>\n",
            "Int64Index: 4937 entries, 0 to 9996\n",
            "Data columns (total 12 columns):\n",
            " #   Column            Non-Null Count  Dtype  \n",
            "---  ------            --------------  -----  \n",
            " 0   customer_id       4937 non-null   int64  \n",
            " 1   credit_score      4937 non-null   int64  \n",
            " 2   country           4937 non-null   object \n",
            " 3   gender            4937 non-null   object \n",
            " 4   age               4937 non-null   int64  \n",
            " 5   tenure            4937 non-null   int64  \n",
            " 6   balance           4937 non-null   float64\n",
            " 7   products_number   4937 non-null   int64  \n",
            " 8   credit_card       4937 non-null   int64  \n",
            " 9   active_member     4937 non-null   int64  \n",
            " 10  estimated_salary  4937 non-null   float64\n",
            " 11  churn             4937 non-null   int64  \n",
            "dtypes: float64(2), int64(8), object(2)\n",
            "memory usage: 501.4+ KB\n"
          ]
        }
      ],
      "source": [
        "df_low_creditscore.info()"
      ]
    },
    {
      "cell_type": "code",
      "execution_count": null,
      "id": "4d6d459f",
      "metadata": {
        "id": "4d6d459f",
        "outputId": "6dbcaf21-e743-47e2-e93a-de5c8ade0096"
      },
      "outputs": [
        {
          "data": {
            "text/html": [
              "<div>\n",
              "<style scoped>\n",
              "    .dataframe tbody tr th:only-of-type {\n",
              "        vertical-align: middle;\n",
              "    }\n",
              "\n",
              "    .dataframe tbody tr th {\n",
              "        vertical-align: top;\n",
              "    }\n",
              "\n",
              "    .dataframe thead th {\n",
              "        text-align: right;\n",
              "    }\n",
              "</style>\n",
              "<table border=\"1\" class=\"dataframe\">\n",
              "  <thead>\n",
              "    <tr style=\"text-align: right;\">\n",
              "      <th></th>\n",
              "      <th>credit_score</th>\n",
              "    </tr>\n",
              "    <tr>\n",
              "      <th>credit_card</th>\n",
              "      <th></th>\n",
              "    </tr>\n",
              "  </thead>\n",
              "  <tbody>\n",
              "    <tr>\n",
              "      <th>0</th>\n",
              "      <td>570.715577</td>\n",
              "    </tr>\n",
              "    <tr>\n",
              "      <th>1</th>\n",
              "      <td>571.331523</td>\n",
              "    </tr>\n",
              "  </tbody>\n",
              "</table>\n",
              "</div>"
            ],
            "text/plain": [
              "             credit_score\n",
              "credit_card              \n",
              "0              570.715577\n",
              "1              571.331523"
            ]
          },
          "execution_count": 34,
          "metadata": {},
          "output_type": "execute_result"
        }
      ],
      "source": [
        "pivot_4 = df_low_creditscore.pivot_table(index =['credit_card'],\n",
        "                       values =['credit_score'],\n",
        "                       aggfunc ='mean')\n",
        "pivot_4"
      ]
    },
    {
      "cell_type": "code",
      "execution_count": null,
      "id": "a8034744",
      "metadata": {
        "id": "a8034744"
      },
      "outputs": [],
      "source": [
        "df_low_creditscore_creditcard_1 = df_low_creditscore[((df_low_creditscore['credit_card'] == 1))]"
      ]
    },
    {
      "cell_type": "code",
      "execution_count": null,
      "id": "82756b46",
      "metadata": {
        "id": "82756b46",
        "outputId": "9d0c929a-ac03-4472-cb20-6d6c1a6eb8e1"
      },
      "outputs": [
        {
          "name": "stdout",
          "output_type": "stream",
          "text": [
            "<class 'pandas.core.frame.DataFrame'>\n",
            "Int64Index: 3499 entries, 0 to 9996\n",
            "Data columns (total 12 columns):\n",
            " #   Column            Non-Null Count  Dtype  \n",
            "---  ------            --------------  -----  \n",
            " 0   customer_id       3499 non-null   int64  \n",
            " 1   credit_score      3499 non-null   int64  \n",
            " 2   country           3499 non-null   object \n",
            " 3   gender            3499 non-null   object \n",
            " 4   age               3499 non-null   int64  \n",
            " 5   tenure            3499 non-null   int64  \n",
            " 6   balance           3499 non-null   float64\n",
            " 7   products_number   3499 non-null   int64  \n",
            " 8   credit_card       3499 non-null   int64  \n",
            " 9   active_member     3499 non-null   int64  \n",
            " 10  estimated_salary  3499 non-null   float64\n",
            " 11  churn             3499 non-null   int64  \n",
            "dtypes: float64(2), int64(8), object(2)\n",
            "memory usage: 355.4+ KB\n"
          ]
        }
      ],
      "source": [
        "df_low_creditscore_creditcard_1.info()"
      ]
    },
    {
      "cell_type": "code",
      "execution_count": null,
      "id": "8a25c407",
      "metadata": {
        "id": "8a25c407"
      },
      "outputs": [],
      "source": [
        "# 4937 has low credit score out that 3499 are using credit cards\n",
        "# (3499/4937)70% are using credit card, hence the usage data of credit card, default payment, the card limit data if it is exceeding required.\n",
        "# 21% (743/3499) of total low credit score and using credit card got churned. not to further loose these 2756 customers offers can be given."
      ]
    },
    {
      "cell_type": "code",
      "execution_count": null,
      "id": "321f6ede",
      "metadata": {
        "id": "321f6ede",
        "outputId": "023126c1-e3cb-4396-c26f-3e0ccb6bbd87"
      },
      "outputs": [
        {
          "data": {
            "text/html": [
              "<div>\n",
              "<style scoped>\n",
              "    .dataframe tbody tr th:only-of-type {\n",
              "        vertical-align: middle;\n",
              "    }\n",
              "\n",
              "    .dataframe tbody tr th {\n",
              "        vertical-align: top;\n",
              "    }\n",
              "\n",
              "    .dataframe thead th {\n",
              "        text-align: right;\n",
              "    }\n",
              "</style>\n",
              "<table border=\"1\" class=\"dataframe\">\n",
              "  <thead>\n",
              "    <tr style=\"text-align: right;\">\n",
              "      <th></th>\n",
              "      <th>credit_card</th>\n",
              "    </tr>\n",
              "    <tr>\n",
              "      <th>churn</th>\n",
              "      <th></th>\n",
              "    </tr>\n",
              "  </thead>\n",
              "  <tbody>\n",
              "    <tr>\n",
              "      <th>0</th>\n",
              "      <td>2756</td>\n",
              "    </tr>\n",
              "    <tr>\n",
              "      <th>1</th>\n",
              "      <td>743</td>\n",
              "    </tr>\n",
              "  </tbody>\n",
              "</table>\n",
              "</div>"
            ],
            "text/plain": [
              "       credit_card\n",
              "churn             \n",
              "0             2756\n",
              "1              743"
            ]
          },
          "execution_count": 38,
          "metadata": {},
          "output_type": "execute_result"
        }
      ],
      "source": [
        "pivot_5 = df_low_creditscore_creditcard_1.pivot_table(index =['churn'],\n",
        "                       values =['credit_card'],\n",
        "                       aggfunc ='sum')\n",
        "pivot_5"
      ]
    },
    {
      "cell_type": "code",
      "execution_count": null,
      "id": "9138474f",
      "metadata": {
        "id": "9138474f"
      },
      "outputs": [],
      "source": [
        "# customers with or without credit card the credit score is same.\n",
        "# "
      ]
    },
    {
      "cell_type": "code",
      "execution_count": null,
      "id": "7c3c2522",
      "metadata": {
        "id": "7c3c2522"
      },
      "outputs": [],
      "source": [
        "# 5. now these are salaried account\n",
        "# hence zero balance is preferred but if the account is non salaried then is bank giving any other privileges to retain.\n",
        "# no data to answer this."
      ]
    },
    {
      "cell_type": "code",
      "execution_count": null,
      "id": "e676856b",
      "metadata": {
        "id": "e676856b"
      },
      "outputs": [],
      "source": [
        "# 6. why all the products offered by bank isnot availed by all customers?\n",
        "# if we consider the type of product numbering then 1 and 2 is used widely and 3 and 4th is used less\n",
        "# or if we consider the number of products offered by the bank then it is 2 products are used more all 3 rd and 4th is not used much."
      ]
    },
    {
      "cell_type": "code",
      "execution_count": null,
      "id": "f3139b0d",
      "metadata": {
        "id": "f3139b0d"
      },
      "outputs": [],
      "source": [
        "df_product_number_3n4 = df[((df['products_number'] >= 3))]"
      ]
    },
    {
      "cell_type": "code",
      "execution_count": null,
      "id": "74725d9c",
      "metadata": {
        "id": "74725d9c",
        "outputId": "0a3171e1-e7fe-4429-9c74-5a31ad1d0ba7"
      },
      "outputs": [
        {
          "name": "stdout",
          "output_type": "stream",
          "text": [
            "<class 'pandas.core.frame.DataFrame'>\n",
            "Int64Index: 326 entries, 2 to 9895\n",
            "Data columns (total 12 columns):\n",
            " #   Column            Non-Null Count  Dtype  \n",
            "---  ------            --------------  -----  \n",
            " 0   customer_id       326 non-null    int64  \n",
            " 1   credit_score      326 non-null    int64  \n",
            " 2   country           326 non-null    object \n",
            " 3   gender            326 non-null    object \n",
            " 4   age               326 non-null    int64  \n",
            " 5   tenure            326 non-null    int64  \n",
            " 6   balance           326 non-null    float64\n",
            " 7   products_number   326 non-null    int64  \n",
            " 8   credit_card       326 non-null    int64  \n",
            " 9   active_member     326 non-null    int64  \n",
            " 10  estimated_salary  326 non-null    float64\n",
            " 11  churn             326 non-null    int64  \n",
            "dtypes: float64(2), int64(8), object(2)\n",
            "memory usage: 33.1+ KB\n"
          ]
        }
      ],
      "source": [
        "df_product_number_3n4.info()"
      ]
    },
    {
      "cell_type": "code",
      "execution_count": null,
      "id": "b2c1beb6",
      "metadata": {
        "id": "b2c1beb6",
        "outputId": "b63c9b85-056a-4c12-d0d2-d6e7df27d209"
      },
      "outputs": [
        {
          "data": {
            "text/html": [
              "<div>\n",
              "<style scoped>\n",
              "    .dataframe tbody tr th:only-of-type {\n",
              "        vertical-align: middle;\n",
              "    }\n",
              "\n",
              "    .dataframe tbody tr th {\n",
              "        vertical-align: top;\n",
              "    }\n",
              "\n",
              "    .dataframe thead th {\n",
              "        text-align: right;\n",
              "    }\n",
              "</style>\n",
              "<table border=\"1\" class=\"dataframe\">\n",
              "  <thead>\n",
              "    <tr style=\"text-align: right;\">\n",
              "      <th></th>\n",
              "      <th></th>\n",
              "      <th>credit_card</th>\n",
              "    </tr>\n",
              "    <tr>\n",
              "      <th>churn</th>\n",
              "      <th>products_number</th>\n",
              "      <th></th>\n",
              "    </tr>\n",
              "  </thead>\n",
              "  <tbody>\n",
              "    <tr>\n",
              "      <th>0</th>\n",
              "      <th>3</th>\n",
              "      <td>34</td>\n",
              "    </tr>\n",
              "    <tr>\n",
              "      <th rowspan=\"2\" valign=\"top\">1</th>\n",
              "      <th>3</th>\n",
              "      <td>156</td>\n",
              "    </tr>\n",
              "    <tr>\n",
              "      <th>4</th>\n",
              "      <td>41</td>\n",
              "    </tr>\n",
              "  </tbody>\n",
              "</table>\n",
              "</div>"
            ],
            "text/plain": [
              "                       credit_card\n",
              "churn products_number             \n",
              "0     3                         34\n",
              "1     3                        156\n",
              "      4                         41"
            ]
          },
          "execution_count": 44,
          "metadata": {},
          "output_type": "execute_result"
        }
      ],
      "source": [
        "pivot_6 = df_product_number_3n4.pivot_table(index =['churn','products_number'],\n",
        "                       values =['credit_card'],\n",
        "                       aggfunc ='sum')\n",
        "pivot_6"
      ]
    },
    {
      "cell_type": "code",
      "execution_count": null,
      "id": "54e91ea3",
      "metadata": {
        "id": "54e91ea3",
        "outputId": "99d66209-2a0b-4c82-e722-893f53c50f63"
      },
      "outputs": [
        {
          "data": {
            "text/plain": [
              "3    266\n",
              "4     60\n",
              "Name: products_number, dtype: int64"
            ]
          },
          "execution_count": 45,
          "metadata": {},
          "output_type": "execute_result"
        }
      ],
      "source": [
        "df_product_number_3n4.products_number.value_counts()"
      ]
    },
    {
      "cell_type": "code",
      "execution_count": null,
      "id": "07166b57",
      "metadata": {
        "id": "07166b57",
        "outputId": "5287e920-e933-435a-e306-654a75d1be04"
      },
      "outputs": [
        {
          "data": {
            "text/html": [
              "<div>\n",
              "<style scoped>\n",
              "    .dataframe tbody tr th:only-of-type {\n",
              "        vertical-align: middle;\n",
              "    }\n",
              "\n",
              "    .dataframe tbody tr th {\n",
              "        vertical-align: top;\n",
              "    }\n",
              "\n",
              "    .dataframe thead th {\n",
              "        text-align: right;\n",
              "    }\n",
              "</style>\n",
              "<table border=\"1\" class=\"dataframe\">\n",
              "  <thead>\n",
              "    <tr style=\"text-align: right;\">\n",
              "      <th></th>\n",
              "      <th>customer_id</th>\n",
              "      <th>credit_score</th>\n",
              "      <th>age</th>\n",
              "      <th>tenure</th>\n",
              "      <th>balance</th>\n",
              "      <th>products_number</th>\n",
              "      <th>credit_card</th>\n",
              "      <th>active_member</th>\n",
              "      <th>estimated_salary</th>\n",
              "      <th>churn</th>\n",
              "    </tr>\n",
              "  </thead>\n",
              "  <tbody>\n",
              "    <tr>\n",
              "      <th>count</th>\n",
              "      <td>326.000000</td>\n",
              "      <td>326.000000</td>\n",
              "      <td>326.000000</td>\n",
              "      <td>326.000000</td>\n",
              "      <td>326.000000</td>\n",
              "      <td>326.000000</td>\n",
              "      <td>326.000000</td>\n",
              "      <td>326.000000</td>\n",
              "      <td>326.000000</td>\n",
              "      <td>326.000000</td>\n",
              "    </tr>\n",
              "    <tr>\n",
              "      <th>mean</th>\n",
              "      <td>15694947.625767</td>\n",
              "      <td>649.113497</td>\n",
              "      <td>43.653374</td>\n",
              "      <td>5.058282</td>\n",
              "      <td>78821.789571</td>\n",
              "      <td>3.184049</td>\n",
              "      <td>0.708589</td>\n",
              "      <td>0.435583</td>\n",
              "      <td>104400.141503</td>\n",
              "      <td>0.858896</td>\n",
              "    </tr>\n",
              "    <tr>\n",
              "      <th>std</th>\n",
              "      <td>73337.642601</td>\n",
              "      <td>96.200413</td>\n",
              "      <td>10.148108</td>\n",
              "      <td>2.889713</td>\n",
              "      <td>62283.191084</td>\n",
              "      <td>0.388120</td>\n",
              "      <td>0.455111</td>\n",
              "      <td>0.496595</td>\n",
              "      <td>55759.764947</td>\n",
              "      <td>0.348664</td>\n",
              "    </tr>\n",
              "    <tr>\n",
              "      <th>min</th>\n",
              "      <td>15566312.000000</td>\n",
              "      <td>358.000000</td>\n",
              "      <td>21.000000</td>\n",
              "      <td>0.000000</td>\n",
              "      <td>0.000000</td>\n",
              "      <td>3.000000</td>\n",
              "      <td>0.000000</td>\n",
              "      <td>0.000000</td>\n",
              "      <td>3440.470000</td>\n",
              "      <td>0.000000</td>\n",
              "    </tr>\n",
              "    <tr>\n",
              "      <th>25%</th>\n",
              "      <td>15633533.250000</td>\n",
              "      <td>587.250000</td>\n",
              "      <td>37.000000</td>\n",
              "      <td>3.000000</td>\n",
              "      <td>0.000000</td>\n",
              "      <td>3.000000</td>\n",
              "      <td>0.000000</td>\n",
              "      <td>0.000000</td>\n",
              "      <td>64344.800000</td>\n",
              "      <td>1.000000</td>\n",
              "    </tr>\n",
              "    <tr>\n",
              "      <th>50%</th>\n",
              "      <td>15692261.000000</td>\n",
              "      <td>650.000000</td>\n",
              "      <td>43.000000</td>\n",
              "      <td>5.000000</td>\n",
              "      <td>101628.675000</td>\n",
              "      <td>3.000000</td>\n",
              "      <td>1.000000</td>\n",
              "      <td>0.000000</td>\n",
              "      <td>103874.670000</td>\n",
              "      <td>1.000000</td>\n",
              "    </tr>\n",
              "    <tr>\n",
              "      <th>75%</th>\n",
              "      <td>15757703.000000</td>\n",
              "      <td>711.000000</td>\n",
              "      <td>50.000000</td>\n",
              "      <td>8.000000</td>\n",
              "      <td>128743.610000</td>\n",
              "      <td>3.000000</td>\n",
              "      <td>1.000000</td>\n",
              "      <td>1.000000</td>\n",
              "      <td>151150.967500</td>\n",
              "      <td>1.000000</td>\n",
              "    </tr>\n",
              "    <tr>\n",
              "      <th>max</th>\n",
              "      <td>15815490.000000</td>\n",
              "      <td>850.000000</td>\n",
              "      <td>77.000000</td>\n",
              "      <td>10.000000</td>\n",
              "      <td>250898.090000</td>\n",
              "      <td>4.000000</td>\n",
              "      <td>1.000000</td>\n",
              "      <td>1.000000</td>\n",
              "      <td>199357.240000</td>\n",
              "      <td>1.000000</td>\n",
              "    </tr>\n",
              "  </tbody>\n",
              "</table>\n",
              "</div>"
            ],
            "text/plain": [
              "          customer_id  credit_score        age     tenure       balance  \\\n",
              "count      326.000000    326.000000 326.000000 326.000000    326.000000   \n",
              "mean  15694947.625767    649.113497  43.653374   5.058282  78821.789571   \n",
              "std      73337.642601     96.200413  10.148108   2.889713  62283.191084   \n",
              "min   15566312.000000    358.000000  21.000000   0.000000      0.000000   \n",
              "25%   15633533.250000    587.250000  37.000000   3.000000      0.000000   \n",
              "50%   15692261.000000    650.000000  43.000000   5.000000 101628.675000   \n",
              "75%   15757703.000000    711.000000  50.000000   8.000000 128743.610000   \n",
              "max   15815490.000000    850.000000  77.000000  10.000000 250898.090000   \n",
              "\n",
              "       products_number  credit_card  active_member  estimated_salary  \\\n",
              "count       326.000000   326.000000     326.000000        326.000000   \n",
              "mean          3.184049     0.708589       0.435583     104400.141503   \n",
              "std           0.388120     0.455111       0.496595      55759.764947   \n",
              "min           3.000000     0.000000       0.000000       3440.470000   \n",
              "25%           3.000000     0.000000       0.000000      64344.800000   \n",
              "50%           3.000000     1.000000       0.000000     103874.670000   \n",
              "75%           3.000000     1.000000       1.000000     151150.967500   \n",
              "max           4.000000     1.000000       1.000000     199357.240000   \n",
              "\n",
              "           churn  \n",
              "count 326.000000  \n",
              "mean    0.858896  \n",
              "std     0.348664  \n",
              "min     0.000000  \n",
              "25%     1.000000  \n",
              "50%     1.000000  \n",
              "75%     1.000000  \n",
              "max     1.000000  "
            ]
          },
          "execution_count": 46,
          "metadata": {},
          "output_type": "execute_result"
        }
      ],
      "source": [
        "df_product_number_3n4.describe()"
      ]
    },
    {
      "cell_type": "code",
      "execution_count": null,
      "id": "6195d2db",
      "metadata": {
        "id": "6195d2db",
        "outputId": "856ead7b-e513-4385-e610-e26531f7554c"
      },
      "outputs": [
        {
          "data": {
            "text/plain": [
              "0    184\n",
              "1    142\n",
              "Name: active_member, dtype: int64"
            ]
          },
          "execution_count": 47,
          "metadata": {},
          "output_type": "execute_result"
        }
      ],
      "source": [
        "df_product_number_3n4.active_member.value_counts()"
      ]
    },
    {
      "cell_type": "code",
      "execution_count": null,
      "id": "07fcd074",
      "metadata": {
        "id": "07fcd074",
        "outputId": "9a8f856c-5af4-485b-a099-3ce16cc7b64c"
      },
      "outputs": [
        {
          "data": {
            "text/plain": [
              "1    280\n",
              "0     46\n",
              "Name: churn, dtype: int64"
            ]
          },
          "execution_count": 48,
          "metadata": {},
          "output_type": "execute_result"
        }
      ],
      "source": [
        "df_product_number_3n4.churn.value_counts()"
      ]
    },
    {
      "cell_type": "code",
      "execution_count": null,
      "id": "118712cb",
      "metadata": {
        "id": "118712cb"
      },
      "outputs": [],
      "source": [
        "# 326 customers uses all 3 and 4 products.\n",
        "# 60 customers uses all four products.\n",
        "# all products availed at the age of 21\n",
        "# services availed by the customers are having less slary of 64k (25% of customers)\n",
        "# even availing all the services nearly about 3 to 4, 184 are non active (56% are non active means the products offered are not that great to retain customers)\n",
        "# total 60 customers are availing all the 4 products but still 20 of them got churned.. and the customers using all the 3 products almost all got churned.\n",
        "#(280/326) 85.88% of customers using all 3 and 4 products are still not statisfied.. either the 3rd or 4th products offered are not that great.\n",
        "# 2.8% of customers got churned even using all the products.\n",
        "# may be the bank has many products but customers using all 4 services are just 60 ,, it seems even more services availed number is very niche.\n",
        "# the products are not reached to the customers properly.\n",
        "# "
      ]
    },
    {
      "cell_type": "code",
      "execution_count": null,
      "id": "b4319351",
      "metadata": {
        "id": "b4319351"
      },
      "outputs": [],
      "source": [
        "# 7. are those rest products are only availed by highly salaried people?\n",
        "# no the mean salary of these customers is found be 1lac hence it is not that it is availed by high salaried people"
      ]
    },
    {
      "cell_type": "code",
      "execution_count": null,
      "id": "fdecf5f7",
      "metadata": {
        "id": "fdecf5f7"
      },
      "outputs": [],
      "source": [
        "# 8. customers who all used all the services and products are still the customers are not?\n",
        "# answered above"
      ]
    },
    {
      "cell_type": "code",
      "execution_count": null,
      "id": "a90baeff",
      "metadata": {
        "id": "a90baeff"
      },
      "outputs": [],
      "source": [
        "# 9. why from germany and spain the customers are less ? \n",
        "# its a international bank dataset why is the customer count less in these two countries."
      ]
    },
    {
      "cell_type": "code",
      "execution_count": null,
      "id": "49d08d65",
      "metadata": {
        "id": "49d08d65"
      },
      "outputs": [],
      "source": [
        "# 10. is customer aged >60 is the old customer or just for sake of deposit the customer has opened the account?"
      ]
    },
    {
      "cell_type": "code",
      "execution_count": null,
      "id": "5121e967",
      "metadata": {
        "id": "5121e967"
      },
      "outputs": [],
      "source": [
        "df_agemorethan60 = df[((df['age'] > 60))]"
      ]
    },
    {
      "cell_type": "code",
      "execution_count": null,
      "id": "5dbd3c9f",
      "metadata": {
        "id": "5dbd3c9f",
        "outputId": "c2588000-5dc7-4e44-e79a-81b804e0ad3b"
      },
      "outputs": [
        {
          "name": "stdout",
          "output_type": "stream",
          "text": [
            "<class 'pandas.core.frame.DataFrame'>\n",
            "Int64Index: 464 entries, 42 to 9936\n",
            "Data columns (total 12 columns):\n",
            " #   Column            Non-Null Count  Dtype  \n",
            "---  ------            --------------  -----  \n",
            " 0   customer_id       464 non-null    int64  \n",
            " 1   credit_score      464 non-null    int64  \n",
            " 2   country           464 non-null    object \n",
            " 3   gender            464 non-null    object \n",
            " 4   age               464 non-null    int64  \n",
            " 5   tenure            464 non-null    int64  \n",
            " 6   balance           464 non-null    float64\n",
            " 7   products_number   464 non-null    int64  \n",
            " 8   credit_card       464 non-null    int64  \n",
            " 9   active_member     464 non-null    int64  \n",
            " 10  estimated_salary  464 non-null    float64\n",
            " 11  churn             464 non-null    int64  \n",
            "dtypes: float64(2), int64(8), object(2)\n",
            "memory usage: 47.1+ KB\n"
          ]
        }
      ],
      "source": [
        "df_agemorethan60.info()"
      ]
    },
    {
      "cell_type": "code",
      "execution_count": null,
      "id": "1aeae155",
      "metadata": {
        "id": "1aeae155",
        "outputId": "82464a01-6fdc-4683-aa41-3047224d4e5f"
      },
      "outputs": [
        {
          "data": {
            "text/plain": [
              "464"
            ]
          },
          "execution_count": 56,
          "metadata": {},
          "output_type": "execute_result"
        }
      ],
      "source": [
        "df_agemorethan60.age.value_counts().sum()"
      ]
    },
    {
      "cell_type": "code",
      "execution_count": null,
      "id": "b0e20e77",
      "metadata": {
        "id": "b0e20e77",
        "outputId": "128a5824-ddeb-4a22-a19c-15d9ae0c0ce9"
      },
      "outputs": [
        {
          "data": {
            "text/html": [
              "<div>\n",
              "<style scoped>\n",
              "    .dataframe tbody tr th:only-of-type {\n",
              "        vertical-align: middle;\n",
              "    }\n",
              "\n",
              "    .dataframe tbody tr th {\n",
              "        vertical-align: top;\n",
              "    }\n",
              "\n",
              "    .dataframe thead th {\n",
              "        text-align: right;\n",
              "    }\n",
              "</style>\n",
              "<table border=\"1\" class=\"dataframe\">\n",
              "  <thead>\n",
              "    <tr style=\"text-align: right;\">\n",
              "      <th></th>\n",
              "      <th>customer_id</th>\n",
              "      <th>credit_score</th>\n",
              "      <th>age</th>\n",
              "      <th>tenure</th>\n",
              "      <th>balance</th>\n",
              "      <th>products_number</th>\n",
              "      <th>credit_card</th>\n",
              "      <th>active_member</th>\n",
              "      <th>estimated_salary</th>\n",
              "      <th>churn</th>\n",
              "    </tr>\n",
              "  </thead>\n",
              "  <tbody>\n",
              "    <tr>\n",
              "      <th>count</th>\n",
              "      <td>464.000000</td>\n",
              "      <td>464.000000</td>\n",
              "      <td>464.000000</td>\n",
              "      <td>464.000000</td>\n",
              "      <td>464.000000</td>\n",
              "      <td>464.000000</td>\n",
              "      <td>464.000000</td>\n",
              "      <td>464.000000</td>\n",
              "      <td>464.000000</td>\n",
              "      <td>464.000000</td>\n",
              "    </tr>\n",
              "    <tr>\n",
              "      <th>mean</th>\n",
              "      <td>15690936.719828</td>\n",
              "      <td>654.549569</td>\n",
              "      <td>67.510776</td>\n",
              "      <td>4.905172</td>\n",
              "      <td>75742.596401</td>\n",
              "      <td>1.508621</td>\n",
              "      <td>0.706897</td>\n",
              "      <td>0.808190</td>\n",
              "      <td>98126.179009</td>\n",
              "      <td>0.247845</td>\n",
              "    </tr>\n",
              "    <tr>\n",
              "      <th>std</th>\n",
              "      <td>72428.231711</td>\n",
              "      <td>96.782770</td>\n",
              "      <td>5.645378</td>\n",
              "      <td>2.973543</td>\n",
              "      <td>61723.147097</td>\n",
              "      <td>0.591454</td>\n",
              "      <td>0.455677</td>\n",
              "      <td>0.394150</td>\n",
              "      <td>57542.868774</td>\n",
              "      <td>0.432227</td>\n",
              "    </tr>\n",
              "    <tr>\n",
              "      <th>min</th>\n",
              "      <td>15566689.000000</td>\n",
              "      <td>408.000000</td>\n",
              "      <td>61.000000</td>\n",
              "      <td>0.000000</td>\n",
              "      <td>0.000000</td>\n",
              "      <td>1.000000</td>\n",
              "      <td>0.000000</td>\n",
              "      <td>0.000000</td>\n",
              "      <td>502.700000</td>\n",
              "      <td>0.000000</td>\n",
              "    </tr>\n",
              "    <tr>\n",
              "      <th>25%</th>\n",
              "      <td>15632642.500000</td>\n",
              "      <td>592.000000</td>\n",
              "      <td>63.000000</td>\n",
              "      <td>2.000000</td>\n",
              "      <td>0.000000</td>\n",
              "      <td>1.000000</td>\n",
              "      <td>0.000000</td>\n",
              "      <td>1.000000</td>\n",
              "      <td>48489.515000</td>\n",
              "      <td>0.000000</td>\n",
              "    </tr>\n",
              "    <tr>\n",
              "      <th>50%</th>\n",
              "      <td>15684640.500000</td>\n",
              "      <td>652.500000</td>\n",
              "      <td>66.000000</td>\n",
              "      <td>5.000000</td>\n",
              "      <td>96557.230000</td>\n",
              "      <td>1.000000</td>\n",
              "      <td>1.000000</td>\n",
              "      <td>1.000000</td>\n",
              "      <td>96301.055000</td>\n",
              "      <td>0.000000</td>\n",
              "    </tr>\n",
              "    <tr>\n",
              "      <th>75%</th>\n",
              "      <td>15756300.500000</td>\n",
              "      <td>723.250000</td>\n",
              "      <td>71.000000</td>\n",
              "      <td>7.250000</td>\n",
              "      <td>126681.105000</td>\n",
              "      <td>2.000000</td>\n",
              "      <td>1.000000</td>\n",
              "      <td>1.000000</td>\n",
              "      <td>147057.932500</td>\n",
              "      <td>0.000000</td>\n",
              "    </tr>\n",
              "    <tr>\n",
              "      <th>max</th>\n",
              "      <td>15815626.000000</td>\n",
              "      <td>850.000000</td>\n",
              "      <td>92.000000</td>\n",
              "      <td>10.000000</td>\n",
              "      <td>187013.130000</td>\n",
              "      <td>4.000000</td>\n",
              "      <td>1.000000</td>\n",
              "      <td>1.000000</td>\n",
              "      <td>199493.380000</td>\n",
              "      <td>1.000000</td>\n",
              "    </tr>\n",
              "  </tbody>\n",
              "</table>\n",
              "</div>"
            ],
            "text/plain": [
              "          customer_id  credit_score        age     tenure       balance  \\\n",
              "count      464.000000    464.000000 464.000000 464.000000    464.000000   \n",
              "mean  15690936.719828    654.549569  67.510776   4.905172  75742.596401   \n",
              "std      72428.231711     96.782770   5.645378   2.973543  61723.147097   \n",
              "min   15566689.000000    408.000000  61.000000   0.000000      0.000000   \n",
              "25%   15632642.500000    592.000000  63.000000   2.000000      0.000000   \n",
              "50%   15684640.500000    652.500000  66.000000   5.000000  96557.230000   \n",
              "75%   15756300.500000    723.250000  71.000000   7.250000 126681.105000   \n",
              "max   15815626.000000    850.000000  92.000000  10.000000 187013.130000   \n",
              "\n",
              "       products_number  credit_card  active_member  estimated_salary  \\\n",
              "count       464.000000   464.000000     464.000000        464.000000   \n",
              "mean          1.508621     0.706897       0.808190      98126.179009   \n",
              "std           0.591454     0.455677       0.394150      57542.868774   \n",
              "min           1.000000     0.000000       0.000000        502.700000   \n",
              "25%           1.000000     0.000000       1.000000      48489.515000   \n",
              "50%           1.000000     1.000000       1.000000      96301.055000   \n",
              "75%           2.000000     1.000000       1.000000     147057.932500   \n",
              "max           4.000000     1.000000       1.000000     199493.380000   \n",
              "\n",
              "           churn  \n",
              "count 464.000000  \n",
              "mean    0.247845  \n",
              "std     0.432227  \n",
              "min     0.000000  \n",
              "25%     0.000000  \n",
              "50%     0.000000  \n",
              "75%     0.000000  \n",
              "max     1.000000  "
            ]
          },
          "execution_count": 57,
          "metadata": {},
          "output_type": "execute_result"
        }
      ],
      "source": [
        "df_agemorethan60.describe()"
      ]
    },
    {
      "cell_type": "code",
      "execution_count": null,
      "id": "3fa81e96",
      "metadata": {
        "id": "3fa81e96"
      },
      "outputs": [],
      "source": [
        "#no such data can be interpretted"
      ]
    },
    {
      "cell_type": "code",
      "execution_count": null,
      "id": "1bcc04c5",
      "metadata": {
        "id": "1bcc04c5"
      },
      "outputs": [],
      "source": [
        "# 11. if a customer has tenure of 10 what is his age?"
      ]
    },
    {
      "cell_type": "code",
      "execution_count": null,
      "id": "9c391834",
      "metadata": {
        "id": "9c391834"
      },
      "outputs": [],
      "source": [
        "df_tenure10 = df[((df['tenure'] == 10))]"
      ]
    },
    {
      "cell_type": "code",
      "execution_count": null,
      "id": "54659a9c",
      "metadata": {
        "id": "54659a9c",
        "outputId": "581ccd7c-9bef-409b-d808-b6cfc330aa56"
      },
      "outputs": [
        {
          "name": "stdout",
          "output_type": "stream",
          "text": [
            "<class 'pandas.core.frame.DataFrame'>\n",
            "Int64Index: 490 entries, 12 to 9996\n",
            "Data columns (total 12 columns):\n",
            " #   Column            Non-Null Count  Dtype  \n",
            "---  ------            --------------  -----  \n",
            " 0   customer_id       490 non-null    int64  \n",
            " 1   credit_score      490 non-null    int64  \n",
            " 2   country           490 non-null    object \n",
            " 3   gender            490 non-null    object \n",
            " 4   age               490 non-null    int64  \n",
            " 5   tenure            490 non-null    int64  \n",
            " 6   balance           490 non-null    float64\n",
            " 7   products_number   490 non-null    int64  \n",
            " 8   credit_card       490 non-null    int64  \n",
            " 9   active_member     490 non-null    int64  \n",
            " 10  estimated_salary  490 non-null    float64\n",
            " 11  churn             490 non-null    int64  \n",
            "dtypes: float64(2), int64(8), object(2)\n",
            "memory usage: 49.8+ KB\n"
          ]
        }
      ],
      "source": [
        "df_tenure10.info()"
      ]
    },
    {
      "cell_type": "code",
      "execution_count": null,
      "id": "d5749e41",
      "metadata": {
        "id": "d5749e41",
        "outputId": "be53ef38-9448-4d7b-a6b7-316bdb9b88e4"
      },
      "outputs": [
        {
          "data": {
            "text/plain": [
              "39    24\n",
              "37    23\n",
              "40    23\n",
              "38    22\n",
              "34    21\n",
              "41    21\n",
              "32    21\n",
              "36    20\n",
              "29    19\n",
              "35    18\n",
              "33    18\n",
              "42    16\n",
              "31    16\n",
              "43    16\n",
              "30    15\n",
              "46    14\n",
              "44    14\n",
              "47    13\n",
              "48    10\n",
              "23    10\n",
              "49    10\n",
              "28    10\n",
              "45     9\n",
              "51     9\n",
              "25     9\n",
              "24     8\n",
              "26     8\n",
              "27     8\n",
              "55     5\n",
              "22     5\n",
              "53     5\n",
              "50     5\n",
              "62     5\n",
              "52     4\n",
              "56     3\n",
              "21     3\n",
              "60     3\n",
              "69     2\n",
              "64     2\n",
              "67     2\n",
              "63     2\n",
              "76     2\n",
              "71     2\n",
              "18     2\n",
              "85     1\n",
              "88     1\n",
              "74     1\n",
              "79     1\n",
              "58     1\n",
              "61     1\n",
              "65     1\n",
              "77     1\n",
              "54     1\n",
              "57     1\n",
              "75     1\n",
              "20     1\n",
              "59     1\n",
              "Name: age, dtype: int64"
            ]
          },
          "execution_count": 62,
          "metadata": {},
          "output_type": "execute_result"
        }
      ],
      "source": [
        "df_tenure10.age.value_counts()"
      ]
    },
    {
      "cell_type": "code",
      "execution_count": null,
      "id": "c2bd4135",
      "metadata": {
        "id": "c2bd4135"
      },
      "outputs": [],
      "source": [
        "# many of them are of salaried from different age group hence theres no such thing that the customer isnt happy in all."
      ]
    },
    {
      "cell_type": "code",
      "execution_count": null,
      "id": "2b15cc2e",
      "metadata": {
        "id": "2b15cc2e"
      },
      "outputs": [],
      "source": [
        "# 12. is a highly paid or less paid person is active ?\n",
        "# already answered"
      ]
    },
    {
      "cell_type": "code",
      "execution_count": null,
      "id": "f3cd8bea",
      "metadata": {
        "id": "f3cd8bea",
        "outputId": "d9c17c7d-cd0d-47b1-9443-a1046a659a5c"
      },
      "outputs": [
        {
          "data": {
            "text/html": [
              "<div>\n",
              "<style scoped>\n",
              "    .dataframe tbody tr th:only-of-type {\n",
              "        vertical-align: middle;\n",
              "    }\n",
              "\n",
              "    .dataframe tbody tr th {\n",
              "        vertical-align: top;\n",
              "    }\n",
              "\n",
              "    .dataframe thead th {\n",
              "        text-align: right;\n",
              "    }\n",
              "</style>\n",
              "<table border=\"1\" class=\"dataframe\">\n",
              "  <thead>\n",
              "    <tr style=\"text-align: right;\">\n",
              "      <th></th>\n",
              "      <th>active_member</th>\n",
              "    </tr>\n",
              "    <tr>\n",
              "      <th>tenure</th>\n",
              "      <th></th>\n",
              "    </tr>\n",
              "  </thead>\n",
              "  <tbody>\n",
              "    <tr>\n",
              "      <th>0</th>\n",
              "      <td>219</td>\n",
              "    </tr>\n",
              "    <tr>\n",
              "      <th>1</th>\n",
              "      <td>569</td>\n",
              "    </tr>\n",
              "    <tr>\n",
              "      <th>2</th>\n",
              "      <td>560</td>\n",
              "    </tr>\n",
              "    <tr>\n",
              "      <th>3</th>\n",
              "      <td>524</td>\n",
              "    </tr>\n",
              "    <tr>\n",
              "      <th>4</th>\n",
              "      <td>500</td>\n",
              "    </tr>\n",
              "    <tr>\n",
              "      <th>5</th>\n",
              "      <td>506</td>\n",
              "    </tr>\n",
              "    <tr>\n",
              "      <th>6</th>\n",
              "      <td>499</td>\n",
              "    </tr>\n",
              "    <tr>\n",
              "      <th>7</th>\n",
              "      <td>535</td>\n",
              "    </tr>\n",
              "    <tr>\n",
              "      <th>8</th>\n",
              "      <td>519</td>\n",
              "    </tr>\n",
              "    <tr>\n",
              "      <th>9</th>\n",
              "      <td>471</td>\n",
              "    </tr>\n",
              "    <tr>\n",
              "      <th>10</th>\n",
              "      <td>249</td>\n",
              "    </tr>\n",
              "  </tbody>\n",
              "</table>\n",
              "</div>"
            ],
            "text/plain": [
              "        active_member\n",
              "tenure               \n",
              "0                 219\n",
              "1                 569\n",
              "2                 560\n",
              "3                 524\n",
              "4                 500\n",
              "5                 506\n",
              "6                 499\n",
              "7                 535\n",
              "8                 519\n",
              "9                 471\n",
              "10                249"
            ]
          },
          "execution_count": 65,
          "metadata": {},
          "output_type": "execute_result"
        }
      ],
      "source": [
        "pivot_7 = df.pivot_table(index =['tenure'],\n",
        "                       values =['active_member'],\n",
        "                       aggfunc ='sum')\n",
        "pivot_7"
      ]
    },
    {
      "cell_type": "code",
      "execution_count": null,
      "id": "adc7194d",
      "metadata": {
        "id": "adc7194d"
      },
      "outputs": [],
      "source": [
        "# even having highest people didnot preferred to keep in bank for more than 1 year as well."
      ]
    },
    {
      "cell_type": "markdown",
      "id": "d2d31a8a",
      "metadata": {
        "id": "d2d31a8a"
      },
      "source": [
        "# correlations"
      ]
    },
    {
      "cell_type": "code",
      "execution_count": null,
      "id": "d9024deb",
      "metadata": {
        "id": "d9024deb",
        "outputId": "caeea4a7-ad4b-4190-d9e1-88ff0bdfdec0"
      },
      "outputs": [
        {
          "name": "stdout",
          "output_type": "stream",
          "text": [
            "<class 'pandas.core.frame.DataFrame'>\n",
            "RangeIndex: 10000 entries, 0 to 9999\n",
            "Data columns (total 10 columns):\n",
            " #   Column            Non-Null Count  Dtype  \n",
            "---  ------            --------------  -----  \n",
            " 0   customer_id       10000 non-null  int64  \n",
            " 1   credit_score      10000 non-null  int64  \n",
            " 2   age               10000 non-null  int64  \n",
            " 3   tenure            10000 non-null  int64  \n",
            " 4   balance           10000 non-null  float64\n",
            " 5   products_number   10000 non-null  int64  \n",
            " 6   credit_card       10000 non-null  int64  \n",
            " 7   active_member     10000 non-null  int64  \n",
            " 8   estimated_salary  10000 non-null  float64\n",
            " 9   churn             10000 non-null  int64  \n",
            "dtypes: float64(2), int64(8)\n",
            "memory usage: 781.4 KB\n"
          ]
        }
      ],
      "source": [
        "df_numeric.info()"
      ]
    },
    {
      "cell_type": "code",
      "execution_count": null,
      "id": "673d4e6c",
      "metadata": {
        "id": "673d4e6c"
      },
      "outputs": [],
      "source": [
        "num_col = df[['credit_score','balance','age','estimated_salary','churn']]"
      ]
    },
    {
      "cell_type": "code",
      "execution_count": null,
      "id": "50c846f7",
      "metadata": {
        "id": "50c846f7",
        "outputId": "9c30e5a8-abe6-4d66-cbc9-92e6f9db623f"
      },
      "outputs": [
        {
          "data": {
            "text/html": [
              "<div>\n",
              "<style scoped>\n",
              "    .dataframe tbody tr th:only-of-type {\n",
              "        vertical-align: middle;\n",
              "    }\n",
              "\n",
              "    .dataframe tbody tr th {\n",
              "        vertical-align: top;\n",
              "    }\n",
              "\n",
              "    .dataframe thead th {\n",
              "        text-align: right;\n",
              "    }\n",
              "</style>\n",
              "<table border=\"1\" class=\"dataframe\">\n",
              "  <thead>\n",
              "    <tr style=\"text-align: right;\">\n",
              "      <th></th>\n",
              "      <th>credit_score</th>\n",
              "      <th>balance</th>\n",
              "      <th>age</th>\n",
              "      <th>estimated_salary</th>\n",
              "      <th>churn</th>\n",
              "    </tr>\n",
              "  </thead>\n",
              "  <tbody>\n",
              "    <tr>\n",
              "      <th>credit_score</th>\n",
              "      <td>1.000000</td>\n",
              "      <td>0.006268</td>\n",
              "      <td>-0.003965</td>\n",
              "      <td>-0.001384</td>\n",
              "      <td>-0.027094</td>\n",
              "    </tr>\n",
              "    <tr>\n",
              "      <th>balance</th>\n",
              "      <td>0.006268</td>\n",
              "      <td>1.000000</td>\n",
              "      <td>0.028308</td>\n",
              "      <td>0.012797</td>\n",
              "      <td>0.118533</td>\n",
              "    </tr>\n",
              "    <tr>\n",
              "      <th>age</th>\n",
              "      <td>-0.003965</td>\n",
              "      <td>0.028308</td>\n",
              "      <td>1.000000</td>\n",
              "      <td>-0.007201</td>\n",
              "      <td>0.285323</td>\n",
              "    </tr>\n",
              "    <tr>\n",
              "      <th>estimated_salary</th>\n",
              "      <td>-0.001384</td>\n",
              "      <td>0.012797</td>\n",
              "      <td>-0.007201</td>\n",
              "      <td>1.000000</td>\n",
              "      <td>0.012097</td>\n",
              "    </tr>\n",
              "    <tr>\n",
              "      <th>churn</th>\n",
              "      <td>-0.027094</td>\n",
              "      <td>0.118533</td>\n",
              "      <td>0.285323</td>\n",
              "      <td>0.012097</td>\n",
              "      <td>1.000000</td>\n",
              "    </tr>\n",
              "  </tbody>\n",
              "</table>\n",
              "</div>"
            ],
            "text/plain": [
              "                  credit_score  balance       age  estimated_salary     churn\n",
              "credit_score          1.000000 0.006268 -0.003965         -0.001384 -0.027094\n",
              "balance               0.006268 1.000000  0.028308          0.012797  0.118533\n",
              "age                  -0.003965 0.028308  1.000000         -0.007201  0.285323\n",
              "estimated_salary     -0.001384 0.012797 -0.007201          1.000000  0.012097\n",
              "churn                -0.027094 0.118533  0.285323          0.012097  1.000000"
            ]
          },
          "execution_count": 69,
          "metadata": {},
          "output_type": "execute_result"
        }
      ],
      "source": [
        "num_col.corr()"
      ]
    },
    {
      "cell_type": "code",
      "execution_count": null,
      "id": "f467d0fb",
      "metadata": {
        "id": "f467d0fb"
      },
      "outputs": [],
      "source": [
        "# on based on correlations : \n",
        "# The descending order of features are as follows:\n",
        "# 1. age\n",
        "# 2.balance\n",
        "# 3.estimated_salary\n",
        "# 4.credit score"
      ]
    },
    {
      "cell_type": "markdown",
      "id": "105d47dc",
      "metadata": {
        "id": "105d47dc"
      },
      "source": [
        "# normalisation and labelencoding for feature selection"
      ]
    },
    {
      "cell_type": "code",
      "execution_count": null,
      "id": "6160660d",
      "metadata": {
        "id": "6160660d"
      },
      "outputs": [],
      "source": [
        "df1 = df.copy(deep = True)"
      ]
    },
    {
      "cell_type": "code",
      "execution_count": null,
      "id": "b9b93c13",
      "metadata": {
        "id": "b9b93c13"
      },
      "outputs": [],
      "source": [
        "df1.drop(['customer_id'],axis = 1,inplace = True)"
      ]
    },
    {
      "cell_type": "markdown",
      "id": "e371db14",
      "metadata": {
        "id": "e371db14"
      },
      "source": [
        "# labelencoding"
      ]
    },
    {
      "cell_type": "code",
      "execution_count": null,
      "id": "b3138882",
      "metadata": {
        "id": "b3138882"
      },
      "outputs": [],
      "source": [
        "from sklearn.preprocessing import LabelEncoder\n",
        "\n",
        "#perform label encoding on col1, col2 columns\n",
        "df1[['country', 'gender']] = df1[['country', 'gender']].apply(LabelEncoder().fit_transform)"
      ]
    },
    {
      "cell_type": "code",
      "execution_count": null,
      "id": "c6c14587",
      "metadata": {
        "id": "c6c14587"
      },
      "outputs": [],
      "source": [
        "num_col_tobe_scaled =df1[['credit_score','balance','age','estimated_salary']]"
      ]
    },
    {
      "cell_type": "code",
      "execution_count": null,
      "id": "97460b26",
      "metadata": {
        "id": "97460b26"
      },
      "outputs": [],
      "source": [
        "from sklearn.preprocessing import MinMaxScaler\n",
        "mms = MinMaxScaler()\n",
        "scaled_norm = mms.fit_transform(num_col_tobe_scaled)\n",
        "df_scaled_norm = pd.DataFrame(scaled_norm, columns= num_col_tobe_scaled.columns)"
      ]
    },
    {
      "cell_type": "code",
      "execution_count": null,
      "id": "85e54ee7",
      "metadata": {
        "id": "85e54ee7",
        "outputId": "5c065c7b-e37b-40e9-afe3-0162be29971a"
      },
      "outputs": [
        {
          "data": {
            "text/html": [
              "<div>\n",
              "<style scoped>\n",
              "    .dataframe tbody tr th:only-of-type {\n",
              "        vertical-align: middle;\n",
              "    }\n",
              "\n",
              "    .dataframe tbody tr th {\n",
              "        vertical-align: top;\n",
              "    }\n",
              "\n",
              "    .dataframe thead th {\n",
              "        text-align: right;\n",
              "    }\n",
              "</style>\n",
              "<table border=\"1\" class=\"dataframe\">\n",
              "  <thead>\n",
              "    <tr style=\"text-align: right;\">\n",
              "      <th></th>\n",
              "      <th>credit_score</th>\n",
              "      <th>balance</th>\n",
              "      <th>age</th>\n",
              "      <th>estimated_salary</th>\n",
              "    </tr>\n",
              "  </thead>\n",
              "  <tbody>\n",
              "    <tr>\n",
              "      <th>0</th>\n",
              "      <td>0.538000</td>\n",
              "      <td>0.000000</td>\n",
              "      <td>0.324324</td>\n",
              "      <td>0.506735</td>\n",
              "    </tr>\n",
              "    <tr>\n",
              "      <th>1</th>\n",
              "      <td>0.516000</td>\n",
              "      <td>0.334031</td>\n",
              "      <td>0.310811</td>\n",
              "      <td>0.562709</td>\n",
              "    </tr>\n",
              "    <tr>\n",
              "      <th>2</th>\n",
              "      <td>0.304000</td>\n",
              "      <td>0.636357</td>\n",
              "      <td>0.324324</td>\n",
              "      <td>0.569654</td>\n",
              "    </tr>\n",
              "    <tr>\n",
              "      <th>3</th>\n",
              "      <td>0.698000</td>\n",
              "      <td>0.000000</td>\n",
              "      <td>0.283784</td>\n",
              "      <td>0.469120</td>\n",
              "    </tr>\n",
              "    <tr>\n",
              "      <th>4</th>\n",
              "      <td>1.000000</td>\n",
              "      <td>0.500246</td>\n",
              "      <td>0.337838</td>\n",
              "      <td>0.395400</td>\n",
              "    </tr>\n",
              "  </tbody>\n",
              "</table>\n",
              "</div>"
            ],
            "text/plain": [
              "   credit_score  balance      age  estimated_salary\n",
              "0      0.538000 0.000000 0.324324          0.506735\n",
              "1      0.516000 0.334031 0.310811          0.562709\n",
              "2      0.304000 0.636357 0.324324          0.569654\n",
              "3      0.698000 0.000000 0.283784          0.469120\n",
              "4      1.000000 0.500246 0.337838          0.395400"
            ]
          },
          "execution_count": 89,
          "metadata": {},
          "output_type": "execute_result"
        }
      ],
      "source": [
        "df_scaled_norm.head()"
      ]
    },
    {
      "cell_type": "code",
      "execution_count": null,
      "id": "d71f5d13",
      "metadata": {
        "id": "d71f5d13",
        "outputId": "b4ae0adc-3e03-4551-b229-b10eecb017d3"
      },
      "outputs": [
        {
          "data": {
            "text/html": [
              "<div>\n",
              "<style scoped>\n",
              "    .dataframe tbody tr th:only-of-type {\n",
              "        vertical-align: middle;\n",
              "    }\n",
              "\n",
              "    .dataframe tbody tr th {\n",
              "        vertical-align: top;\n",
              "    }\n",
              "\n",
              "    .dataframe thead th {\n",
              "        text-align: right;\n",
              "    }\n",
              "</style>\n",
              "<table border=\"1\" class=\"dataframe\">\n",
              "  <thead>\n",
              "    <tr style=\"text-align: right;\">\n",
              "      <th></th>\n",
              "      <th>credit_score</th>\n",
              "      <th>country</th>\n",
              "      <th>gender</th>\n",
              "      <th>age</th>\n",
              "      <th>tenure</th>\n",
              "      <th>balance</th>\n",
              "      <th>products_number</th>\n",
              "      <th>credit_card</th>\n",
              "      <th>active_member</th>\n",
              "      <th>estimated_salary</th>\n",
              "      <th>churn</th>\n",
              "    </tr>\n",
              "  </thead>\n",
              "  <tbody>\n",
              "    <tr>\n",
              "      <th>0</th>\n",
              "      <td>619</td>\n",
              "      <td>0</td>\n",
              "      <td>0</td>\n",
              "      <td>42</td>\n",
              "      <td>2</td>\n",
              "      <td>0.000000</td>\n",
              "      <td>1</td>\n",
              "      <td>1</td>\n",
              "      <td>1</td>\n",
              "      <td>101348.880000</td>\n",
              "      <td>1</td>\n",
              "    </tr>\n",
              "    <tr>\n",
              "      <th>1</th>\n",
              "      <td>608</td>\n",
              "      <td>2</td>\n",
              "      <td>0</td>\n",
              "      <td>41</td>\n",
              "      <td>1</td>\n",
              "      <td>83807.860000</td>\n",
              "      <td>1</td>\n",
              "      <td>0</td>\n",
              "      <td>1</td>\n",
              "      <td>112542.580000</td>\n",
              "      <td>0</td>\n",
              "    </tr>\n",
              "    <tr>\n",
              "      <th>2</th>\n",
              "      <td>502</td>\n",
              "      <td>0</td>\n",
              "      <td>0</td>\n",
              "      <td>42</td>\n",
              "      <td>8</td>\n",
              "      <td>159660.800000</td>\n",
              "      <td>3</td>\n",
              "      <td>1</td>\n",
              "      <td>0</td>\n",
              "      <td>113931.570000</td>\n",
              "      <td>1</td>\n",
              "    </tr>\n",
              "    <tr>\n",
              "      <th>3</th>\n",
              "      <td>699</td>\n",
              "      <td>0</td>\n",
              "      <td>0</td>\n",
              "      <td>39</td>\n",
              "      <td>1</td>\n",
              "      <td>0.000000</td>\n",
              "      <td>2</td>\n",
              "      <td>0</td>\n",
              "      <td>0</td>\n",
              "      <td>93826.630000</td>\n",
              "      <td>0</td>\n",
              "    </tr>\n",
              "    <tr>\n",
              "      <th>4</th>\n",
              "      <td>850</td>\n",
              "      <td>2</td>\n",
              "      <td>0</td>\n",
              "      <td>43</td>\n",
              "      <td>2</td>\n",
              "      <td>125510.820000</td>\n",
              "      <td>1</td>\n",
              "      <td>1</td>\n",
              "      <td>1</td>\n",
              "      <td>79084.100000</td>\n",
              "      <td>0</td>\n",
              "    </tr>\n",
              "  </tbody>\n",
              "</table>\n",
              "</div>"
            ],
            "text/plain": [
              "   credit_score  country  gender  age  tenure       balance  products_number  \\\n",
              "0           619        0       0   42       2      0.000000                1   \n",
              "1           608        2       0   41       1  83807.860000                1   \n",
              "2           502        0       0   42       8 159660.800000                3   \n",
              "3           699        0       0   39       1      0.000000                2   \n",
              "4           850        2       0   43       2 125510.820000                1   \n",
              "\n",
              "   credit_card  active_member  estimated_salary  churn  \n",
              "0            1              1     101348.880000      1  \n",
              "1            0              1     112542.580000      0  \n",
              "2            1              0     113931.570000      1  \n",
              "3            0              0      93826.630000      0  \n",
              "4            1              1      79084.100000      0  "
            ]
          },
          "execution_count": 90,
          "metadata": {},
          "output_type": "execute_result"
        }
      ],
      "source": [
        "df1.head()"
      ]
    },
    {
      "cell_type": "code",
      "execution_count": null,
      "id": "62805340",
      "metadata": {
        "id": "62805340"
      },
      "outputs": [],
      "source": [
        "df1.drop(['credit_score','balance','age','estimated_salary'],axis =1, inplace =True)"
      ]
    },
    {
      "cell_type": "code",
      "execution_count": null,
      "id": "9100f98b",
      "metadata": {
        "id": "9100f98b"
      },
      "outputs": [],
      "source": [
        "df2 = pd.concat([df_scaled_norm,df1], axis = 1)"
      ]
    },
    {
      "cell_type": "code",
      "execution_count": null,
      "id": "e341d90a",
      "metadata": {
        "id": "e341d90a",
        "outputId": "9e3b3d86-c56b-425c-b564-9732973a90b6"
      },
      "outputs": [
        {
          "data": {
            "text/html": [
              "<div>\n",
              "<style scoped>\n",
              "    .dataframe tbody tr th:only-of-type {\n",
              "        vertical-align: middle;\n",
              "    }\n",
              "\n",
              "    .dataframe tbody tr th {\n",
              "        vertical-align: top;\n",
              "    }\n",
              "\n",
              "    .dataframe thead th {\n",
              "        text-align: right;\n",
              "    }\n",
              "</style>\n",
              "<table border=\"1\" class=\"dataframe\">\n",
              "  <thead>\n",
              "    <tr style=\"text-align: right;\">\n",
              "      <th></th>\n",
              "      <th>credit_score</th>\n",
              "      <th>balance</th>\n",
              "      <th>age</th>\n",
              "      <th>estimated_salary</th>\n",
              "      <th>country</th>\n",
              "      <th>gender</th>\n",
              "      <th>tenure</th>\n",
              "      <th>products_number</th>\n",
              "      <th>credit_card</th>\n",
              "      <th>active_member</th>\n",
              "      <th>churn</th>\n",
              "    </tr>\n",
              "  </thead>\n",
              "  <tbody>\n",
              "    <tr>\n",
              "      <th>0</th>\n",
              "      <td>0.538000</td>\n",
              "      <td>0.000000</td>\n",
              "      <td>0.324324</td>\n",
              "      <td>0.506735</td>\n",
              "      <td>0</td>\n",
              "      <td>0</td>\n",
              "      <td>2</td>\n",
              "      <td>1</td>\n",
              "      <td>1</td>\n",
              "      <td>1</td>\n",
              "      <td>1</td>\n",
              "    </tr>\n",
              "    <tr>\n",
              "      <th>1</th>\n",
              "      <td>0.516000</td>\n",
              "      <td>0.334031</td>\n",
              "      <td>0.310811</td>\n",
              "      <td>0.562709</td>\n",
              "      <td>2</td>\n",
              "      <td>0</td>\n",
              "      <td>1</td>\n",
              "      <td>1</td>\n",
              "      <td>0</td>\n",
              "      <td>1</td>\n",
              "      <td>0</td>\n",
              "    </tr>\n",
              "    <tr>\n",
              "      <th>2</th>\n",
              "      <td>0.304000</td>\n",
              "      <td>0.636357</td>\n",
              "      <td>0.324324</td>\n",
              "      <td>0.569654</td>\n",
              "      <td>0</td>\n",
              "      <td>0</td>\n",
              "      <td>8</td>\n",
              "      <td>3</td>\n",
              "      <td>1</td>\n",
              "      <td>0</td>\n",
              "      <td>1</td>\n",
              "    </tr>\n",
              "    <tr>\n",
              "      <th>3</th>\n",
              "      <td>0.698000</td>\n",
              "      <td>0.000000</td>\n",
              "      <td>0.283784</td>\n",
              "      <td>0.469120</td>\n",
              "      <td>0</td>\n",
              "      <td>0</td>\n",
              "      <td>1</td>\n",
              "      <td>2</td>\n",
              "      <td>0</td>\n",
              "      <td>0</td>\n",
              "      <td>0</td>\n",
              "    </tr>\n",
              "    <tr>\n",
              "      <th>4</th>\n",
              "      <td>1.000000</td>\n",
              "      <td>0.500246</td>\n",
              "      <td>0.337838</td>\n",
              "      <td>0.395400</td>\n",
              "      <td>2</td>\n",
              "      <td>0</td>\n",
              "      <td>2</td>\n",
              "      <td>1</td>\n",
              "      <td>1</td>\n",
              "      <td>1</td>\n",
              "      <td>0</td>\n",
              "    </tr>\n",
              "  </tbody>\n",
              "</table>\n",
              "</div>"
            ],
            "text/plain": [
              "   credit_score  balance      age  estimated_salary  country  gender  tenure  \\\n",
              "0      0.538000 0.000000 0.324324          0.506735        0       0       2   \n",
              "1      0.516000 0.334031 0.310811          0.562709        2       0       1   \n",
              "2      0.304000 0.636357 0.324324          0.569654        0       0       8   \n",
              "3      0.698000 0.000000 0.283784          0.469120        0       0       1   \n",
              "4      1.000000 0.500246 0.337838          0.395400        2       0       2   \n",
              "\n",
              "   products_number  credit_card  active_member  churn  \n",
              "0                1            1              1      1  \n",
              "1                1            0              1      0  \n",
              "2                3            1              0      1  \n",
              "3                2            0              0      0  \n",
              "4                1            1              1      0  "
            ]
          },
          "execution_count": 100,
          "metadata": {},
          "output_type": "execute_result"
        }
      ],
      "source": [
        "df2.head()"
      ]
    },
    {
      "cell_type": "markdown",
      "id": "6dd9632d",
      "metadata": {
        "id": "6dd9632d"
      },
      "source": [
        "# chi sqaure feature selection"
      ]
    },
    {
      "cell_type": "code",
      "execution_count": null,
      "id": "0e5a8a6a",
      "metadata": {
        "id": "0e5a8a6a",
        "outputId": "9a12a32d-c0be-4f4c-a45a-403df2053dbb"
      },
      "outputs": [
        {
          "name": "stdout",
          "output_type": "stream",
          "text": [
            "<class 'pandas.core.frame.DataFrame'>\n",
            "RangeIndex: 10000 entries, 0 to 9999\n",
            "Data columns (total 10 columns):\n",
            " #   Column            Non-Null Count  Dtype  \n",
            "---  ------            --------------  -----  \n",
            " 0   credit_score      10000 non-null  float64\n",
            " 1   balance           10000 non-null  float64\n",
            " 2   age               10000 non-null  float64\n",
            " 3   estimated_salary  10000 non-null  float64\n",
            " 4   country           10000 non-null  int32  \n",
            " 5   gender            10000 non-null  int32  \n",
            " 6   tenure            10000 non-null  int64  \n",
            " 7   products_number   10000 non-null  int64  \n",
            " 8   credit_card       10000 non-null  int64  \n",
            " 9   active_member     10000 non-null  int64  \n",
            "dtypes: float64(4), int32(2), int64(4)\n",
            "memory usage: 703.2 KB\n",
            "None\n",
            "<class 'pandas.core.series.Series'>\n",
            "RangeIndex: 10000 entries, 0 to 9999\n",
            "Series name: churn\n",
            "Non-Null Count  Dtype\n",
            "--------------  -----\n",
            "10000 non-null  int64\n",
            "dtypes: int64(1)\n",
            "memory usage: 78.2 KB\n",
            "None\n"
          ]
        }
      ],
      "source": [
        "from sklearn.feature_selection import SelectKBest\n",
        "from sklearn.feature_selection import chi2\n",
        "\n",
        "X = df2.iloc[:,0:10]  #independent columns\n",
        "y = df.iloc[:,-1]    #target column i.e price range\n",
        "print(X.info())\n",
        "print(y.info())"
      ]
    },
    {
      "cell_type": "code",
      "execution_count": null,
      "id": "8fa5ddf7",
      "metadata": {
        "id": "8fa5ddf7"
      },
      "outputs": [],
      "source": [
        "#apply SelectKBest class to extract top 10 best features\n",
        "bestfeatures = SelectKBest(score_func=chi2, k=10)\n",
        "fit = bestfeatures.fit(X,y)"
      ]
    },
    {
      "cell_type": "code",
      "execution_count": null,
      "id": "477d5cfb",
      "metadata": {
        "id": "477d5cfb"
      },
      "outputs": [],
      "source": [
        "dfscores = pd.DataFrame(fit.scores_)\n",
        "dfcolumns = pd.DataFrame(X.columns)"
      ]
    },
    {
      "cell_type": "code",
      "execution_count": null,
      "id": "702cafe8",
      "metadata": {
        "id": "702cafe8"
      },
      "outputs": [],
      "source": [
        "#concat two dataframes for better visualization \n",
        "featureScores = pd.concat([dfcolumns,dfscores],axis=1)\n",
        "featureScores.columns = ['Specs','Score']  #naming the dataframe columns"
      ]
    },
    {
      "cell_type": "code",
      "execution_count": null,
      "id": "084b03de",
      "metadata": {
        "id": "084b03de",
        "outputId": "78a57ea6-cf7b-492b-cc86-0eec41e3c87c"
      },
      "outputs": [
        {
          "data": {
            "text/html": [
              "<div>\n",
              "<style scoped>\n",
              "    .dataframe tbody tr th:only-of-type {\n",
              "        vertical-align: middle;\n",
              "    }\n",
              "\n",
              "    .dataframe tbody tr th {\n",
              "        vertical-align: top;\n",
              "    }\n",
              "\n",
              "    .dataframe thead th {\n",
              "        text-align: right;\n",
              "    }\n",
              "</style>\n",
              "<table border=\"1\" class=\"dataframe\">\n",
              "  <thead>\n",
              "    <tr style=\"text-align: right;\">\n",
              "      <th></th>\n",
              "      <th>Specs</th>\n",
              "      <th>Score</th>\n",
              "    </tr>\n",
              "  </thead>\n",
              "  <tbody>\n",
              "    <tr>\n",
              "      <th>0</th>\n",
              "      <td>credit_score</td>\n",
              "      <td>0.456316</td>\n",
              "    </tr>\n",
              "    <tr>\n",
              "      <th>1</th>\n",
              "      <td>balance</td>\n",
              "      <td>28.502819</td>\n",
              "    </tr>\n",
              "    <tr>\n",
              "      <th>2</th>\n",
              "      <td>age</td>\n",
              "      <td>57.832080</td>\n",
              "    </tr>\n",
              "    <tr>\n",
              "      <th>3</th>\n",
              "      <td>estimated_salary</td>\n",
              "      <td>0.241805</td>\n",
              "    </tr>\n",
              "    <tr>\n",
              "      <th>4</th>\n",
              "      <td>country</td>\n",
              "      <td>11.853251</td>\n",
              "    </tr>\n",
              "    <tr>\n",
              "      <th>5</th>\n",
              "      <td>gender</td>\n",
              "      <td>51.539926</td>\n",
              "    </tr>\n",
              "    <tr>\n",
              "      <th>6</th>\n",
              "      <td>tenure</td>\n",
              "      <td>3.270538</td>\n",
              "    </tr>\n",
              "    <tr>\n",
              "      <th>7</th>\n",
              "      <td>products_number</td>\n",
              "      <td>5.055394</td>\n",
              "    </tr>\n",
              "    <tr>\n",
              "      <th>8</th>\n",
              "      <td>credit_card</td>\n",
              "      <td>0.150041</td>\n",
              "    </tr>\n",
              "    <tr>\n",
              "      <th>9</th>\n",
              "      <td>active_member</td>\n",
              "      <td>118.199414</td>\n",
              "    </tr>\n",
              "  </tbody>\n",
              "</table>\n",
              "</div>"
            ],
            "text/plain": [
              "              Specs      Score\n",
              "0      credit_score   0.456316\n",
              "1           balance  28.502819\n",
              "2               age  57.832080\n",
              "3  estimated_salary   0.241805\n",
              "4           country  11.853251\n",
              "5            gender  51.539926\n",
              "6            tenure   3.270538\n",
              "7   products_number   5.055394\n",
              "8       credit_card   0.150041\n",
              "9     active_member 118.199414"
            ]
          },
          "execution_count": 106,
          "metadata": {},
          "output_type": "execute_result"
        }
      ],
      "source": [
        "featureScores"
      ]
    },
    {
      "cell_type": "code",
      "execution_count": null,
      "id": "6e26535f",
      "metadata": {
        "id": "6e26535f",
        "outputId": "db45332a-7ea0-4e0a-f7d9-8eebf78ea75d"
      },
      "outputs": [
        {
          "name": "stdout",
          "output_type": "stream",
          "text": [
            "              Specs      Score\n",
            "9     active_member 118.199414\n",
            "2               age  57.832080\n",
            "5            gender  51.539926\n",
            "1           balance  28.502819\n",
            "4           country  11.853251\n",
            "7   products_number   5.055394\n",
            "6            tenure   3.270538\n",
            "0      credit_score   0.456316\n",
            "3  estimated_salary   0.241805\n",
            "8       credit_card   0.150041\n"
          ]
        }
      ],
      "source": [
        "print(featureScores.nlargest(10,'Score'))  #print 10 best features"
      ]
    },
    {
      "cell_type": "markdown",
      "id": "a19d7bbd",
      "metadata": {
        "id": "a19d7bbd"
      },
      "source": [
        "# Feature Importance - Feature selection"
      ]
    },
    {
      "cell_type": "code",
      "execution_count": null,
      "id": "0d5c0f70",
      "metadata": {
        "id": "0d5c0f70",
        "outputId": "8fa4cb80-1154-470e-883e-32be05f0f788"
      },
      "outputs": [
        {
          "data": {
            "text/html": [
              "<style>#sk-container-id-1 {color: black;background-color: white;}#sk-container-id-1 pre{padding: 0;}#sk-container-id-1 div.sk-toggleable {background-color: white;}#sk-container-id-1 label.sk-toggleable__label {cursor: pointer;display: block;width: 100%;margin-bottom: 0;padding: 0.3em;box-sizing: border-box;text-align: center;}#sk-container-id-1 label.sk-toggleable__label-arrow:before {content: \"▸\";float: left;margin-right: 0.25em;color: #696969;}#sk-container-id-1 label.sk-toggleable__label-arrow:hover:before {color: black;}#sk-container-id-1 div.sk-estimator:hover label.sk-toggleable__label-arrow:before {color: black;}#sk-container-id-1 div.sk-toggleable__content {max-height: 0;max-width: 0;overflow: hidden;text-align: left;background-color: #f0f8ff;}#sk-container-id-1 div.sk-toggleable__content pre {margin: 0.2em;color: black;border-radius: 0.25em;background-color: #f0f8ff;}#sk-container-id-1 input.sk-toggleable__control:checked~div.sk-toggleable__content {max-height: 200px;max-width: 100%;overflow: auto;}#sk-container-id-1 input.sk-toggleable__control:checked~label.sk-toggleable__label-arrow:before {content: \"▾\";}#sk-container-id-1 div.sk-estimator input.sk-toggleable__control:checked~label.sk-toggleable__label {background-color: #d4ebff;}#sk-container-id-1 div.sk-label input.sk-toggleable__control:checked~label.sk-toggleable__label {background-color: #d4ebff;}#sk-container-id-1 input.sk-hidden--visually {border: 0;clip: rect(1px 1px 1px 1px);clip: rect(1px, 1px, 1px, 1px);height: 1px;margin: -1px;overflow: hidden;padding: 0;position: absolute;width: 1px;}#sk-container-id-1 div.sk-estimator {font-family: monospace;background-color: #f0f8ff;border: 1px dotted black;border-radius: 0.25em;box-sizing: border-box;margin-bottom: 0.5em;}#sk-container-id-1 div.sk-estimator:hover {background-color: #d4ebff;}#sk-container-id-1 div.sk-parallel-item::after {content: \"\";width: 100%;border-bottom: 1px solid gray;flex-grow: 1;}#sk-container-id-1 div.sk-label:hover label.sk-toggleable__label {background-color: #d4ebff;}#sk-container-id-1 div.sk-serial::before {content: \"\";position: absolute;border-left: 1px solid gray;box-sizing: border-box;top: 0;bottom: 0;left: 50%;z-index: 0;}#sk-container-id-1 div.sk-serial {display: flex;flex-direction: column;align-items: center;background-color: white;padding-right: 0.2em;padding-left: 0.2em;position: relative;}#sk-container-id-1 div.sk-item {position: relative;z-index: 1;}#sk-container-id-1 div.sk-parallel {display: flex;align-items: stretch;justify-content: center;background-color: white;position: relative;}#sk-container-id-1 div.sk-item::before, #sk-container-id-1 div.sk-parallel-item::before {content: \"\";position: absolute;border-left: 1px solid gray;box-sizing: border-box;top: 0;bottom: 0;left: 50%;z-index: -1;}#sk-container-id-1 div.sk-parallel-item {display: flex;flex-direction: column;z-index: 1;position: relative;background-color: white;}#sk-container-id-1 div.sk-parallel-item:first-child::after {align-self: flex-end;width: 50%;}#sk-container-id-1 div.sk-parallel-item:last-child::after {align-self: flex-start;width: 50%;}#sk-container-id-1 div.sk-parallel-item:only-child::after {width: 0;}#sk-container-id-1 div.sk-dashed-wrapped {border: 1px dashed gray;margin: 0 0.4em 0.5em 0.4em;box-sizing: border-box;padding-bottom: 0.4em;background-color: white;}#sk-container-id-1 div.sk-label label {font-family: monospace;font-weight: bold;display: inline-block;line-height: 1.2em;}#sk-container-id-1 div.sk-label-container {text-align: center;}#sk-container-id-1 div.sk-container {/* jupyter's `normalize.less` sets `[hidden] { display: none; }` but bootstrap.min.css set `[hidden] { display: none !important; }` so we also need the `!important` here to be able to override the default hidden behavior on the sphinx rendered scikit-learn.org. See: https://github.com/scikit-learn/scikit-learn/issues/21755 */display: inline-block !important;position: relative;}#sk-container-id-1 div.sk-text-repr-fallback {display: none;}</style><div id=\"sk-container-id-1\" class=\"sk-top-container\"><div class=\"sk-text-repr-fallback\"><pre>ExtraTreesClassifier()</pre><b>In a Jupyter environment, please rerun this cell to show the HTML representation or trust the notebook. <br />On GitHub, the HTML representation is unable to render, please try loading this page with nbviewer.org.</b></div><div class=\"sk-container\" hidden><div class=\"sk-item\"><div class=\"sk-estimator sk-toggleable\"><input class=\"sk-toggleable__control sk-hidden--visually\" id=\"sk-estimator-id-1\" type=\"checkbox\" checked><label for=\"sk-estimator-id-1\" class=\"sk-toggleable__label sk-toggleable__label-arrow\">ExtraTreesClassifier</label><div class=\"sk-toggleable__content\"><pre>ExtraTreesClassifier()</pre></div></div></div></div></div>"
            ],
            "text/plain": [
              "ExtraTreesClassifier()"
            ]
          },
          "execution_count": 108,
          "metadata": {},
          "output_type": "execute_result"
        }
      ],
      "source": [
        "from sklearn.ensemble import ExtraTreesClassifier\n",
        "import matplotlib.pyplot as plt\n",
        "model = ExtraTreesClassifier()\n",
        "model.fit(X,y)"
      ]
    },
    {
      "cell_type": "code",
      "execution_count": null,
      "id": "c41bf739",
      "metadata": {
        "id": "c41bf739",
        "outputId": "12a87d13-3f60-44c1-aa47-3121397dc8ea"
      },
      "outputs": [
        {
          "name": "stdout",
          "output_type": "stream",
          "text": [
            "[0.13186098 0.12948832 0.23769965 0.13261093 0.04304932 0.01709356\n",
            " 0.10500335 0.14352663 0.02200991 0.03765735]\n"
          ]
        }
      ],
      "source": [
        "print(model.feature_importances_) #use inbuilt class feature_importances of tree based classifiers"
      ]
    },
    {
      "cell_type": "code",
      "execution_count": null,
      "id": "7e91d5eb",
      "metadata": {
        "id": "7e91d5eb",
        "outputId": "c01f7559-2f95-43c2-a3de-a616223fefe3"
      },
      "outputs": [
        {
          "data": {
            "image/png": "[encoded data removed]",
            "text/plain": [
              "<Figure size 432x360 with 1 Axes>"
            ]
          },
          "metadata": {},
          "output_type": "display_data"
        }
      ],
      "source": [
        "#plot graph of feature importances for better visualization\n",
        "feat_importances = pd.Series(model.feature_importances_, index=X.columns)\n",
        "feat_importances.nlargest(10).plot(kind='barh')\n",
        "plt.show()"
      ]
    },
    {
      "cell_type": "code",
      "execution_count": null,
      "id": "5d4368a7",
      "metadata": {
        "id": "5d4368a7"
      },
      "outputs": [],
      "source": [
        "# correlation - Heatmap - Feature Selection"
      ]
    },
    {
      "cell_type": "code",
      "execution_count": null,
      "id": "3b161eb2",
      "metadata": {
        "id": "3b161eb2"
      },
      "outputs": [],
      "source": [
        "scaled_df_numeric = df2[['credit_score','balance','age','estimated_salary','churn']]"
      ]
    },
    {
      "cell_type": "code",
      "execution_count": null,
      "id": "782c8c68",
      "metadata": {
        "id": "782c8c68",
        "outputId": "091f9076-ebe4-41dc-853c-b25ceab075e7"
      },
      "outputs": [
        {
          "data": {
            "text/html": [
              "<div>\n",
              "<style scoped>\n",
              "    .dataframe tbody tr th:only-of-type {\n",
              "        vertical-align: middle;\n",
              "    }\n",
              "\n",
              "    .dataframe tbody tr th {\n",
              "        vertical-align: top;\n",
              "    }\n",
              "\n",
              "    .dataframe thead th {\n",
              "        text-align: right;\n",
              "    }\n",
              "</style>\n",
              "<table border=\"1\" class=\"dataframe\">\n",
              "  <thead>\n",
              "    <tr style=\"text-align: right;\">\n",
              "      <th></th>\n",
              "      <th>credit_score</th>\n",
              "      <th>balance</th>\n",
              "      <th>age</th>\n",
              "      <th>estimated_salary</th>\n",
              "      <th>churn</th>\n",
              "    </tr>\n",
              "  </thead>\n",
              "  <tbody>\n",
              "    <tr>\n",
              "      <th>0</th>\n",
              "      <td>0.538000</td>\n",
              "      <td>0.000000</td>\n",
              "      <td>0.324324</td>\n",
              "      <td>0.506735</td>\n",
              "      <td>1</td>\n",
              "    </tr>\n",
              "    <tr>\n",
              "      <th>1</th>\n",
              "      <td>0.516000</td>\n",
              "      <td>0.334031</td>\n",
              "      <td>0.310811</td>\n",
              "      <td>0.562709</td>\n",
              "      <td>0</td>\n",
              "    </tr>\n",
              "    <tr>\n",
              "      <th>2</th>\n",
              "      <td>0.304000</td>\n",
              "      <td>0.636357</td>\n",
              "      <td>0.324324</td>\n",
              "      <td>0.569654</td>\n",
              "      <td>1</td>\n",
              "    </tr>\n",
              "    <tr>\n",
              "      <th>3</th>\n",
              "      <td>0.698000</td>\n",
              "      <td>0.000000</td>\n",
              "      <td>0.283784</td>\n",
              "      <td>0.469120</td>\n",
              "      <td>0</td>\n",
              "    </tr>\n",
              "    <tr>\n",
              "      <th>4</th>\n",
              "      <td>1.000000</td>\n",
              "      <td>0.500246</td>\n",
              "      <td>0.337838</td>\n",
              "      <td>0.395400</td>\n",
              "      <td>0</td>\n",
              "    </tr>\n",
              "  </tbody>\n",
              "</table>\n",
              "</div>"
            ],
            "text/plain": [
              "   credit_score  balance      age  estimated_salary  churn\n",
              "0      0.538000 0.000000 0.324324          0.506735      1\n",
              "1      0.516000 0.334031 0.310811          0.562709      0\n",
              "2      0.304000 0.636357 0.324324          0.569654      1\n",
              "3      0.698000 0.000000 0.283784          0.469120      0\n",
              "4      1.000000 0.500246 0.337838          0.395400      0"
            ]
          },
          "execution_count": 116,
          "metadata": {},
          "output_type": "execute_result"
        }
      ],
      "source": [
        "scaled_df_numeric.head()"
      ]
    },
    {
      "cell_type": "code",
      "execution_count": null,
      "id": "74a2b4eb",
      "metadata": {
        "id": "74a2b4eb",
        "outputId": "0d2ac295-35b0-41e6-b1a2-294c425a7ef1"
      },
      "outputs": [
        {
          "data": {
            "image/png": "[encoded data removed]",
            "text/plain": [
              "<Figure size 720x720 with 2 Axes>"
            ]
          },
          "metadata": {},
          "output_type": "display_data"
        }
      ],
      "source": [
        "import seaborn as sns\n",
        "#get correlations of each features in dataset\n",
        "corrmat = scaled_df_numeric.corr()\n",
        "top_corr_features = corrmat.index\n",
        "plt.figure(figsize=(10,10))\n",
        "#plot heat map\n",
        "g=sns.heatmap(scaled_df_numeric[top_corr_features].corr(),annot=True,cmap=\"RdYlGn\")"
      ]
    },
    {
      "cell_type": "markdown",
      "id": "a2c38cf3",
      "metadata": {
        "id": "a2c38cf3"
      },
      "source": [
        "# Building Model\n",
        "### Dataset is imbalanced hence need to follow oversampling or undersampling."
      ]
    },
    {
      "cell_type": "markdown",
      "id": "a9c2ce4d",
      "metadata": {
        "id": "a9c2ce4d"
      },
      "source": [
        "#### Oversampling"
      ]
    },
    {
      "cell_type": "code",
      "execution_count": null,
      "id": "f97cee61",
      "metadata": {
        "id": "f97cee61",
        "outputId": "faf2cb33-7a84-411a-f743-36ae4e183cfe",
        "colab": {
          "base_uri": "https://localhost:8080/",
          "height": 165
        }
      },
      "outputs": [
        {
          "output_type": "error",
          "ename": "NameError",
          "evalue": "ignored",
          "traceback": [
            "\u001b[0;31m---------------------------------------------------------------------------\u001b[0m",
            "\u001b[0;31mNameError\u001b[0m                                 Traceback (most recent call last)",
            "\u001b[0;32m<ipython-input-1-f6e5881b863d>\u001b[0m in \u001b[0;36m<module>\u001b[0;34m\u001b[0m\n\u001b[0;32m----> 1\u001b[0;31m \u001b[0mX_train\u001b[0m\u001b[0;34m,\u001b[0m\u001b[0mX_test\u001b[0m\u001b[0;34m,\u001b[0m\u001b[0my_train\u001b[0m\u001b[0;34m,\u001b[0m\u001b[0my_test\u001b[0m\u001b[0;34m=\u001b[0m\u001b[0mtrain_test_split\u001b[0m\u001b[0;34m(\u001b[0m\u001b[0mX\u001b[0m\u001b[0;34m,\u001b[0m\u001b[0my\u001b[0m\u001b[0;34m,\u001b[0m\u001b[0mtest_size\u001b[0m\u001b[0;34m=\u001b[0m\u001b[0;36m0.30\u001b[0m\u001b[0;34m,\u001b[0m\u001b[0mrandom_state\u001b[0m\u001b[0;34m=\u001b[0m\u001b[0;36m42\u001b[0m\u001b[0;34m)\u001b[0m\u001b[0;34m\u001b[0m\u001b[0;34m\u001b[0m\u001b[0m\n\u001b[0m",
            "\u001b[0;31mNameError\u001b[0m: name 'train_test_split' is not defined"
          ]
        }
      ],
      "source": [
        "X_train,X_test,y_train,y_test=train_test_split(X,y,test_size=0.30,random_state=42)"
      ]
    },
    {
      "cell_type": "code",
      "execution_count": null,
      "id": "cdc39564",
      "metadata": {
        "id": "cdc39564"
      },
      "outputs": [],
      "source": [
        "print(X_train.shape)\n",
        "print(X_test.shape)\n",
        "print(y_train.shape)\n",
        "print(y_test.shape)"
      ]
    },
    {
      "cell_type": "code",
      "execution_count": null,
      "id": "fc10b135",
      "metadata": {
        "id": "fc10b135"
      },
      "outputs": [],
      "source": [
        "print(\"Before OverSampling, counts of label '1': {}\".format(sum(y_train == 1)))\n",
        "print(\"Before OverSampling, counts of label '0': {} \\n\".format(sum(y_train == 0)))"
      ]
    },
    {
      "cell_type": "code",
      "execution_count": null,
      "id": "550be0f9",
      "metadata": {
        "id": "550be0f9"
      },
      "outputs": [],
      "source": [
        "from imblearn.over_sampling import SMOTE\n",
        "sm = SMOTE(random_state = 2)\n",
        "X_train_res, y_train_res = sm.fit_resample(X_train, y_train.ravel())\n",
        "  \n",
        "print('After OverSampling, the shape of train_X: {}'.format(X_train_res.shape))\n",
        "print('After OverSampling, the shape of train_y: {} \\n'.format(y_train_res.shape))\n",
        "  \n",
        "print(\"After OverSampling, counts of label '1': {}\".format(sum(y_train_res == 1)))\n",
        "print(\"After OverSampling, counts of label '0': {}\".format(sum(y_train_res == 0)))"
      ]
    },
    {
      "cell_type": "markdown",
      "id": "31d5bb43",
      "metadata": {
        "id": "31d5bb43"
      },
      "source": [
        "#### undersampling"
      ]
    },
    {
      "cell_type": "code",
      "execution_count": null,
      "id": "fd34132c",
      "metadata": {
        "id": "fd34132c"
      },
      "outputs": [],
      "source": [
        "print(\"Before Undersampling, counts of label '1': {}\".format(sum(y_train == 1)))\n",
        "print(\"Before Undersampling, counts of label '0': {} \\n\".format(sum(y_train == 0)))\n",
        "  \n",
        "# apply near miss\n",
        "from imblearn.under_sampling import NearMiss\n",
        "nr = NearMiss()\n",
        "  \n",
        "X_train_miss, y_train_miss = nr.fit_resample(X_train, y_train.ravel())\n",
        "  \n",
        "print('After Undersampling, the shape of train_X: {}'.format(X_train_miss.shape))\n",
        "print('After Undersampling, the shape of train_y: {} \\n'.format(y_train_miss.shape))\n",
        "  \n",
        "print(\"After Undersampling, counts of label '1': {}\".format(sum(y_train_miss == 1)))\n",
        "print(\"After Undersampling, counts of label '0': {}\".format(sum(y_train_miss == 0)))"
      ]
    },
    {
      "cell_type": "markdown",
      "id": "e455a92a",
      "metadata": {
        "id": "e455a92a"
      },
      "source": [
        "# fitting the model"
      ]
    },
    {
      "cell_type": "markdown",
      "id": "02d91588",
      "metadata": {
        "id": "02d91588"
      },
      "source": [
        "# RF"
      ]
    },
    {
      "cell_type": "markdown",
      "id": "9194c75b",
      "metadata": {
        "id": "9194c75b"
      },
      "source": [
        "### with imbalanced dataset"
      ]
    },
    {
      "cell_type": "code",
      "execution_count": null,
      "id": "99beaef1",
      "metadata": {
        "id": "99beaef1"
      },
      "outputs": [],
      "source": [
        "# Now will perform RandomForest Classifier\n",
        "\n",
        "param_grid = { \n",
        "    'n_estimators': [200, 500],\n",
        "    'max_features': ['auto', 'sqrt', 'log2'],\n",
        "    'max_depth' : [4,5,6,7,8],\n",
        "    'criterion' :['gini', 'entropy']\n",
        "}"
      ]
    },
    {
      "cell_type": "code",
      "execution_count": null,
      "id": "003ed699",
      "metadata": {
        "id": "003ed699",
        "outputId": "8895d495-9363-40a8-a532-9a768598c2b9"
      },
      "outputs": [
        {
          "data": {
            "text/html": [
              "<style>#sk-container-id-2 {color: black;background-color: white;}#sk-container-id-2 pre{padding: 0;}#sk-container-id-2 div.sk-toggleable {background-color: white;}#sk-container-id-2 label.sk-toggleable__label {cursor: pointer;display: block;width: 100%;margin-bottom: 0;padding: 0.3em;box-sizing: border-box;text-align: center;}#sk-container-id-2 label.sk-toggleable__label-arrow:before {content: \"▸\";float: left;margin-right: 0.25em;color: #696969;}#sk-container-id-2 label.sk-toggleable__label-arrow:hover:before {color: black;}#sk-container-id-2 div.sk-estimator:hover label.sk-toggleable__label-arrow:before {color: black;}#sk-container-id-2 div.sk-toggleable__content {max-height: 0;max-width: 0;overflow: hidden;text-align: left;background-color: #f0f8ff;}#sk-container-id-2 div.sk-toggleable__content pre {margin: 0.2em;color: black;border-radius: 0.25em;background-color: #f0f8ff;}#sk-container-id-2 input.sk-toggleable__control:checked~div.sk-toggleable__content {max-height: 200px;max-width: 100%;overflow: auto;}#sk-container-id-2 input.sk-toggleable__control:checked~label.sk-toggleable__label-arrow:before {content: \"▾\";}#sk-container-id-2 div.sk-estimator input.sk-toggleable__control:checked~label.sk-toggleable__label {background-color: #d4ebff;}#sk-container-id-2 div.sk-label input.sk-toggleable__control:checked~label.sk-toggleable__label {background-color: #d4ebff;}#sk-container-id-2 input.sk-hidden--visually {border: 0;clip: rect(1px 1px 1px 1px);clip: rect(1px, 1px, 1px, 1px);height: 1px;margin: -1px;overflow: hidden;padding: 0;position: absolute;width: 1px;}#sk-container-id-2 div.sk-estimator {font-family: monospace;background-color: #f0f8ff;border: 1px dotted black;border-radius: 0.25em;box-sizing: border-box;margin-bottom: 0.5em;}#sk-container-id-2 div.sk-estimator:hover {background-color: #d4ebff;}#sk-container-id-2 div.sk-parallel-item::after {content: \"\";width: 100%;border-bottom: 1px solid gray;flex-grow: 1;}#sk-container-id-2 div.sk-label:hover label.sk-toggleable__label {background-color: #d4ebff;}#sk-container-id-2 div.sk-serial::before {content: \"\";position: absolute;border-left: 1px solid gray;box-sizing: border-box;top: 0;bottom: 0;left: 50%;z-index: 0;}#sk-container-id-2 div.sk-serial {display: flex;flex-direction: column;align-items: center;background-color: white;padding-right: 0.2em;padding-left: 0.2em;position: relative;}#sk-container-id-2 div.sk-item {position: relative;z-index: 1;}#sk-container-id-2 div.sk-parallel {display: flex;align-items: stretch;justify-content: center;background-color: white;position: relative;}#sk-container-id-2 div.sk-item::before, #sk-container-id-2 div.sk-parallel-item::before {content: \"\";position: absolute;border-left: 1px solid gray;box-sizing: border-box;top: 0;bottom: 0;left: 50%;z-index: -1;}#sk-container-id-2 div.sk-parallel-item {display: flex;flex-direction: column;z-index: 1;position: relative;background-color: white;}#sk-container-id-2 div.sk-parallel-item:first-child::after {align-self: flex-end;width: 50%;}#sk-container-id-2 div.sk-parallel-item:last-child::after {align-self: flex-start;width: 50%;}#sk-container-id-2 div.sk-parallel-item:only-child::after {width: 0;}#sk-container-id-2 div.sk-dashed-wrapped {border: 1px dashed gray;margin: 0 0.4em 0.5em 0.4em;box-sizing: border-box;padding-bottom: 0.4em;background-color: white;}#sk-container-id-2 div.sk-label label {font-family: monospace;font-weight: bold;display: inline-block;line-height: 1.2em;}#sk-container-id-2 div.sk-label-container {text-align: center;}#sk-container-id-2 div.sk-container {/* jupyter's `normalize.less` sets `[hidden] { display: none; }` but bootstrap.min.css set `[hidden] { display: none !important; }` so we also need the `!important` here to be able to override the default hidden behavior on the sphinx rendered scikit-learn.org. See: https://github.com/scikit-learn/scikit-learn/issues/21755 */display: inline-block !important;position: relative;}#sk-container-id-2 div.sk-text-repr-fallback {display: none;}</style><div id=\"sk-container-id-2\" class=\"sk-top-container\"><div class=\"sk-text-repr-fallback\"><pre>GridSearchCV(cv=5, estimator=RandomForestClassifier(),\n",
              "             param_grid={&#x27;criterion&#x27;: [&#x27;gini&#x27;, &#x27;entropy&#x27;],\n",
              "                         &#x27;max_depth&#x27;: [4, 5, 6, 7, 8],\n",
              "                         &#x27;max_features&#x27;: [&#x27;auto&#x27;, &#x27;sqrt&#x27;, &#x27;log2&#x27;],\n",
              "                         &#x27;n_estimators&#x27;: [200, 500]})</pre><b>In a Jupyter environment, please rerun this cell to show the HTML representation or trust the notebook. <br />On GitHub, the HTML representation is unable to render, please try loading this page with nbviewer.org.</b></div><div class=\"sk-container\" hidden><div class=\"sk-item sk-dashed-wrapped\"><div class=\"sk-label-container\"><div class=\"sk-label sk-toggleable\"><input class=\"sk-toggleable__control sk-hidden--visually\" id=\"sk-estimator-id-2\" type=\"checkbox\" ><label for=\"sk-estimator-id-2\" class=\"sk-toggleable__label sk-toggleable__label-arrow\">GridSearchCV</label><div class=\"sk-toggleable__content\"><pre>GridSearchCV(cv=5, estimator=RandomForestClassifier(),\n",
              "             param_grid={&#x27;criterion&#x27;: [&#x27;gini&#x27;, &#x27;entropy&#x27;],\n",
              "                         &#x27;max_depth&#x27;: [4, 5, 6, 7, 8],\n",
              "                         &#x27;max_features&#x27;: [&#x27;auto&#x27;, &#x27;sqrt&#x27;, &#x27;log2&#x27;],\n",
              "                         &#x27;n_estimators&#x27;: [200, 500]})</pre></div></div></div><div class=\"sk-parallel\"><div class=\"sk-parallel-item\"><div class=\"sk-item\"><div class=\"sk-label-container\"><div class=\"sk-label sk-toggleable\"><input class=\"sk-toggleable__control sk-hidden--visually\" id=\"sk-estimator-id-3\" type=\"checkbox\" ><label for=\"sk-estimator-id-3\" class=\"sk-toggleable__label sk-toggleable__label-arrow\">estimator: RandomForestClassifier</label><div class=\"sk-toggleable__content\"><pre>RandomForestClassifier()</pre></div></div></div><div class=\"sk-serial\"><div class=\"sk-item\"><div class=\"sk-estimator sk-toggleable\"><input class=\"sk-toggleable__control sk-hidden--visually\" id=\"sk-estimator-id-4\" type=\"checkbox\" ><label for=\"sk-estimator-id-4\" class=\"sk-toggleable__label sk-toggleable__label-arrow\">RandomForestClassifier</label><div class=\"sk-toggleable__content\"><pre>RandomForestClassifier()</pre></div></div></div></div></div></div></div></div></div></div>"
            ],
            "text/plain": [
              "GridSearchCV(cv=5, estimator=RandomForestClassifier(),\n",
              "             param_grid={'criterion': ['gini', 'entropy'],\n",
              "                         'max_depth': [4, 5, 6, 7, 8],\n",
              "                         'max_features': ['auto', 'sqrt', 'log2'],\n",
              "                         'n_estimators': [200, 500]})"
            ]
          },
          "execution_count": 128,
          "metadata": {},
          "output_type": "execute_result"
        }
      ],
      "source": [
        "from sklearn.model_selection import GridSearchCV\n",
        "from sklearn.ensemble import RandomForestClassifier\n",
        "rfc=RandomForestClassifier()\n",
        "CV_rfc = GridSearchCV(estimator=rfc, param_grid=param_grid, cv= 5)\n",
        "CV_rfc.fit(X_train, y_train)"
      ]
    },
    {
      "cell_type": "code",
      "execution_count": null,
      "id": "740d5225",
      "metadata": {
        "id": "740d5225",
        "outputId": "c8c40a2e-7bca-4fc8-ffc4-8aab32668b89"
      },
      "outputs": [
        {
          "data": {
            "text/plain": [
              "{'criterion': 'gini',\n",
              " 'max_depth': 8,\n",
              " 'max_features': 'sqrt',\n",
              " 'n_estimators': 500}"
            ]
          },
          "execution_count": 129,
          "metadata": {},
          "output_type": "execute_result"
        }
      ],
      "source": [
        "CV_rfc.best_params_"
      ]
    },
    {
      "cell_type": "code",
      "execution_count": null,
      "id": "a2a808e1",
      "metadata": {
        "id": "a2a808e1"
      },
      "outputs": [],
      "source": [
        "model1=RandomForestClassifier(criterion='gini',max_depth=8,max_features='sqrt',n_estimators=500)\n",
        "model1.fit(X_train,y_train)\n",
        "y_pred1=model1.predict(X_test)"
      ]
    },
    {
      "cell_type": "code",
      "execution_count": null,
      "id": "464b9e47",
      "metadata": {
        "id": "464b9e47",
        "outputId": "993e5b95-6a61-4816-d550-f324c7c4fa5b"
      },
      "outputs": [
        {
          "data": {
            "text/plain": [
              "array([[2365,   51],\n",
              "       [ 347,  237]], dtype=int64)"
            ]
          },
          "execution_count": 133,
          "metadata": {},
          "output_type": "execute_result"
        }
      ],
      "source": [
        "confusion_matrix(y_test,y_pred1)"
      ]
    },
    {
      "cell_type": "code",
      "execution_count": null,
      "id": "c2b26382",
      "metadata": {
        "id": "c2b26382",
        "outputId": "3ba7ad90-4ede-4127-cfc6-9188acb927e9"
      },
      "outputs": [
        {
          "name": "stdout",
          "output_type": "stream",
          "text": [
            "              precision    recall  f1-score   support\n",
            "\n",
            "           0       0.87      0.98      0.92      2416\n",
            "           1       0.82      0.41      0.54       584\n",
            "\n",
            "    accuracy                           0.87      3000\n",
            "   macro avg       0.85      0.69      0.73      3000\n",
            "weighted avg       0.86      0.87      0.85      3000\n",
            "\n"
          ]
        }
      ],
      "source": [
        "print(classification_report(y_test,y_pred1))"
      ]
    },
    {
      "cell_type": "markdown",
      "id": "929a376a",
      "metadata": {
        "id": "929a376a"
      },
      "source": [
        "#### on training - to check overfitting or underfitting"
      ]
    },
    {
      "cell_type": "code",
      "execution_count": null,
      "id": "6a567326",
      "metadata": {
        "id": "6a567326"
      },
      "outputs": [],
      "source": [
        "y_pred_train_1 = model1.predict(X_train)"
      ]
    },
    {
      "cell_type": "code",
      "execution_count": null,
      "id": "448f7c70",
      "metadata": {
        "id": "448f7c70",
        "outputId": "8a215baa-a01f-4a47-a5d2-b522bdc7fc31"
      },
      "outputs": [
        {
          "data": {
            "text/plain": [
              "array([[5465,   82],\n",
              "       [ 800,  653]], dtype=int64)"
            ]
          },
          "execution_count": 136,
          "metadata": {},
          "output_type": "execute_result"
        }
      ],
      "source": [
        "confusion_matrix(y_train,y_pred_train_1)"
      ]
    },
    {
      "cell_type": "code",
      "execution_count": null,
      "id": "96eb7ac7",
      "metadata": {
        "id": "96eb7ac7",
        "outputId": "26d387f9-384a-4c65-ba3d-47d98fe080ab"
      },
      "outputs": [
        {
          "name": "stdout",
          "output_type": "stream",
          "text": [
            "              precision    recall  f1-score   support\n",
            "\n",
            "           0       0.87      0.99      0.93      5547\n",
            "           1       0.89      0.45      0.60      1453\n",
            "\n",
            "    accuracy                           0.87      7000\n",
            "   macro avg       0.88      0.72      0.76      7000\n",
            "weighted avg       0.88      0.87      0.86      7000\n",
            "\n"
          ]
        }
      ],
      "source": [
        "print(classification_report(y_train,y_pred_train_1))"
      ]
    },
    {
      "cell_type": "markdown",
      "id": "3d1d6a48",
      "metadata": {
        "id": "3d1d6a48"
      },
      "source": [
        "# RF - with balanced data - oversampling"
      ]
    },
    {
      "cell_type": "code",
      "execution_count": null,
      "id": "b9f53693",
      "metadata": {
        "id": "b9f53693",
        "outputId": "d4fbe26d-7556-44bd-d4b8-8e2998ecd7fe"
      },
      "outputs": [
        {
          "name": "stdout",
          "output_type": "stream",
          "text": [
            "confusion matrix_test\n",
            "[[1974  442]\n",
            " [ 176  408]]\n",
            "classification report_test\n",
            "              precision    recall  f1-score   support\n",
            "\n",
            "           0       0.92      0.82      0.86      2416\n",
            "           1       0.48      0.70      0.57       584\n",
            "\n",
            "    accuracy                           0.79      3000\n",
            "   macro avg       0.70      0.76      0.72      3000\n",
            "weighted avg       0.83      0.79      0.81      3000\n",
            "\n"
          ]
        }
      ],
      "source": [
        "model2=RandomForestClassifier(criterion='gini',max_depth=8,max_features='sqrt',n_estimators=500)\n",
        "model2.fit(X_train_res,y_train_res)\n",
        "y_pred2=model2.predict(X_test)\n",
        "\n",
        "print(\"confusion matrix_test\")\n",
        "print(confusion_matrix(y_test,y_pred2))\n",
        "\n",
        "print(\"classification report_test\")\n",
        "print(classification_report(y_test,y_pred2))\n"
      ]
    },
    {
      "cell_type": "markdown",
      "id": "07ebb758",
      "metadata": {
        "id": "07ebb758"
      },
      "source": [
        "# RF - with balanced data - undersampling"
      ]
    },
    {
      "cell_type": "code",
      "execution_count": null,
      "id": "0cabbdda",
      "metadata": {
        "id": "0cabbdda",
        "outputId": "065949c5-8810-4675-fcfd-36937b6ef642"
      },
      "outputs": [
        {
          "name": "stdout",
          "output_type": "stream",
          "text": [
            "confusion matrix_test\n",
            "[[1451  965]\n",
            " [ 170  414]]\n",
            "classification report_test\n",
            "              precision    recall  f1-score   support\n",
            "\n",
            "           0       0.90      0.60      0.72      2416\n",
            "           1       0.30      0.71      0.42       584\n",
            "\n",
            "    accuracy                           0.62      3000\n",
            "   macro avg       0.60      0.65      0.57      3000\n",
            "weighted avg       0.78      0.62      0.66      3000\n",
            "\n"
          ]
        }
      ],
      "source": [
        "model3=RandomForestClassifier(criterion='gini',max_depth=8,max_features='sqrt',n_estimators=500)\n",
        "model3.fit(X_train_miss,y_train_miss)\n",
        "y_pred3=model3.predict(X_test)\n",
        "\n",
        "print(\"confusion matrix_test\")\n",
        "print(confusion_matrix(y_test,y_pred3))\n",
        "\n",
        "print(\"classification report_test\")\n",
        "print(classification_report(y_test,y_pred3))"
      ]
    },
    {
      "cell_type": "markdown",
      "id": "8bfe63c9",
      "metadata": {
        "id": "8bfe63c9"
      },
      "source": [
        "### undersampling is not giving optimum results for this dataset..hence will opt for oversampling"
      ]
    },
    {
      "cell_type": "markdown",
      "id": "dc1ce1ed",
      "metadata": {
        "id": "dc1ce1ed"
      },
      "source": [
        "# SVM"
      ]
    },
    {
      "cell_type": "code",
      "execution_count": null,
      "id": "8c8f5e66",
      "metadata": {
        "id": "8c8f5e66"
      },
      "outputs": [],
      "source": [
        "from sklearn.model_selection import train_test_split,GridSearchCV,RandomizedSearchCV"
      ]
    },
    {
      "cell_type": "code",
      "execution_count": null,
      "id": "6d5ef565",
      "metadata": {
        "id": "6d5ef565",
        "outputId": "7b9bb620-94ea-47f5-edc8-ec789354f6f8"
      },
      "outputs": [
        {
          "name": "stdout",
          "output_type": "stream",
          "text": [
            "[[2416    0]\n",
            " [ 563   21]]\n",
            "              precision    recall  f1-score   support\n",
            "\n",
            "           0       0.81      1.00      0.90      2416\n",
            "           1       1.00      0.04      0.07       584\n",
            "\n",
            "    accuracy                           0.81      3000\n",
            "   macro avg       0.91      0.52      0.48      3000\n",
            "weighted avg       0.85      0.81      0.73      3000\n",
            "\n"
          ]
        }
      ],
      "source": [
        "from sklearn.svm import SVC\n",
        "\n",
        "model4=SVC()\n",
        "model4.fit(X_train,y_train)\n",
        "y_pred4=model4.predict(X_test)\n",
        "\n",
        "print(confusion_matrix(y_test,y_pred4))\n",
        "\n",
        "print(classification_report(y_test,y_pred4))"
      ]
    },
    {
      "cell_type": "code",
      "execution_count": null,
      "id": "2b8c366e",
      "metadata": {
        "id": "2b8c366e",
        "outputId": "26c1684f-be55-43ca-d8a7-d96c83ffa202"
      },
      "outputs": [
        {
          "name": "stdout",
          "output_type": "stream",
          "text": [
            "Fitting 5 folds for each of 25 candidates, totalling 125 fits\n",
            "[CV 1/5] END ........C=0.1, gamma=1, kernel=rbf;, score=0.792 total time=   1.3s\n",
            "[CV 2/5] END ........C=0.1, gamma=1, kernel=rbf;, score=0.792 total time=   1.3s\n",
            "[CV 3/5] END ........C=0.1, gamma=1, kernel=rbf;, score=0.792 total time=   1.3s\n",
            "[CV 4/5] END ........C=0.1, gamma=1, kernel=rbf;, score=0.793 total time=   1.3s\n",
            "[CV 5/5] END ........C=0.1, gamma=1, kernel=rbf;, score=0.793 total time=   1.3s\n",
            "[CV 1/5] END ......C=0.1, gamma=0.1, kernel=rbf;, score=0.795 total time=   1.1s\n",
            "[CV 2/5] END ......C=0.1, gamma=0.1, kernel=rbf;, score=0.796 total time=   1.1s\n",
            "[CV 3/5] END ......C=0.1, gamma=0.1, kernel=rbf;, score=0.794 total time=   1.2s\n",
            "[CV 4/5] END ......C=0.1, gamma=0.1, kernel=rbf;, score=0.796 total time=   1.2s\n",
            "[CV 5/5] END ......C=0.1, gamma=0.1, kernel=rbf;, score=0.798 total time=   1.2s\n",
            "[CV 1/5] END .....C=0.1, gamma=0.01, kernel=rbf;, score=0.792 total time=   1.0s\n",
            "[CV 2/5] END .....C=0.1, gamma=0.01, kernel=rbf;, score=0.792 total time=   1.0s\n",
            "[CV 3/5] END .....C=0.1, gamma=0.01, kernel=rbf;, score=0.792 total time=   1.1s\n",
            "[CV 4/5] END .....C=0.1, gamma=0.01, kernel=rbf;, score=0.793 total time=   1.1s\n",
            "[CV 5/5] END .....C=0.1, gamma=0.01, kernel=rbf;, score=0.793 total time=   1.0s\n",
            "[CV 1/5] END ....C=0.1, gamma=0.001, kernel=rbf;, score=0.792 total time=   0.9s\n",
            "[CV 2/5] END ....C=0.1, gamma=0.001, kernel=rbf;, score=0.792 total time=   1.0s\n",
            "[CV 3/5] END ....C=0.1, gamma=0.001, kernel=rbf;, score=0.792 total time=   0.9s\n",
            "[CV 4/5] END ....C=0.1, gamma=0.001, kernel=rbf;, score=0.793 total time=   1.0s\n",
            "[CV 5/5] END ....C=0.1, gamma=0.001, kernel=rbf;, score=0.793 total time=   0.9s\n",
            "[CV 1/5] END ...C=0.1, gamma=0.0001, kernel=rbf;, score=0.792 total time=   0.9s\n",
            "[CV 2/5] END ...C=0.1, gamma=0.0001, kernel=rbf;, score=0.792 total time=   0.9s\n",
            "[CV 3/5] END ...C=0.1, gamma=0.0001, kernel=rbf;, score=0.792 total time=   0.9s\n",
            "[CV 4/5] END ...C=0.1, gamma=0.0001, kernel=rbf;, score=0.793 total time=   0.9s\n",
            "[CV 5/5] END ...C=0.1, gamma=0.0001, kernel=rbf;, score=0.793 total time=   0.9s\n",
            "[CV 1/5] END ..........C=1, gamma=1, kernel=rbf;, score=0.829 total time=   1.3s\n",
            "[CV 2/5] END ..........C=1, gamma=1, kernel=rbf;, score=0.826 total time=   1.2s\n",
            "[CV 3/5] END ..........C=1, gamma=1, kernel=rbf;, score=0.822 total time=   1.3s\n",
            "[CV 4/5] END ..........C=1, gamma=1, kernel=rbf;, score=0.834 total time=   1.2s\n",
            "[CV 5/5] END ..........C=1, gamma=1, kernel=rbf;, score=0.821 total time=   1.3s\n",
            "[CV 1/5] END ........C=1, gamma=0.1, kernel=rbf;, score=0.814 total time=   1.1s\n",
            "[CV 2/5] END ........C=1, gamma=0.1, kernel=rbf;, score=0.822 total time=   1.1s\n",
            "[CV 3/5] END ........C=1, gamma=0.1, kernel=rbf;, score=0.812 total time=   1.2s\n",
            "[CV 4/5] END ........C=1, gamma=0.1, kernel=rbf;, score=0.818 total time=   1.1s\n",
            "[CV 5/5] END ........C=1, gamma=0.1, kernel=rbf;, score=0.816 total time=   1.1s\n",
            "[CV 1/5] END .......C=1, gamma=0.01, kernel=rbf;, score=0.792 total time=   1.2s\n",
            "[CV 2/5] END .......C=1, gamma=0.01, kernel=rbf;, score=0.792 total time=   1.2s\n",
            "[CV 3/5] END .......C=1, gamma=0.01, kernel=rbf;, score=0.792 total time=   1.3s\n",
            "[CV 4/5] END .......C=1, gamma=0.01, kernel=rbf;, score=0.793 total time=   1.2s\n",
            "[CV 5/5] END .......C=1, gamma=0.01, kernel=rbf;, score=0.793 total time=   1.2s\n",
            "[CV 1/5] END ......C=1, gamma=0.001, kernel=rbf;, score=0.792 total time=   1.0s\n",
            "[CV 2/5] END ......C=1, gamma=0.001, kernel=rbf;, score=0.792 total time=   1.0s\n",
            "[CV 3/5] END ......C=1, gamma=0.001, kernel=rbf;, score=0.792 total time=   1.0s\n",
            "[CV 4/5] END ......C=1, gamma=0.001, kernel=rbf;, score=0.793 total time=   0.9s\n",
            "[CV 5/5] END ......C=1, gamma=0.001, kernel=rbf;, score=0.793 total time=   1.0s\n",
            "[CV 1/5] END .....C=1, gamma=0.0001, kernel=rbf;, score=0.792 total time=   0.9s\n",
            "[CV 2/5] END .....C=1, gamma=0.0001, kernel=rbf;, score=0.792 total time=   1.0s\n",
            "[CV 3/5] END .....C=1, gamma=0.0001, kernel=rbf;, score=0.792 total time=   0.9s\n",
            "[CV 4/5] END .....C=1, gamma=0.0001, kernel=rbf;, score=0.793 total time=   0.9s\n",
            "[CV 5/5] END .....C=1, gamma=0.0001, kernel=rbf;, score=0.793 total time=   0.9s\n",
            "[CV 1/5] END .........C=10, gamma=1, kernel=rbf;, score=0.804 total time=   1.4s\n",
            "[CV 2/5] END .........C=10, gamma=1, kernel=rbf;, score=0.829 total time=   1.3s\n",
            "[CV 3/5] END .........C=10, gamma=1, kernel=rbf;, score=0.816 total time=   1.3s\n",
            "[CV 4/5] END .........C=10, gamma=1, kernel=rbf;, score=0.814 total time=   1.3s\n",
            "[CV 5/5] END .........C=10, gamma=1, kernel=rbf;, score=0.819 total time=   1.3s\n",
            "[CV 1/5] END .......C=10, gamma=0.1, kernel=rbf;, score=0.839 total time=   1.1s\n",
            "[CV 2/5] END .......C=10, gamma=0.1, kernel=rbf;, score=0.839 total time=   1.1s\n",
            "[CV 3/5] END .......C=10, gamma=0.1, kernel=rbf;, score=0.851 total time=   1.1s\n",
            "[CV 4/5] END .......C=10, gamma=0.1, kernel=rbf;, score=0.849 total time=   1.1s\n",
            "[CV 5/5] END .......C=10, gamma=0.1, kernel=rbf;, score=0.845 total time=   1.1s\n",
            "[CV 1/5] END ......C=10, gamma=0.01, kernel=rbf;, score=0.799 total time=   1.3s\n",
            "[CV 2/5] END ......C=10, gamma=0.01, kernel=rbf;, score=0.800 total time=   1.3s\n",
            "[CV 3/5] END ......C=10, gamma=0.01, kernel=rbf;, score=0.795 total time=   1.4s\n",
            "[CV 4/5] END ......C=10, gamma=0.01, kernel=rbf;, score=0.798 total time=   1.3s\n",
            "[CV 5/5] END ......C=10, gamma=0.01, kernel=rbf;, score=0.799 total time=   1.3s\n",
            "[CV 1/5] END .....C=10, gamma=0.001, kernel=rbf;, score=0.792 total time=   1.3s\n",
            "[CV 2/5] END .....C=10, gamma=0.001, kernel=rbf;, score=0.792 total time=   1.2s\n",
            "[CV 3/5] END .....C=10, gamma=0.001, kernel=rbf;, score=0.792 total time=   1.3s\n",
            "[CV 4/5] END .....C=10, gamma=0.001, kernel=rbf;, score=0.793 total time=   1.2s\n",
            "[CV 5/5] END .....C=10, gamma=0.001, kernel=rbf;, score=0.793 total time=   1.3s\n",
            "[CV 1/5] END ....C=10, gamma=0.0001, kernel=rbf;, score=0.792 total time=   1.1s\n",
            "[CV 2/5] END ....C=10, gamma=0.0001, kernel=rbf;, score=0.792 total time=   1.0s\n",
            "[CV 3/5] END ....C=10, gamma=0.0001, kernel=rbf;, score=0.792 total time=   1.1s\n",
            "[CV 4/5] END ....C=10, gamma=0.0001, kernel=rbf;, score=0.793 total time=   1.1s\n",
            "[CV 5/5] END ....C=10, gamma=0.0001, kernel=rbf;, score=0.793 total time=   1.1s\n",
            "[CV 1/5] END ........C=100, gamma=1, kernel=rbf;, score=0.788 total time=   1.6s\n",
            "[CV 2/5] END ........C=100, gamma=1, kernel=rbf;, score=0.782 total time=   1.7s\n",
            "[CV 3/5] END ........C=100, gamma=1, kernel=rbf;, score=0.777 total time=   1.8s\n",
            "[CV 4/5] END ........C=100, gamma=1, kernel=rbf;, score=0.774 total time=   1.6s\n",
            "[CV 5/5] END ........C=100, gamma=1, kernel=rbf;, score=0.784 total time=   1.6s\n",
            "[CV 1/5] END ......C=100, gamma=0.1, kernel=rbf;, score=0.844 total time=   1.7s\n",
            "[CV 2/5] END ......C=100, gamma=0.1, kernel=rbf;, score=0.844 total time=   1.9s\n",
            "[CV 3/5] END ......C=100, gamma=0.1, kernel=rbf;, score=0.842 total time=   1.9s\n",
            "[CV 4/5] END ......C=100, gamma=0.1, kernel=rbf;, score=0.847 total time=   1.9s\n",
            "[CV 5/5] END ......C=100, gamma=0.1, kernel=rbf;, score=0.842 total time=   1.8s\n",
            "[CV 1/5] END .....C=100, gamma=0.01, kernel=rbf;, score=0.814 total time=   1.3s\n",
            "[CV 2/5] END .....C=100, gamma=0.01, kernel=rbf;, score=0.822 total time=   1.4s\n",
            "[CV 3/5] END .....C=100, gamma=0.01, kernel=rbf;, score=0.812 total time=   1.5s\n",
            "[CV 4/5] END .....C=100, gamma=0.01, kernel=rbf;, score=0.817 total time=   1.4s\n",
            "[CV 5/5] END .....C=100, gamma=0.01, kernel=rbf;, score=0.816 total time=   1.4s\n",
            "[CV 1/5] END ....C=100, gamma=0.001, kernel=rbf;, score=0.792 total time=   2.0s\n",
            "[CV 2/5] END ....C=100, gamma=0.001, kernel=rbf;, score=0.792 total time=   2.0s\n",
            "[CV 3/5] END ....C=100, gamma=0.001, kernel=rbf;, score=0.792 total time=   2.2s\n",
            "[CV 4/5] END ....C=100, gamma=0.001, kernel=rbf;, score=0.793 total time=   2.1s\n",
            "[CV 5/5] END ....C=100, gamma=0.001, kernel=rbf;, score=0.793 total time=   2.1s\n",
            "[CV 1/5] END ...C=100, gamma=0.0001, kernel=rbf;, score=0.792 total time=   1.2s\n",
            "[CV 2/5] END ...C=100, gamma=0.0001, kernel=rbf;, score=0.792 total time=   1.2s\n",
            "[CV 3/5] END ...C=100, gamma=0.0001, kernel=rbf;, score=0.792 total time=   1.2s\n",
            "[CV 4/5] END ...C=100, gamma=0.0001, kernel=rbf;, score=0.793 total time=   1.2s\n",
            "[CV 5/5] END ...C=100, gamma=0.0001, kernel=rbf;, score=0.793 total time=   1.2s\n",
            "[CV 1/5] END .......C=1000, gamma=1, kernel=rbf;, score=0.768 total time=   2.2s\n"
          ]
        },
        {
          "name": "stdout",
          "output_type": "stream",
          "text": [
            "[CV 2/5] END .......C=1000, gamma=1, kernel=rbf;, score=0.774 total time=   2.2s\n",
            "[CV 3/5] END .......C=1000, gamma=1, kernel=rbf;, score=0.751 total time=   2.2s\n",
            "[CV 4/5] END .......C=1000, gamma=1, kernel=rbf;, score=0.764 total time=   2.2s\n",
            "[CV 5/5] END .......C=1000, gamma=1, kernel=rbf;, score=0.769 total time=   2.3s\n",
            "[CV 1/5] END .....C=1000, gamma=0.1, kernel=rbf;, score=0.829 total time=   6.5s\n",
            "[CV 2/5] END .....C=1000, gamma=0.1, kernel=rbf;, score=0.840 total time=   7.6s\n",
            "[CV 3/5] END .....C=1000, gamma=0.1, kernel=rbf;, score=0.843 total time=   8.1s\n",
            "[CV 4/5] END .....C=1000, gamma=0.1, kernel=rbf;, score=0.833 total time=   7.3s\n",
            "[CV 5/5] END .....C=1000, gamma=0.1, kernel=rbf;, score=0.823 total time=   6.9s\n",
            "[CV 1/5] END ....C=1000, gamma=0.01, kernel=rbf;, score=0.848 total time=   2.0s\n",
            "[CV 2/5] END ....C=1000, gamma=0.01, kernel=rbf;, score=0.844 total time=   2.3s\n",
            "[CV 3/5] END ....C=1000, gamma=0.01, kernel=rbf;, score=0.854 total time=   2.2s\n",
            "[CV 4/5] END ....C=1000, gamma=0.01, kernel=rbf;, score=0.856 total time=   2.2s\n",
            "[CV 5/5] END ....C=1000, gamma=0.01, kernel=rbf;, score=0.853 total time=   2.2s\n",
            "[CV 1/5] END ...C=1000, gamma=0.001, kernel=rbf;, score=0.806 total time=   2.4s\n",
            "[CV 2/5] END ...C=1000, gamma=0.001, kernel=rbf;, score=0.800 total time=   2.2s\n",
            "[CV 3/5] END ...C=1000, gamma=0.001, kernel=rbf;, score=0.795 total time=   2.8s\n",
            "[CV 4/5] END ...C=1000, gamma=0.001, kernel=rbf;, score=0.799 total time=   2.5s\n",
            "[CV 5/5] END ...C=1000, gamma=0.001, kernel=rbf;, score=0.800 total time=   2.6s\n",
            "[CV 1/5] END ..C=1000, gamma=0.0001, kernel=rbf;, score=0.792 total time=   3.0s\n",
            "[CV 2/5] END ..C=1000, gamma=0.0001, kernel=rbf;, score=0.792 total time=   2.7s\n",
            "[CV 3/5] END ..C=1000, gamma=0.0001, kernel=rbf;, score=0.792 total time=   2.9s\n",
            "[CV 4/5] END ..C=1000, gamma=0.0001, kernel=rbf;, score=0.793 total time=   2.7s\n",
            "[CV 5/5] END ..C=1000, gamma=0.0001, kernel=rbf;, score=0.793 total time=   3.0s\n"
          ]
        },
        {
          "data": {
            "text/html": [
              "<style>#sk-container-id-3 {color: black;background-color: white;}#sk-container-id-3 pre{padding: 0;}#sk-container-id-3 div.sk-toggleable {background-color: white;}#sk-container-id-3 label.sk-toggleable__label {cursor: pointer;display: block;width: 100%;margin-bottom: 0;padding: 0.3em;box-sizing: border-box;text-align: center;}#sk-container-id-3 label.sk-toggleable__label-arrow:before {content: \"▸\";float: left;margin-right: 0.25em;color: #696969;}#sk-container-id-3 label.sk-toggleable__label-arrow:hover:before {color: black;}#sk-container-id-3 div.sk-estimator:hover label.sk-toggleable__label-arrow:before {color: black;}#sk-container-id-3 div.sk-toggleable__content {max-height: 0;max-width: 0;overflow: hidden;text-align: left;background-color: #f0f8ff;}#sk-container-id-3 div.sk-toggleable__content pre {margin: 0.2em;color: black;border-radius: 0.25em;background-color: #f0f8ff;}#sk-container-id-3 input.sk-toggleable__control:checked~div.sk-toggleable__content {max-height: 200px;max-width: 100%;overflow: auto;}#sk-container-id-3 input.sk-toggleable__control:checked~label.sk-toggleable__label-arrow:before {content: \"▾\";}#sk-container-id-3 div.sk-estimator input.sk-toggleable__control:checked~label.sk-toggleable__label {background-color: #d4ebff;}#sk-container-id-3 div.sk-label input.sk-toggleable__control:checked~label.sk-toggleable__label {background-color: #d4ebff;}#sk-container-id-3 input.sk-hidden--visually {border: 0;clip: rect(1px 1px 1px 1px);clip: rect(1px, 1px, 1px, 1px);height: 1px;margin: -1px;overflow: hidden;padding: 0;position: absolute;width: 1px;}#sk-container-id-3 div.sk-estimator {font-family: monospace;background-color: #f0f8ff;border: 1px dotted black;border-radius: 0.25em;box-sizing: border-box;margin-bottom: 0.5em;}#sk-container-id-3 div.sk-estimator:hover {background-color: #d4ebff;}#sk-container-id-3 div.sk-parallel-item::after {content: \"\";width: 100%;border-bottom: 1px solid gray;flex-grow: 1;}#sk-container-id-3 div.sk-label:hover label.sk-toggleable__label {background-color: #d4ebff;}#sk-container-id-3 div.sk-serial::before {content: \"\";position: absolute;border-left: 1px solid gray;box-sizing: border-box;top: 0;bottom: 0;left: 50%;z-index: 0;}#sk-container-id-3 div.sk-serial {display: flex;flex-direction: column;align-items: center;background-color: white;padding-right: 0.2em;padding-left: 0.2em;position: relative;}#sk-container-id-3 div.sk-item {position: relative;z-index: 1;}#sk-container-id-3 div.sk-parallel {display: flex;align-items: stretch;justify-content: center;background-color: white;position: relative;}#sk-container-id-3 div.sk-item::before, #sk-container-id-3 div.sk-parallel-item::before {content: \"\";position: absolute;border-left: 1px solid gray;box-sizing: border-box;top: 0;bottom: 0;left: 50%;z-index: -1;}#sk-container-id-3 div.sk-parallel-item {display: flex;flex-direction: column;z-index: 1;position: relative;background-color: white;}#sk-container-id-3 div.sk-parallel-item:first-child::after {align-self: flex-end;width: 50%;}#sk-container-id-3 div.sk-parallel-item:last-child::after {align-self: flex-start;width: 50%;}#sk-container-id-3 div.sk-parallel-item:only-child::after {width: 0;}#sk-container-id-3 div.sk-dashed-wrapped {border: 1px dashed gray;margin: 0 0.4em 0.5em 0.4em;box-sizing: border-box;padding-bottom: 0.4em;background-color: white;}#sk-container-id-3 div.sk-label label {font-family: monospace;font-weight: bold;display: inline-block;line-height: 1.2em;}#sk-container-id-3 div.sk-label-container {text-align: center;}#sk-container-id-3 div.sk-container {/* jupyter's `normalize.less` sets `[hidden] { display: none; }` but bootstrap.min.css set `[hidden] { display: none !important; }` so we also need the `!important` here to be able to override the default hidden behavior on the sphinx rendered scikit-learn.org. See: https://github.com/scikit-learn/scikit-learn/issues/21755 */display: inline-block !important;position: relative;}#sk-container-id-3 div.sk-text-repr-fallback {display: none;}</style><div id=\"sk-container-id-3\" class=\"sk-top-container\"><div class=\"sk-text-repr-fallback\"><pre>GridSearchCV(estimator=SVC(),\n",
              "             param_grid={&#x27;C&#x27;: [0.1, 1, 10, 100, 1000],\n",
              "                         &#x27;gamma&#x27;: [1, 0.1, 0.01, 0.001, 0.0001],\n",
              "                         &#x27;kernel&#x27;: [&#x27;rbf&#x27;]},\n",
              "             verbose=3)</pre><b>In a Jupyter environment, please rerun this cell to show the HTML representation or trust the notebook. <br />On GitHub, the HTML representation is unable to render, please try loading this page with nbviewer.org.</b></div><div class=\"sk-container\" hidden><div class=\"sk-item sk-dashed-wrapped\"><div class=\"sk-label-container\"><div class=\"sk-label sk-toggleable\"><input class=\"sk-toggleable__control sk-hidden--visually\" id=\"sk-estimator-id-5\" type=\"checkbox\" ><label for=\"sk-estimator-id-5\" class=\"sk-toggleable__label sk-toggleable__label-arrow\">GridSearchCV</label><div class=\"sk-toggleable__content\"><pre>GridSearchCV(estimator=SVC(),\n",
              "             param_grid={&#x27;C&#x27;: [0.1, 1, 10, 100, 1000],\n",
              "                         &#x27;gamma&#x27;: [1, 0.1, 0.01, 0.001, 0.0001],\n",
              "                         &#x27;kernel&#x27;: [&#x27;rbf&#x27;]},\n",
              "             verbose=3)</pre></div></div></div><div class=\"sk-parallel\"><div class=\"sk-parallel-item\"><div class=\"sk-item\"><div class=\"sk-label-container\"><div class=\"sk-label sk-toggleable\"><input class=\"sk-toggleable__control sk-hidden--visually\" id=\"sk-estimator-id-6\" type=\"checkbox\" ><label for=\"sk-estimator-id-6\" class=\"sk-toggleable__label sk-toggleable__label-arrow\">estimator: SVC</label><div class=\"sk-toggleable__content\"><pre>SVC()</pre></div></div></div><div class=\"sk-serial\"><div class=\"sk-item\"><div class=\"sk-estimator sk-toggleable\"><input class=\"sk-toggleable__control sk-hidden--visually\" id=\"sk-estimator-id-7\" type=\"checkbox\" ><label for=\"sk-estimator-id-7\" class=\"sk-toggleable__label sk-toggleable__label-arrow\">SVC</label><div class=\"sk-toggleable__content\"><pre>SVC()</pre></div></div></div></div></div></div></div></div></div></div>"
            ],
            "text/plain": [
              "GridSearchCV(estimator=SVC(),\n",
              "             param_grid={'C': [0.1, 1, 10, 100, 1000],\n",
              "                         'gamma': [1, 0.1, 0.01, 0.001, 0.0001],\n",
              "                         'kernel': ['rbf']},\n",
              "             verbose=3)"
            ]
          },
          "execution_count": 146,
          "metadata": {},
          "output_type": "execute_result"
        }
      ],
      "source": [
        "# will still more imporove our model using hyper parameter tuning\n",
        "# Using GridSearchCV\n",
        "\n",
        "from sklearn.model_selection import GridSearchCV\n",
        "\n",
        "# defining Parameter Range\n",
        "param_grid_svc={'C':[0.1,1,10,100,1000],'gamma':[1,0.1,0.01,0.001,0.0001],'kernel':['rbf']}\n",
        "\n",
        "grid1=GridSearchCV(SVC(),param_grid_svc,refit=True,verbose=3)\n",
        "\n",
        "# fitting the model for grid search\n",
        "grid1.fit(X_train,y_train)"
      ]
    },
    {
      "cell_type": "code",
      "execution_count": null,
      "id": "b5960e27",
      "metadata": {
        "id": "b5960e27",
        "outputId": "b05e51b2-7a0c-4140-86e0-b8d7161133d1"
      },
      "outputs": [
        {
          "name": "stdout",
          "output_type": "stream",
          "text": [
            "{'C': 1000, 'gamma': 0.01, 'kernel': 'rbf'}\n",
            "SVC(C=1000, gamma=0.01)\n"
          ]
        }
      ],
      "source": [
        "# print best parameter after tuning\n",
        "\n",
        "print(grid1.best_params_)\n",
        "\n",
        "# print how our model looks after hyper-parameter tuning\n",
        "print(grid1.best_estimator_)"
      ]
    },
    {
      "cell_type": "code",
      "execution_count": null,
      "id": "37e019e4",
      "metadata": {
        "id": "37e019e4",
        "outputId": "8f3c8d2a-a412-4eb4-96da-9f97e07edad1"
      },
      "outputs": [
        {
          "name": "stdout",
          "output_type": "stream",
          "text": [
            "[LibSVM]"
          ]
        },
        {
          "data": {
            "text/html": [
              "<style>#sk-container-id-4 {color: black;background-color: white;}#sk-container-id-4 pre{padding: 0;}#sk-container-id-4 div.sk-toggleable {background-color: white;}#sk-container-id-4 label.sk-toggleable__label {cursor: pointer;display: block;width: 100%;margin-bottom: 0;padding: 0.3em;box-sizing: border-box;text-align: center;}#sk-container-id-4 label.sk-toggleable__label-arrow:before {content: \"▸\";float: left;margin-right: 0.25em;color: #696969;}#sk-container-id-4 label.sk-toggleable__label-arrow:hover:before {color: black;}#sk-container-id-4 div.sk-estimator:hover label.sk-toggleable__label-arrow:before {color: black;}#sk-container-id-4 div.sk-toggleable__content {max-height: 0;max-width: 0;overflow: hidden;text-align: left;background-color: #f0f8ff;}#sk-container-id-4 div.sk-toggleable__content pre {margin: 0.2em;color: black;border-radius: 0.25em;background-color: #f0f8ff;}#sk-container-id-4 input.sk-toggleable__control:checked~div.sk-toggleable__content {max-height: 200px;max-width: 100%;overflow: auto;}#sk-container-id-4 input.sk-toggleable__control:checked~label.sk-toggleable__label-arrow:before {content: \"▾\";}#sk-container-id-4 div.sk-estimator input.sk-toggleable__control:checked~label.sk-toggleable__label {background-color: #d4ebff;}#sk-container-id-4 div.sk-label input.sk-toggleable__control:checked~label.sk-toggleable__label {background-color: #d4ebff;}#sk-container-id-4 input.sk-hidden--visually {border: 0;clip: rect(1px 1px 1px 1px);clip: rect(1px, 1px, 1px, 1px);height: 1px;margin: -1px;overflow: hidden;padding: 0;position: absolute;width: 1px;}#sk-container-id-4 div.sk-estimator {font-family: monospace;background-color: #f0f8ff;border: 1px dotted black;border-radius: 0.25em;box-sizing: border-box;margin-bottom: 0.5em;}#sk-container-id-4 div.sk-estimator:hover {background-color: #d4ebff;}#sk-container-id-4 div.sk-parallel-item::after {content: \"\";width: 100%;border-bottom: 1px solid gray;flex-grow: 1;}#sk-container-id-4 div.sk-label:hover label.sk-toggleable__label {background-color: #d4ebff;}#sk-container-id-4 div.sk-serial::before {content: \"\";position: absolute;border-left: 1px solid gray;box-sizing: border-box;top: 0;bottom: 0;left: 50%;z-index: 0;}#sk-container-id-4 div.sk-serial {display: flex;flex-direction: column;align-items: center;background-color: white;padding-right: 0.2em;padding-left: 0.2em;position: relative;}#sk-container-id-4 div.sk-item {position: relative;z-index: 1;}#sk-container-id-4 div.sk-parallel {display: flex;align-items: stretch;justify-content: center;background-color: white;position: relative;}#sk-container-id-4 div.sk-item::before, #sk-container-id-4 div.sk-parallel-item::before {content: \"\";position: absolute;border-left: 1px solid gray;box-sizing: border-box;top: 0;bottom: 0;left: 50%;z-index: -1;}#sk-container-id-4 div.sk-parallel-item {display: flex;flex-direction: column;z-index: 1;position: relative;background-color: white;}#sk-container-id-4 div.sk-parallel-item:first-child::after {align-self: flex-end;width: 50%;}#sk-container-id-4 div.sk-parallel-item:last-child::after {align-self: flex-start;width: 50%;}#sk-container-id-4 div.sk-parallel-item:only-child::after {width: 0;}#sk-container-id-4 div.sk-dashed-wrapped {border: 1px dashed gray;margin: 0 0.4em 0.5em 0.4em;box-sizing: border-box;padding-bottom: 0.4em;background-color: white;}#sk-container-id-4 div.sk-label label {font-family: monospace;font-weight: bold;display: inline-block;line-height: 1.2em;}#sk-container-id-4 div.sk-label-container {text-align: center;}#sk-container-id-4 div.sk-container {/* jupyter's `normalize.less` sets `[hidden] { display: none; }` but bootstrap.min.css set `[hidden] { display: none !important; }` so we also need the `!important` here to be able to override the default hidden behavior on the sphinx rendered scikit-learn.org. See: https://github.com/scikit-learn/scikit-learn/issues/21755 */display: inline-block !important;position: relative;}#sk-container-id-4 div.sk-text-repr-fallback {display: none;}</style><div id=\"sk-container-id-4\" class=\"sk-top-container\"><div class=\"sk-text-repr-fallback\"><pre>SVC(C=1000, gamma=0.01, verbose=3)</pre><b>In a Jupyter environment, please rerun this cell to show the HTML representation or trust the notebook. <br />On GitHub, the HTML representation is unable to render, please try loading this page with nbviewer.org.</b></div><div class=\"sk-container\" hidden><div class=\"sk-item\"><div class=\"sk-estimator sk-toggleable\"><input class=\"sk-toggleable__control sk-hidden--visually\" id=\"sk-estimator-id-8\" type=\"checkbox\" checked><label for=\"sk-estimator-id-8\" class=\"sk-toggleable__label sk-toggleable__label-arrow\">SVC</label><div class=\"sk-toggleable__content\"><pre>SVC(C=1000, gamma=0.01, verbose=3)</pre></div></div></div></div></div>"
            ],
            "text/plain": [
              "SVC(C=1000, gamma=0.01, verbose=3)"
            ]
          },
          "execution_count": 152,
          "metadata": {},
          "output_type": "execute_result"
        }
      ],
      "source": [
        "grid2=SVC(C = 1000, gamma = 0.01, kernel= 'rbf',verbose=3)\n",
        "# fitting the model for grid search\n",
        "grid2.fit(X_train,y_train)"
      ]
    },
    {
      "cell_type": "code",
      "execution_count": null,
      "id": "6e25e588",
      "metadata": {
        "id": "6e25e588",
        "outputId": "dde78f6e-c12a-4ea0-a929-235deeaf9cb4"
      },
      "outputs": [
        {
          "name": "stdout",
          "output_type": "stream",
          "text": [
            "[[2375   41]\n",
            " [ 371  213]]\n",
            "              precision    recall  f1-score   support\n",
            "\n",
            "           0       0.86      0.98      0.92      2416\n",
            "           1       0.84      0.36      0.51       584\n",
            "\n",
            "    accuracy                           0.86      3000\n",
            "   macro avg       0.85      0.67      0.71      3000\n",
            "weighted avg       0.86      0.86      0.84      3000\n",
            "\n"
          ]
        }
      ],
      "source": [
        "y_pred5=grid2.predict(X_test)\n",
        "\n",
        "print(confusion_matrix(y_test,y_pred5))\n",
        "\n",
        "print(classification_report(y_test,y_pred5))"
      ]
    },
    {
      "cell_type": "markdown",
      "id": "c3fc2713",
      "metadata": {
        "id": "c3fc2713"
      },
      "source": [
        "# SVM - balanced data"
      ]
    },
    {
      "cell_type": "code",
      "execution_count": null,
      "id": "fd1c2f9d",
      "metadata": {
        "id": "fd1c2f9d",
        "outputId": "57733f78-0917-4679-ba1f-6f121a854eef"
      },
      "outputs": [
        {
          "name": "stdout",
          "output_type": "stream",
          "text": [
            "[LibSVM][[1892  524]\n",
            " [ 161  423]]\n",
            "              precision    recall  f1-score   support\n",
            "\n",
            "           0       0.92      0.78      0.85      2416\n",
            "           1       0.45      0.72      0.55       584\n",
            "\n",
            "    accuracy                           0.77      3000\n",
            "   macro avg       0.68      0.75      0.70      3000\n",
            "weighted avg       0.83      0.77      0.79      3000\n",
            "\n"
          ]
        }
      ],
      "source": [
        "grid3=SVC(C = 1000, gamma = 0.01, kernel= 'rbf',verbose=3)\n",
        "# fitting the model for grid search\n",
        "grid3.fit(X_train_res,y_train_res)\n",
        "\n",
        "\n",
        "y_pred6=grid3.predict(X_test)\n",
        "\n",
        "print(confusion_matrix(y_test,y_pred6))\n",
        "\n",
        "print(classification_report(y_test,y_pred6))"
      ]
    },
    {
      "cell_type": "markdown",
      "id": "d59a8a4c",
      "metadata": {
        "id": "d59a8a4c"
      },
      "source": [
        "## Gridsearch CV for RF and SVM on balanced dataset"
      ]
    },
    {
      "cell_type": "code",
      "execution_count": null,
      "id": "b3cca304",
      "metadata": {
        "id": "b3cca304"
      },
      "outputs": [],
      "source": [
        "#RF - Gridsearch CV - balanced dataset"
      ]
    },
    {
      "cell_type": "code",
      "execution_count": null,
      "id": "104f9371",
      "metadata": {
        "id": "104f9371"
      },
      "outputs": [],
      "source": [
        "# Now will perform RandomForest Classifier\n",
        "\n",
        "param_grid_1 = { \n",
        "    'n_estimators': [200, 500],\n",
        "    'max_features': ['auto', 'sqrt', 'log2'],\n",
        "    'max_depth' : [4,5,6,7,8],\n",
        "    'criterion' :['gini', 'entropy']\n",
        "}"
      ]
    },
    {
      "cell_type": "code",
      "execution_count": null,
      "id": "7f4afc67",
      "metadata": {
        "id": "7f4afc67",
        "outputId": "4fa9724a-2c8a-4c54-9a94-7508d09cac4f"
      },
      "outputs": [
        {
          "name": "stdout",
          "output_type": "stream",
          "text": [
            "{'criterion': 'gini', 'max_depth': 8, 'max_features': 'sqrt', 'n_estimators': 200}\n"
          ]
        }
      ],
      "source": [
        "rfc=RandomForestClassifier()\n",
        "CV_rfc1 = GridSearchCV(estimator=rfc, param_grid=param_grid_1, cv= 5)\n",
        "CV_rfc1.fit(X_train_res, y_train_res)\n",
        "\n",
        "print(CV_rfc1.best_params_)"
      ]
    },
    {
      "cell_type": "code",
      "execution_count": null,
      "id": "5b7807b1",
      "metadata": {
        "id": "5b7807b1",
        "outputId": "50f0fee2-8174-4169-d042-1d16698dffd1"
      },
      "outputs": [
        {
          "name": "stdout",
          "output_type": "stream",
          "text": [
            "[[1967  449]\n",
            " [ 178  406]]\n",
            "              precision    recall  f1-score   support\n",
            "\n",
            "           0       0.92      0.81      0.86      2416\n",
            "           1       0.47      0.70      0.56       584\n",
            "\n",
            "    accuracy                           0.79      3000\n",
            "   macro avg       0.70      0.75      0.71      3000\n",
            "weighted avg       0.83      0.79      0.80      3000\n",
            "\n"
          ]
        }
      ],
      "source": [
        "model7=RandomForestClassifier(criterion='gini',max_depth=8,max_features='sqrt',n_estimators=200)\n",
        "model7.fit(X_train_res,y_train_res)\n",
        "y_pred7=model7.predict(X_test)\n",
        "\n",
        "print(confusion_matrix(y_test,y_pred7))\n",
        "\n",
        "print(classification_report(y_test,y_pred7))"
      ]
    },
    {
      "cell_type": "code",
      "execution_count": null,
      "id": "6f0a5380",
      "metadata": {
        "id": "6f0a5380"
      },
      "outputs": [],
      "source": [
        "## svm_gridsearch cv"
      ]
    },
    {
      "cell_type": "code",
      "execution_count": null,
      "id": "9065f3a9",
      "metadata": {
        "id": "9065f3a9",
        "outputId": "0dfe44d2-459c-49e1-beb3-3f9904c62b39"
      },
      "outputs": [
        {
          "name": "stdout",
          "output_type": "stream",
          "text": [
            "Fitting 5 folds for each of 25 candidates, totalling 125 fits\n",
            "[CV 1/5] END ........C=0.1, gamma=1, kernel=rbf;, score=0.740 total time=   5.3s\n",
            "[CV 2/5] END ........C=0.1, gamma=1, kernel=rbf;, score=0.767 total time=   5.3s\n",
            "[CV 3/5] END ........C=0.1, gamma=1, kernel=rbf;, score=0.770 total time=   5.5s\n",
            "[CV 4/5] END ........C=0.1, gamma=1, kernel=rbf;, score=0.758 total time=   5.3s\n",
            "[CV 5/5] END ........C=0.1, gamma=1, kernel=rbf;, score=0.781 total time=   5.4s\n",
            "[CV 1/5] END ......C=0.1, gamma=0.1, kernel=rbf;, score=0.688 total time=   5.5s\n",
            "[CV 2/5] END ......C=0.1, gamma=0.1, kernel=rbf;, score=0.732 total time=   5.5s\n",
            "[CV 3/5] END ......C=0.1, gamma=0.1, kernel=rbf;, score=0.727 total time=   5.7s\n",
            "[CV 4/5] END ......C=0.1, gamma=0.1, kernel=rbf;, score=0.712 total time=   5.4s\n",
            "[CV 5/5] END ......C=0.1, gamma=0.1, kernel=rbf;, score=0.738 total time=   5.3s\n",
            "[CV 1/5] END .....C=0.1, gamma=0.01, kernel=rbf;, score=0.624 total time=   5.8s\n",
            "[CV 2/5] END .....C=0.1, gamma=0.01, kernel=rbf;, score=0.655 total time=   6.0s\n",
            "[CV 3/5] END .....C=0.1, gamma=0.01, kernel=rbf;, score=0.657 total time=   6.3s\n",
            "[CV 4/5] END .....C=0.1, gamma=0.01, kernel=rbf;, score=0.644 total time=   6.4s\n",
            "[CV 5/5] END .....C=0.1, gamma=0.01, kernel=rbf;, score=0.676 total time=   6.2s\n",
            "[CV 1/5] END ....C=0.1, gamma=0.001, kernel=rbf;, score=0.527 total time=   6.3s\n",
            "[CV 2/5] END ....C=0.1, gamma=0.001, kernel=rbf;, score=0.554 total time=   6.4s\n",
            "[CV 3/5] END ....C=0.1, gamma=0.001, kernel=rbf;, score=0.544 total time=   6.4s\n",
            "[CV 4/5] END ....C=0.1, gamma=0.001, kernel=rbf;, score=0.535 total time=   6.4s\n",
            "[CV 5/5] END ....C=0.1, gamma=0.001, kernel=rbf;, score=0.569 total time=   6.4s\n",
            "[CV 1/5] END ...C=0.1, gamma=0.0001, kernel=rbf;, score=0.500 total time=   6.3s\n",
            "[CV 2/5] END ...C=0.1, gamma=0.0001, kernel=rbf;, score=0.500 total time=   6.3s\n",
            "[CV 3/5] END ...C=0.1, gamma=0.0001, kernel=rbf;, score=0.500 total time=   6.4s\n",
            "[CV 4/5] END ...C=0.1, gamma=0.0001, kernel=rbf;, score=0.500 total time=   6.3s\n",
            "[CV 5/5] END ...C=0.1, gamma=0.0001, kernel=rbf;, score=0.566 total time=   6.3s\n",
            "[CV 1/5] END ..........C=1, gamma=1, kernel=rbf;, score=0.799 total time=   3.7s\n",
            "[CV 2/5] END ..........C=1, gamma=1, kernel=rbf;, score=0.824 total time=   4.0s\n",
            "[CV 3/5] END ..........C=1, gamma=1, kernel=rbf;, score=0.822 total time=   4.0s\n",
            "[CV 4/5] END ..........C=1, gamma=1, kernel=rbf;, score=0.811 total time=   3.9s\n",
            "[CV 5/5] END ..........C=1, gamma=1, kernel=rbf;, score=0.845 total time=   4.0s\n",
            "[CV 1/5] END ........C=1, gamma=0.1, kernel=rbf;, score=0.756 total time=   4.1s\n",
            "[CV 2/5] END ........C=1, gamma=0.1, kernel=rbf;, score=0.779 total time=   4.2s\n",
            "[CV 3/5] END ........C=1, gamma=0.1, kernel=rbf;, score=0.776 total time=   4.1s\n",
            "[CV 4/5] END ........C=1, gamma=0.1, kernel=rbf;, score=0.764 total time=   4.1s\n",
            "[CV 5/5] END ........C=1, gamma=0.1, kernel=rbf;, score=0.794 total time=   4.2s\n",
            "[CV 1/5] END .......C=1, gamma=0.01, kernel=rbf;, score=0.675 total time=   5.1s\n",
            "[CV 2/5] END .......C=1, gamma=0.01, kernel=rbf;, score=0.714 total time=   5.2s\n",
            "[CV 3/5] END .......C=1, gamma=0.01, kernel=rbf;, score=0.709 total time=   5.3s\n",
            "[CV 4/5] END .......C=1, gamma=0.01, kernel=rbf;, score=0.698 total time=   5.1s\n",
            "[CV 5/5] END .......C=1, gamma=0.01, kernel=rbf;, score=0.724 total time=   5.2s\n",
            "[CV 1/5] END ......C=1, gamma=0.001, kernel=rbf;, score=0.622 total time=   5.7s\n",
            "[CV 2/5] END ......C=1, gamma=0.001, kernel=rbf;, score=0.641 total time=   5.9s\n",
            "[CV 3/5] END ......C=1, gamma=0.001, kernel=rbf;, score=0.652 total time=   6.0s\n",
            "[CV 4/5] END ......C=1, gamma=0.001, kernel=rbf;, score=0.636 total time=   5.9s\n",
            "[CV 5/5] END ......C=1, gamma=0.001, kernel=rbf;, score=0.666 total time=   5.9s\n",
            "[CV 1/5] END .....C=1, gamma=0.0001, kernel=rbf;, score=0.530 total time=   6.3s\n",
            "[CV 2/5] END .....C=1, gamma=0.0001, kernel=rbf;, score=0.560 total time=   6.3s\n",
            "[CV 3/5] END .....C=1, gamma=0.0001, kernel=rbf;, score=0.551 total time=   6.3s\n",
            "[CV 4/5] END .....C=1, gamma=0.0001, kernel=rbf;, score=0.536 total time=   6.3s\n",
            "[CV 5/5] END .....C=1, gamma=0.0001, kernel=rbf;, score=0.566 total time=   6.4s\n",
            "[CV 1/5] END .........C=10, gamma=1, kernel=rbf;, score=0.831 total time=   3.3s\n",
            "[CV 2/5] END .........C=10, gamma=1, kernel=rbf;, score=0.871 total time=   3.6s\n",
            "[CV 3/5] END .........C=10, gamma=1, kernel=rbf;, score=0.878 total time=   3.6s\n",
            "[CV 4/5] END .........C=10, gamma=1, kernel=rbf;, score=0.862 total time=   3.6s\n",
            "[CV 5/5] END .........C=10, gamma=1, kernel=rbf;, score=0.884 total time=   3.6s\n",
            "[CV 1/5] END .......C=10, gamma=0.1, kernel=rbf;, score=0.774 total time=   3.9s\n",
            "[CV 2/5] END .......C=10, gamma=0.1, kernel=rbf;, score=0.804 total time=   4.1s\n",
            "[CV 3/5] END .......C=10, gamma=0.1, kernel=rbf;, score=0.800 total time=   4.0s\n",
            "[CV 4/5] END .......C=10, gamma=0.1, kernel=rbf;, score=0.799 total time=   4.1s\n",
            "[CV 5/5] END .......C=10, gamma=0.1, kernel=rbf;, score=0.820 total time=   4.1s\n",
            "[CV 1/5] END ......C=10, gamma=0.01, kernel=rbf;, score=0.741 total time=   4.4s\n",
            "[CV 2/5] END ......C=10, gamma=0.01, kernel=rbf;, score=0.765 total time=   4.5s\n",
            "[CV 3/5] END ......C=10, gamma=0.01, kernel=rbf;, score=0.773 total time=   4.5s\n",
            "[CV 4/5] END ......C=10, gamma=0.01, kernel=rbf;, score=0.750 total time=   4.5s\n",
            "[CV 5/5] END ......C=10, gamma=0.01, kernel=rbf;, score=0.779 total time=   4.4s\n",
            "[CV 1/5] END .....C=10, gamma=0.001, kernel=rbf;, score=0.664 total time=   5.1s\n",
            "[CV 2/5] END .....C=10, gamma=0.001, kernel=rbf;, score=0.703 total time=   5.2s\n",
            "[CV 3/5] END .....C=10, gamma=0.001, kernel=rbf;, score=0.696 total time=   5.4s\n",
            "[CV 4/5] END .....C=10, gamma=0.001, kernel=rbf;, score=0.688 total time=   5.3s\n",
            "[CV 5/5] END .....C=10, gamma=0.001, kernel=rbf;, score=0.706 total time=   5.3s\n",
            "[CV 1/5] END ....C=10, gamma=0.0001, kernel=rbf;, score=0.622 total time=   6.1s\n",
            "[CV 2/5] END ....C=10, gamma=0.0001, kernel=rbf;, score=0.638 total time=   5.9s\n",
            "[CV 3/5] END ....C=10, gamma=0.0001, kernel=rbf;, score=0.652 total time=   5.9s\n",
            "[CV 4/5] END ....C=10, gamma=0.0001, kernel=rbf;, score=0.637 total time=   6.2s\n",
            "[CV 5/5] END ....C=10, gamma=0.0001, kernel=rbf;, score=0.665 total time=   6.0s\n",
            "[CV 1/5] END ........C=100, gamma=1, kernel=rbf;, score=0.841 total time=   4.1s\n",
            "[CV 2/5] END ........C=100, gamma=1, kernel=rbf;, score=0.872 total time=   4.7s\n",
            "[CV 3/5] END ........C=100, gamma=1, kernel=rbf;, score=0.883 total time=   4.7s\n",
            "[CV 4/5] END ........C=100, gamma=1, kernel=rbf;, score=0.875 total time=   4.7s\n",
            "[CV 5/5] END ........C=100, gamma=1, kernel=rbf;, score=0.897 total time=   5.3s\n",
            "[CV 1/5] END ......C=100, gamma=0.1, kernel=rbf;, score=0.783 total time=   6.0s\n",
            "[CV 2/5] END ......C=100, gamma=0.1, kernel=rbf;, score=0.827 total time=   6.2s\n",
            "[CV 3/5] END ......C=100, gamma=0.1, kernel=rbf;, score=0.818 total time=   6.2s\n",
            "[CV 4/5] END ......C=100, gamma=0.1, kernel=rbf;, score=0.813 total time=   6.1s\n",
            "[CV 5/5] END ......C=100, gamma=0.1, kernel=rbf;, score=0.845 total time=   6.5s\n",
            "[CV 1/5] END .....C=100, gamma=0.01, kernel=rbf;, score=0.758 total time=   5.0s\n",
            "[CV 2/5] END .....C=100, gamma=0.01, kernel=rbf;, score=0.793 total time=   5.1s\n",
            "[CV 3/5] END .....C=100, gamma=0.01, kernel=rbf;, score=0.786 total time=   5.0s\n",
            "[CV 4/5] END .....C=100, gamma=0.01, kernel=rbf;, score=0.772 total time=   5.0s\n",
            "[CV 5/5] END .....C=100, gamma=0.01, kernel=rbf;, score=0.804 total time=   5.2s\n",
            "[CV 1/5] END ....C=100, gamma=0.001, kernel=rbf;, score=0.708 total time=   5.3s\n",
            "[CV 2/5] END ....C=100, gamma=0.001, kernel=rbf;, score=0.736 total time=   5.2s\n",
            "[CV 3/5] END ....C=100, gamma=0.001, kernel=rbf;, score=0.744 total time=   5.0s\n",
            "[CV 4/5] END ....C=100, gamma=0.001, kernel=rbf;, score=0.723 total time=   4.8s\n",
            "[CV 5/5] END ....C=100, gamma=0.001, kernel=rbf;, score=0.746 total time=   4.9s\n",
            "[CV 1/5] END ...C=100, gamma=0.0001, kernel=rbf;, score=0.658 total time=   5.2s\n",
            "[CV 2/5] END ...C=100, gamma=0.0001, kernel=rbf;, score=0.700 total time=   5.3s\n",
            "[CV 3/5] END ...C=100, gamma=0.0001, kernel=rbf;, score=0.698 total time=   5.4s\n",
            "[CV 4/5] END ...C=100, gamma=0.0001, kernel=rbf;, score=0.685 total time=   5.5s\n",
            "[CV 5/5] END ...C=100, gamma=0.0001, kernel=rbf;, score=0.705 total time=   5.4s\n",
            "[CV 1/5] END .......C=1000, gamma=1, kernel=rbf;, score=0.833 total time=   5.7s\n"
          ]
        },
        {
          "name": "stdout",
          "output_type": "stream",
          "text": [
            "[CV 2/5] END .......C=1000, gamma=1, kernel=rbf;, score=0.867 total time=   6.5s\n",
            "[CV 3/5] END .......C=1000, gamma=1, kernel=rbf;, score=0.874 total time=   6.4s\n",
            "[CV 4/5] END .......C=1000, gamma=1, kernel=rbf;, score=0.873 total time=   6.5s\n",
            "[CV 5/5] END .......C=1000, gamma=1, kernel=rbf;, score=0.885 total time=   6.8s\n",
            "[CV 1/5] END .....C=1000, gamma=0.1, kernel=rbf;, score=0.799 total time=  17.9s\n",
            "[CV 2/5] END .....C=1000, gamma=0.1, kernel=rbf;, score=0.841 total time=  19.9s\n",
            "[CV 3/5] END .....C=1000, gamma=0.1, kernel=rbf;, score=0.840 total time=  20.8s\n",
            "[CV 4/5] END .....C=1000, gamma=0.1, kernel=rbf;, score=0.835 total time=  18.2s\n",
            "[CV 5/5] END .....C=1000, gamma=0.1, kernel=rbf;, score=0.871 total time=  19.7s\n",
            "[CV 1/5] END ....C=1000, gamma=0.01, kernel=rbf;, score=0.766 total time=   6.5s\n",
            "[CV 2/5] END ....C=1000, gamma=0.01, kernel=rbf;, score=0.800 total time=   6.9s\n",
            "[CV 3/5] END ....C=1000, gamma=0.01, kernel=rbf;, score=0.797 total time=   6.7s\n",
            "[CV 4/5] END ....C=1000, gamma=0.01, kernel=rbf;, score=0.786 total time=   6.7s\n",
            "[CV 5/5] END ....C=1000, gamma=0.01, kernel=rbf;, score=0.812 total time=   6.8s\n",
            "[CV 1/5] END ...C=1000, gamma=0.001, kernel=rbf;, score=0.746 total time=   5.2s\n",
            "[CV 2/5] END ...C=1000, gamma=0.001, kernel=rbf;, score=0.770 total time=   5.3s\n",
            "[CV 3/5] END ...C=1000, gamma=0.001, kernel=rbf;, score=0.775 total time=   5.2s\n",
            "[CV 4/5] END ...C=1000, gamma=0.001, kernel=rbf;, score=0.753 total time=   5.2s\n",
            "[CV 5/5] END ...C=1000, gamma=0.001, kernel=rbf;, score=0.782 total time=   5.2s\n",
            "[CV 1/5] END ..C=1000, gamma=0.0001, kernel=rbf;, score=0.690 total time=   4.9s\n",
            "[CV 2/5] END ..C=1000, gamma=0.0001, kernel=rbf;, score=0.723 total time=   4.9s\n",
            "[CV 3/5] END ..C=1000, gamma=0.0001, kernel=rbf;, score=0.725 total time=   5.0s\n",
            "[CV 4/5] END ..C=1000, gamma=0.0001, kernel=rbf;, score=0.713 total time=   4.9s\n",
            "[CV 5/5] END ..C=1000, gamma=0.0001, kernel=rbf;, score=0.733 total time=   5.2s\n"
          ]
        },
        {
          "data": {
            "text/html": [
              "<style>#sk-container-id-5 {color: black;background-color: white;}#sk-container-id-5 pre{padding: 0;}#sk-container-id-5 div.sk-toggleable {background-color: white;}#sk-container-id-5 label.sk-toggleable__label {cursor: pointer;display: block;width: 100%;margin-bottom: 0;padding: 0.3em;box-sizing: border-box;text-align: center;}#sk-container-id-5 label.sk-toggleable__label-arrow:before {content: \"▸\";float: left;margin-right: 0.25em;color: #696969;}#sk-container-id-5 label.sk-toggleable__label-arrow:hover:before {color: black;}#sk-container-id-5 div.sk-estimator:hover label.sk-toggleable__label-arrow:before {color: black;}#sk-container-id-5 div.sk-toggleable__content {max-height: 0;max-width: 0;overflow: hidden;text-align: left;background-color: #f0f8ff;}#sk-container-id-5 div.sk-toggleable__content pre {margin: 0.2em;color: black;border-radius: 0.25em;background-color: #f0f8ff;}#sk-container-id-5 input.sk-toggleable__control:checked~div.sk-toggleable__content {max-height: 200px;max-width: 100%;overflow: auto;}#sk-container-id-5 input.sk-toggleable__control:checked~label.sk-toggleable__label-arrow:before {content: \"▾\";}#sk-container-id-5 div.sk-estimator input.sk-toggleable__control:checked~label.sk-toggleable__label {background-color: #d4ebff;}#sk-container-id-5 div.sk-label input.sk-toggleable__control:checked~label.sk-toggleable__label {background-color: #d4ebff;}#sk-container-id-5 input.sk-hidden--visually {border: 0;clip: rect(1px 1px 1px 1px);clip: rect(1px, 1px, 1px, 1px);height: 1px;margin: -1px;overflow: hidden;padding: 0;position: absolute;width: 1px;}#sk-container-id-5 div.sk-estimator {font-family: monospace;background-color: #f0f8ff;border: 1px dotted black;border-radius: 0.25em;box-sizing: border-box;margin-bottom: 0.5em;}#sk-container-id-5 div.sk-estimator:hover {background-color: #d4ebff;}#sk-container-id-5 div.sk-parallel-item::after {content: \"\";width: 100%;border-bottom: 1px solid gray;flex-grow: 1;}#sk-container-id-5 div.sk-label:hover label.sk-toggleable__label {background-color: #d4ebff;}#sk-container-id-5 div.sk-serial::before {content: \"\";position: absolute;border-left: 1px solid gray;box-sizing: border-box;top: 0;bottom: 0;left: 50%;z-index: 0;}#sk-container-id-5 div.sk-serial {display: flex;flex-direction: column;align-items: center;background-color: white;padding-right: 0.2em;padding-left: 0.2em;position: relative;}#sk-container-id-5 div.sk-item {position: relative;z-index: 1;}#sk-container-id-5 div.sk-parallel {display: flex;align-items: stretch;justify-content: center;background-color: white;position: relative;}#sk-container-id-5 div.sk-item::before, #sk-container-id-5 div.sk-parallel-item::before {content: \"\";position: absolute;border-left: 1px solid gray;box-sizing: border-box;top: 0;bottom: 0;left: 50%;z-index: -1;}#sk-container-id-5 div.sk-parallel-item {display: flex;flex-direction: column;z-index: 1;position: relative;background-color: white;}#sk-container-id-5 div.sk-parallel-item:first-child::after {align-self: flex-end;width: 50%;}#sk-container-id-5 div.sk-parallel-item:last-child::after {align-self: flex-start;width: 50%;}#sk-container-id-5 div.sk-parallel-item:only-child::after {width: 0;}#sk-container-id-5 div.sk-dashed-wrapped {border: 1px dashed gray;margin: 0 0.4em 0.5em 0.4em;box-sizing: border-box;padding-bottom: 0.4em;background-color: white;}#sk-container-id-5 div.sk-label label {font-family: monospace;font-weight: bold;display: inline-block;line-height: 1.2em;}#sk-container-id-5 div.sk-label-container {text-align: center;}#sk-container-id-5 div.sk-container {/* jupyter's `normalize.less` sets `[hidden] { display: none; }` but bootstrap.min.css set `[hidden] { display: none !important; }` so we also need the `!important` here to be able to override the default hidden behavior on the sphinx rendered scikit-learn.org. See: https://github.com/scikit-learn/scikit-learn/issues/21755 */display: inline-block !important;position: relative;}#sk-container-id-5 div.sk-text-repr-fallback {display: none;}</style><div id=\"sk-container-id-5\" class=\"sk-top-container\"><div class=\"sk-text-repr-fallback\"><pre>GridSearchCV(estimator=SVC(),\n",
              "             param_grid={&#x27;C&#x27;: [0.1, 1, 10, 100, 1000],\n",
              "                         &#x27;gamma&#x27;: [1, 0.1, 0.01, 0.001, 0.0001],\n",
              "                         &#x27;kernel&#x27;: [&#x27;rbf&#x27;]},\n",
              "             verbose=3)</pre><b>In a Jupyter environment, please rerun this cell to show the HTML representation or trust the notebook. <br />On GitHub, the HTML representation is unable to render, please try loading this page with nbviewer.org.</b></div><div class=\"sk-container\" hidden><div class=\"sk-item sk-dashed-wrapped\"><div class=\"sk-label-container\"><div class=\"sk-label sk-toggleable\"><input class=\"sk-toggleable__control sk-hidden--visually\" id=\"sk-estimator-id-9\" type=\"checkbox\" ><label for=\"sk-estimator-id-9\" class=\"sk-toggleable__label sk-toggleable__label-arrow\">GridSearchCV</label><div class=\"sk-toggleable__content\"><pre>GridSearchCV(estimator=SVC(),\n",
              "             param_grid={&#x27;C&#x27;: [0.1, 1, 10, 100, 1000],\n",
              "                         &#x27;gamma&#x27;: [1, 0.1, 0.01, 0.001, 0.0001],\n",
              "                         &#x27;kernel&#x27;: [&#x27;rbf&#x27;]},\n",
              "             verbose=3)</pre></div></div></div><div class=\"sk-parallel\"><div class=\"sk-parallel-item\"><div class=\"sk-item\"><div class=\"sk-label-container\"><div class=\"sk-label sk-toggleable\"><input class=\"sk-toggleable__control sk-hidden--visually\" id=\"sk-estimator-id-10\" type=\"checkbox\" ><label for=\"sk-estimator-id-10\" class=\"sk-toggleable__label sk-toggleable__label-arrow\">estimator: SVC</label><div class=\"sk-toggleable__content\"><pre>SVC()</pre></div></div></div><div class=\"sk-serial\"><div class=\"sk-item\"><div class=\"sk-estimator sk-toggleable\"><input class=\"sk-toggleable__control sk-hidden--visually\" id=\"sk-estimator-id-11\" type=\"checkbox\" ><label for=\"sk-estimator-id-11\" class=\"sk-toggleable__label sk-toggleable__label-arrow\">SVC</label><div class=\"sk-toggleable__content\"><pre>SVC()</pre></div></div></div></div></div></div></div></div></div></div>"
            ],
            "text/plain": [
              "GridSearchCV(estimator=SVC(),\n",
              "             param_grid={'C': [0.1, 1, 10, 100, 1000],\n",
              "                         'gamma': [1, 0.1, 0.01, 0.001, 0.0001],\n",
              "                         'kernel': ['rbf']},\n",
              "             verbose=3)"
            ]
          },
          "execution_count": 161,
          "metadata": {},
          "output_type": "execute_result"
        }
      ],
      "source": [
        "# defining Parameter Range\n",
        "param_grid_svc1={'C':[0.1,1,10,100,1000],'gamma':[1,0.1,0.01,0.001,0.0001],'kernel':['rbf']}\n",
        "\n",
        "grid4=GridSearchCV(SVC(),param_grid_svc1,refit=True,verbose=3)\n",
        "\n",
        "# fitting the model for grid search\n",
        "grid4.fit(X_train_res,y_train_res)"
      ]
    },
    {
      "cell_type": "code",
      "execution_count": null,
      "id": "4bb732b2",
      "metadata": {
        "id": "4bb732b2",
        "outputId": "72f5286f-535d-4bd3-e008-5c981769633f"
      },
      "outputs": [
        {
          "name": "stdout",
          "output_type": "stream",
          "text": [
            "{'C': 100, 'gamma': 1, 'kernel': 'rbf'}\n"
          ]
        }
      ],
      "source": [
        "# print best parameter after tuning\n",
        "\n",
        "print(grid4.best_params_)"
      ]
    },
    {
      "cell_type": "code",
      "execution_count": null,
      "id": "7795fe56",
      "metadata": {
        "id": "7795fe56",
        "outputId": "cdcea2b2-4447-4938-ada0-90ab05c7ed9b"
      },
      "outputs": [
        {
          "name": "stdout",
          "output_type": "stream",
          "text": [
            "[LibSVM][[1968  448]\n",
            " [ 323  261]]\n",
            "              precision    recall  f1-score   support\n",
            "\n",
            "           0       0.86      0.81      0.84      2416\n",
            "           1       0.37      0.45      0.40       584\n",
            "\n",
            "    accuracy                           0.74      3000\n",
            "   macro avg       0.61      0.63      0.62      3000\n",
            "weighted avg       0.76      0.74      0.75      3000\n",
            "\n"
          ]
        }
      ],
      "source": [
        "grid4=SVC(C = 100, gamma = 1, kernel= 'rbf',verbose=3)\n",
        "# fitting the model for grid search\n",
        "grid4.fit(X_train_res,y_train_res)\n",
        "\n",
        "\n",
        "y_pred8=grid4.predict(X_test)\n",
        "\n",
        "print(confusion_matrix(y_test,y_pred8))\n",
        "\n",
        "print(classification_report(y_test,y_pred8))"
      ]
    },
    {
      "cell_type": "code",
      "execution_count": null,
      "id": "5c60b434",
      "metadata": {
        "id": "5c60b434",
        "outputId": "99ef4b2a-d026-44cf-bc01-026019d6ee06"
      },
      "outputs": [
        {
          "name": "stdout",
          "output_type": "stream",
          "text": [
            "<class 'pandas.core.frame.DataFrame'>\n",
            "RangeIndex: 10000 entries, 0 to 9999\n",
            "Data columns (total 11 columns):\n",
            " #   Column            Non-Null Count  Dtype  \n",
            "---  ------            --------------  -----  \n",
            " 0   credit_score      10000 non-null  float64\n",
            " 1   balance           10000 non-null  float64\n",
            " 2   age               10000 non-null  float64\n",
            " 3   estimated_salary  10000 non-null  float64\n",
            " 4   country           10000 non-null  int32  \n",
            " 5   gender            10000 non-null  int32  \n",
            " 6   tenure            10000 non-null  int64  \n",
            " 7   products_number   10000 non-null  int64  \n",
            " 8   credit_card       10000 non-null  int64  \n",
            " 9   active_member     10000 non-null  int64  \n",
            " 10  churn             10000 non-null  int64  \n",
            "dtypes: float64(4), int32(2), int64(5)\n",
            "memory usage: 781.4 KB\n"
          ]
        }
      ],
      "source": [
        "df2.info()"
      ]
    },
    {
      "cell_type": "markdown",
      "id": "bee3ac53",
      "metadata": {
        "id": "bee3ac53"
      },
      "source": [
        "# Model based on Feature selection"
      ]
    },
    {
      "cell_type": "markdown",
      "id": "0f360464",
      "metadata": {
        "id": "0f360464"
      },
      "source": [
        "### credit_card ddropped"
      ]
    },
    {
      "cell_type": "code",
      "execution_count": null,
      "id": "e46deb60",
      "metadata": {
        "id": "e46deb60",
        "outputId": "aeff212b-c19f-42c3-beb8-d9c3f7c5a206"
      },
      "outputs": [
        {
          "name": "stdout",
          "output_type": "stream",
          "text": [
            "<class 'pandas.core.frame.DataFrame'>\n",
            "RangeIndex: 10000 entries, 0 to 9999\n",
            "Data columns (total 9 columns):\n",
            " #   Column            Non-Null Count  Dtype  \n",
            "---  ------            --------------  -----  \n",
            " 0   active_member     10000 non-null  int64  \n",
            " 1   age               10000 non-null  float64\n",
            " 2   gender            10000 non-null  int32  \n",
            " 3   balance           10000 non-null  float64\n",
            " 4   country           10000 non-null  int32  \n",
            " 5   products_number   10000 non-null  int64  \n",
            " 6   tenure            10000 non-null  int64  \n",
            " 7   estimated_salary  10000 non-null  float64\n",
            " 8   credit_score      10000 non-null  float64\n",
            "dtypes: float64(4), int32(2), int64(3)\n",
            "memory usage: 625.1 KB\n",
            "None\n",
            "<class 'pandas.core.series.Series'>\n",
            "RangeIndex: 10000 entries, 0 to 9999\n",
            "Series name: churn\n",
            "Non-Null Count  Dtype\n",
            "--------------  -----\n",
            "10000 non-null  int64\n",
            "dtypes: int64(1)\n",
            "memory usage: 78.2 KB\n",
            "None\n"
          ]
        }
      ],
      "source": [
        "XX = df2.iloc[:,[9,2,5,1,4,7,6,3,0]]\n",
        "yy = df2.iloc[:,-1]\n",
        "print(XX.info())\n",
        "print(yy.info())"
      ]
    },
    {
      "cell_type": "code",
      "execution_count": null,
      "id": "216541c6",
      "metadata": {
        "id": "216541c6"
      },
      "outputs": [],
      "source": [
        "XX_train,XX_test,yy_train,yy_test=train_test_split(XX,yy,test_size=0.30,random_state=42)"
      ]
    },
    {
      "cell_type": "markdown",
      "id": "c3934e09",
      "metadata": {
        "id": "c3934e09"
      },
      "source": [
        "### smote"
      ]
    },
    {
      "cell_type": "code",
      "execution_count": null,
      "id": "a2dbe560",
      "metadata": {
        "id": "a2dbe560",
        "outputId": "abba4db9-4305-444c-8c8f-9b28d8a4d5ad"
      },
      "outputs": [
        {
          "name": "stdout",
          "output_type": "stream",
          "text": [
            "Before OverSampling, counts of label '1': 1453\n",
            "Before OverSampling, counts of label '0': 5547 \n",
            "\n",
            "After OverSampling, the shape of train_X: (11094, 9)\n",
            "After OverSampling, the shape of train_y: (11094,) \n",
            "\n",
            "After OverSampling, counts of label '1': 5547\n",
            "After OverSampling, counts of label '0': 5547\n"
          ]
        }
      ],
      "source": [
        "print(\"Before OverSampling, counts of label '1': {}\".format(sum(yy_train == 1)))\n",
        "print(\"Before OverSampling, counts of label '0': {} \\n\".format(sum(yy_train == 0)))\n",
        "\n",
        "sm1 = SMOTE(random_state = 2)\n",
        "XX_train_res, yy_train_res = sm1.fit_resample(XX_train, yy_train.ravel())\n",
        "  \n",
        "print('After OverSampling, the shape of train_X: {}'.format(XX_train_res.shape))\n",
        "print('After OverSampling, the shape of train_y: {} \\n'.format(yy_train_res.shape))\n",
        "  \n",
        "print(\"After OverSampling, counts of label '1': {}\".format(sum(yy_train_res == 1)))\n",
        "print(\"After OverSampling, counts of label '0': {}\".format(sum(yy_train_res == 0)))"
      ]
    },
    {
      "cell_type": "markdown",
      "id": "0a547733",
      "metadata": {
        "id": "0a547733"
      },
      "source": [
        "# RF - with feature selection"
      ]
    },
    {
      "cell_type": "code",
      "execution_count": null,
      "id": "ffe08e05",
      "metadata": {
        "id": "ffe08e05",
        "outputId": "e9014e06-3f1b-48bb-b453-6154e671b478"
      },
      "outputs": [
        {
          "name": "stdout",
          "output_type": "stream",
          "text": [
            "confusion matrix_test\n",
            "[[1981  435]\n",
            " [ 170  414]]\n",
            "classification report_test\n",
            "              precision    recall  f1-score   support\n",
            "\n",
            "           0       0.92      0.82      0.87      2416\n",
            "           1       0.49      0.71      0.58       584\n",
            "\n",
            "    accuracy                           0.80      3000\n",
            "   macro avg       0.70      0.76      0.72      3000\n",
            "weighted avg       0.84      0.80      0.81      3000\n",
            "\n"
          ]
        }
      ],
      "source": [
        "model9=RandomForestClassifier(criterion='gini',max_depth=8,max_features='sqrt',n_estimators=500)\n",
        "model9.fit(XX_train_res,yy_train_res)\n",
        "y_pred9=model9.predict(XX_test)\n",
        "\n",
        "print(\"confusion matrix_test\")\n",
        "print(confusion_matrix(yy_test,y_pred9))\n",
        "\n",
        "print(\"classification report_test\")\n",
        "print(classification_report(yy_test,y_pred9))"
      ]
    },
    {
      "cell_type": "code",
      "execution_count": null,
      "id": "aeba4f8a",
      "metadata": {
        "id": "aeba4f8a",
        "outputId": "f17ef98a-7f59-41e1-d83d-80f74e66d7bf"
      },
      "outputs": [
        {
          "name": "stdout",
          "output_type": "stream",
          "text": [
            "[LibSVM][[1888  528]\n",
            " [ 157  427]]\n",
            "              precision    recall  f1-score   support\n",
            "\n",
            "           0       0.92      0.78      0.85      2416\n",
            "           1       0.45      0.73      0.55       584\n",
            "\n",
            "    accuracy                           0.77      3000\n",
            "   macro avg       0.69      0.76      0.70      3000\n",
            "weighted avg       0.83      0.77      0.79      3000\n",
            "\n"
          ]
        }
      ],
      "source": [
        "grid5=SVC(C = 1000, gamma = 0.01, kernel= 'rbf',verbose=3)\n",
        "# fitting the model for grid search\n",
        "grid5.fit(XX_train_res,yy_train_res)\n",
        "\n",
        "\n",
        "y_pred10=grid5.predict(XX_test)\n",
        "\n",
        "print(confusion_matrix(yy_test,y_pred10))\n",
        "\n",
        "print(classification_report(yy_test,y_pred10))"
      ]
    },
    {
      "cell_type": "markdown",
      "id": "6f359e94",
      "metadata": {
        "id": "6f359e94"
      },
      "source": [
        "### credit_score dropped"
      ]
    },
    {
      "cell_type": "code",
      "execution_count": null,
      "id": "bbe23441",
      "metadata": {
        "id": "bbe23441",
        "outputId": "df0f8d69-be15-46f1-8aef-9735781fb4c8"
      },
      "outputs": [
        {
          "name": "stdout",
          "output_type": "stream",
          "text": [
            "<class 'pandas.core.frame.DataFrame'>\n",
            "RangeIndex: 10000 entries, 0 to 9999\n",
            "Data columns (total 8 columns):\n",
            " #   Column            Non-Null Count  Dtype  \n",
            "---  ------            --------------  -----  \n",
            " 0   active_member     10000 non-null  int64  \n",
            " 1   age               10000 non-null  float64\n",
            " 2   gender            10000 non-null  int32  \n",
            " 3   balance           10000 non-null  float64\n",
            " 4   country           10000 non-null  int32  \n",
            " 5   products_number   10000 non-null  int64  \n",
            " 6   tenure            10000 non-null  int64  \n",
            " 7   estimated_salary  10000 non-null  float64\n",
            "dtypes: float64(3), int32(2), int64(3)\n",
            "memory usage: 547.0 KB\n",
            "None\n",
            "<class 'pandas.core.series.Series'>\n",
            "RangeIndex: 10000 entries, 0 to 9999\n",
            "Series name: churn\n",
            "Non-Null Count  Dtype\n",
            "--------------  -----\n",
            "10000 non-null  int64\n",
            "dtypes: int64(1)\n",
            "memory usage: 78.2 KB\n",
            "None\n",
            "Before OverSampling, counts of label '1': 1453\n",
            "Before OverSampling, counts of label '0': 5547 \n",
            "\n",
            "After OverSampling, the shape of train_X: (11094, 8)\n",
            "After OverSampling, the shape of train_y: (11094,) \n",
            "\n",
            "After OverSampling, counts of label '1': 5547\n",
            "After OverSampling, counts of label '0': 5547\n",
            "confusion matrix_test\n",
            "[[1972  444]\n",
            " [ 172  412]]\n",
            "classification report_test\n",
            "              precision    recall  f1-score   support\n",
            "\n",
            "           0       0.92      0.82      0.86      2416\n",
            "           1       0.48      0.71      0.57       584\n",
            "\n",
            "    accuracy                           0.79      3000\n",
            "   macro avg       0.70      0.76      0.72      3000\n",
            "weighted avg       0.83      0.79      0.81      3000\n",
            "\n"
          ]
        }
      ],
      "source": [
        "#defining variables\n",
        "XX = df2.iloc[:,[9,2,5,1,4,7,6,3,]]\n",
        "yy = df2.iloc[:,-1]\n",
        "print(XX.info())\n",
        "print(yy.info())\n",
        "\n",
        "#train-test split\n",
        "XX_train,XX_test,yy_train,yy_test=train_test_split(XX,yy,test_size=0.30,random_state=42)\n",
        "\n",
        "#smote on variables\n",
        "print(\"Before OverSampling, counts of label '1': {}\".format(sum(yy_train == 1)))\n",
        "print(\"Before OverSampling, counts of label '0': {} \\n\".format(sum(yy_train == 0)))\n",
        "\n",
        "sm1 = SMOTE(random_state = 2)\n",
        "XX_train_res, yy_train_res = sm1.fit_resample(XX_train, yy_train.ravel())\n",
        "  \n",
        "print('After OverSampling, the shape of train_X: {}'.format(XX_train_res.shape))\n",
        "print('After OverSampling, the shape of train_y: {} \\n'.format(yy_train_res.shape))\n",
        "  \n",
        "print(\"After OverSampling, counts of label '1': {}\".format(sum(yy_train_res == 1)))\n",
        "print(\"After OverSampling, counts of label '0': {}\".format(sum(yy_train_res == 0)))\n",
        "\n",
        "#model - RF\n",
        "model11=RandomForestClassifier(criterion='gini',max_depth=8,max_features='sqrt',n_estimators=500)\n",
        "model11.fit(XX_train_res,yy_train_res)\n",
        "y_pred11=model11.predict(XX_test)\n",
        "\n",
        "print(\"confusion matrix_test\")\n",
        "print(confusion_matrix(yy_test,y_pred11))\n",
        "\n",
        "print(\"classification report_test\")\n",
        "print(classification_report(yy_test,y_pred11))"
      ]
    },
    {
      "cell_type": "markdown",
      "id": "42bd660c",
      "metadata": {
        "id": "42bd660c"
      },
      "source": [
        "### estimated salary dropped"
      ]
    },
    {
      "cell_type": "code",
      "execution_count": null,
      "id": "a9f0f863",
      "metadata": {
        "id": "a9f0f863",
        "outputId": "013868cd-4ee9-47cf-9614-29f06829ddfb"
      },
      "outputs": [
        {
          "name": "stdout",
          "output_type": "stream",
          "text": [
            "<class 'pandas.core.frame.DataFrame'>\n",
            "RangeIndex: 10000 entries, 0 to 9999\n",
            "Data columns (total 7 columns):\n",
            " #   Column           Non-Null Count  Dtype  \n",
            "---  ------           --------------  -----  \n",
            " 0   active_member    10000 non-null  int64  \n",
            " 1   age              10000 non-null  float64\n",
            " 2   gender           10000 non-null  int32  \n",
            " 3   balance          10000 non-null  float64\n",
            " 4   country          10000 non-null  int32  \n",
            " 5   products_number  10000 non-null  int64  \n",
            " 6   tenure           10000 non-null  int64  \n",
            "dtypes: float64(2), int32(2), int64(3)\n",
            "memory usage: 468.9 KB\n",
            "None\n",
            "<class 'pandas.core.series.Series'>\n",
            "RangeIndex: 10000 entries, 0 to 9999\n",
            "Series name: churn\n",
            "Non-Null Count  Dtype\n",
            "--------------  -----\n",
            "10000 non-null  int64\n",
            "dtypes: int64(1)\n",
            "memory usage: 78.2 KB\n",
            "None\n",
            "Before OverSampling, counts of label '1': 1453\n",
            "Before OverSampling, counts of label '0': 5547 \n",
            "\n",
            "After OverSampling, the shape of train_X: (11094, 7)\n",
            "After OverSampling, the shape of train_y: (11094,) \n",
            "\n",
            "After OverSampling, counts of label '1': 5547\n",
            "After OverSampling, counts of label '0': 5547\n",
            "confusion matrix_test\n",
            "[[1983  433]\n",
            " [ 169  415]]\n",
            "classification report_test\n",
            "              precision    recall  f1-score   support\n",
            "\n",
            "           0       0.92      0.82      0.87      2416\n",
            "           1       0.49      0.71      0.58       584\n",
            "\n",
            "    accuracy                           0.80      3000\n",
            "   macro avg       0.71      0.77      0.72      3000\n",
            "weighted avg       0.84      0.80      0.81      3000\n",
            "\n"
          ]
        }
      ],
      "source": [
        "#defining variables\n",
        "XX = df2.iloc[:,[9,2,5,1,4,7,6]]\n",
        "yy = df2.iloc[:,-1]\n",
        "print(XX.info())\n",
        "print(yy.info())\n",
        "\n",
        "#train-test split\n",
        "XX_train,XX_test,yy_train,yy_test=train_test_split(XX,yy,test_size=0.30,random_state=42)\n",
        "\n",
        "#smote on variables\n",
        "print(\"Before OverSampling, counts of label '1': {}\".format(sum(yy_train == 1)))\n",
        "print(\"Before OverSampling, counts of label '0': {} \\n\".format(sum(yy_train == 0)))\n",
        "\n",
        "sm1 = SMOTE(random_state = 2)\n",
        "XX_train_res, yy_train_res = sm1.fit_resample(XX_train, yy_train.ravel())\n",
        "  \n",
        "print('After OverSampling, the shape of train_X: {}'.format(XX_train_res.shape))\n",
        "print('After OverSampling, the shape of train_y: {} \\n'.format(yy_train_res.shape))\n",
        "  \n",
        "print(\"After OverSampling, counts of label '1': {}\".format(sum(yy_train_res == 1)))\n",
        "print(\"After OverSampling, counts of label '0': {}\".format(sum(yy_train_res == 0)))\n",
        "\n",
        "#model - RF\n",
        "model12=RandomForestClassifier(criterion='gini',max_depth=8,max_features='sqrt',n_estimators=500)\n",
        "model12.fit(XX_train_res,yy_train_res)\n",
        "y_pred12=model12.predict(XX_test)\n",
        "\n",
        "print(\"confusion matrix_test\")\n",
        "print(confusion_matrix(yy_test,y_pred12))\n",
        "\n",
        "print(\"classification report_test\")\n",
        "print(classification_report(yy_test,y_pred12))"
      ]
    },
    {
      "cell_type": "markdown",
      "id": "9d7cf4e0",
      "metadata": {
        "id": "9d7cf4e0"
      },
      "source": [
        "### tenure dropped"
      ]
    },
    {
      "cell_type": "code",
      "execution_count": null,
      "id": "fb0b2376",
      "metadata": {
        "id": "fb0b2376",
        "outputId": "b1ac725a-7529-4641-d54e-5a8cc6e73980"
      },
      "outputs": [
        {
          "name": "stdout",
          "output_type": "stream",
          "text": [
            "<class 'pandas.core.frame.DataFrame'>\n",
            "RangeIndex: 10000 entries, 0 to 9999\n",
            "Data columns (total 6 columns):\n",
            " #   Column           Non-Null Count  Dtype  \n",
            "---  ------           --------------  -----  \n",
            " 0   active_member    10000 non-null  int64  \n",
            " 1   age              10000 non-null  float64\n",
            " 2   gender           10000 non-null  int32  \n",
            " 3   balance          10000 non-null  float64\n",
            " 4   country          10000 non-null  int32  \n",
            " 5   products_number  10000 non-null  int64  \n",
            "dtypes: float64(2), int32(2), int64(2)\n",
            "memory usage: 390.8 KB\n",
            "None\n",
            "<class 'pandas.core.series.Series'>\n",
            "RangeIndex: 10000 entries, 0 to 9999\n",
            "Series name: churn\n",
            "Non-Null Count  Dtype\n",
            "--------------  -----\n",
            "10000 non-null  int64\n",
            "dtypes: int64(1)\n",
            "memory usage: 78.2 KB\n",
            "None\n",
            "Before OverSampling, counts of label '1': 1453\n",
            "Before OverSampling, counts of label '0': 5547 \n",
            "\n",
            "After OverSampling, the shape of train_X: (11094, 6)\n",
            "After OverSampling, the shape of train_y: (11094,) \n",
            "\n",
            "After OverSampling, counts of label '1': 5547\n",
            "After OverSampling, counts of label '0': 5547\n",
            "confusion matrix_test\n",
            "[[2002  414]\n",
            " [ 160  424]]\n",
            "classification report_test\n",
            "              precision    recall  f1-score   support\n",
            "\n",
            "           0       0.93      0.83      0.87      2416\n",
            "           1       0.51      0.73      0.60       584\n",
            "\n",
            "    accuracy                           0.81      3000\n",
            "   macro avg       0.72      0.78      0.74      3000\n",
            "weighted avg       0.84      0.81      0.82      3000\n",
            "\n"
          ]
        }
      ],
      "source": [
        "#defining variables\n",
        "XX = df2.iloc[:,[9,2,5,1,4,7]]\n",
        "yy = df2.iloc[:,-1]\n",
        "print(XX.info())\n",
        "print(yy.info())\n",
        "\n",
        "#train-test split\n",
        "XX_train,XX_test,yy_train,yy_test=train_test_split(XX,yy,test_size=0.30,random_state=42)\n",
        "\n",
        "#smote on variables\n",
        "print(\"Before OverSampling, counts of label '1': {}\".format(sum(yy_train == 1)))\n",
        "print(\"Before OverSampling, counts of label '0': {} \\n\".format(sum(yy_train == 0)))\n",
        "\n",
        "sm1 = SMOTE(random_state = 2)\n",
        "XX_train_res, yy_train_res = sm1.fit_resample(XX_train, yy_train.ravel())\n",
        "  \n",
        "print('After OverSampling, the shape of train_X: {}'.format(XX_train_res.shape))\n",
        "print('After OverSampling, the shape of train_y: {} \\n'.format(yy_train_res.shape))\n",
        "  \n",
        "print(\"After OverSampling, counts of label '1': {}\".format(sum(yy_train_res == 1)))\n",
        "print(\"After OverSampling, counts of label '0': {}\".format(sum(yy_train_res == 0)))\n",
        "\n",
        "#model - RF\n",
        "model13=RandomForestClassifier(criterion='gini',max_depth=8,max_features='sqrt',n_estimators=500)\n",
        "model13.fit(XX_train_res,yy_train_res)\n",
        "y_pred13=model13.predict(XX_test)\n",
        "\n",
        "print(\"confusion matrix_test\")\n",
        "print(confusion_matrix(yy_test,y_pred13))\n",
        "\n",
        "print(\"classification report_test\")\n",
        "print(classification_report(yy_test,y_pred13))"
      ]
    },
    {
      "cell_type": "markdown",
      "id": "02792d75",
      "metadata": {
        "id": "02792d75"
      },
      "source": [
        "### to check overfitiing following"
      ]
    },
    {
      "cell_type": "code",
      "execution_count": null,
      "id": "bdb6d54d",
      "metadata": {
        "id": "bdb6d54d",
        "outputId": "ba432fba-7c42-420b-e8ce-67d5450720ee"
      },
      "outputs": [
        {
          "name": "stdout",
          "output_type": "stream",
          "text": [
            "confusion matrix_test\n",
            "[[4553  994]\n",
            " [ 300 1153]]\n",
            "classification report_test\n",
            "              precision    recall  f1-score   support\n",
            "\n",
            "           0       0.94      0.82      0.88      5547\n",
            "           1       0.54      0.79      0.64      1453\n",
            "\n",
            "    accuracy                           0.82      7000\n",
            "   macro avg       0.74      0.81      0.76      7000\n",
            "weighted avg       0.85      0.82      0.83      7000\n",
            "\n"
          ]
        }
      ],
      "source": [
        "y_pred14=model13.predict(XX_train)\n",
        "\n",
        "print(\"confusion matrix_test\")\n",
        "print(confusion_matrix(yy_train,y_pred14))\n",
        "\n",
        "print(\"classification report_test\")\n",
        "print(classification_report(yy_train,y_pred14))"
      ]
    },
    {
      "cell_type": "markdown",
      "id": "2a720d8a",
      "metadata": {
        "id": "2a720d8a"
      },
      "source": [
        "# Logistic Regression"
      ]
    },
    {
      "cell_type": "code",
      "execution_count": null,
      "id": "b8417ef0",
      "metadata": {
        "id": "b8417ef0",
        "outputId": "7845111a-bcfa-4713-b0cd-aef86cb638c3"
      },
      "outputs": [
        {
          "name": "stdout",
          "output_type": "stream",
          "text": [
            "<class 'pandas.core.frame.DataFrame'>\n",
            "RangeIndex: 10000 entries, 0 to 9999\n",
            "Data columns (total 6 columns):\n",
            " #   Column           Non-Null Count  Dtype  \n",
            "---  ------           --------------  -----  \n",
            " 0   active_member    10000 non-null  int64  \n",
            " 1   age              10000 non-null  float64\n",
            " 2   gender           10000 non-null  int32  \n",
            " 3   balance          10000 non-null  float64\n",
            " 4   country          10000 non-null  int32  \n",
            " 5   products_number  10000 non-null  int64  \n",
            "dtypes: float64(2), int32(2), int64(2)\n",
            "memory usage: 390.8 KB\n",
            "None\n",
            "<class 'pandas.core.series.Series'>\n",
            "RangeIndex: 10000 entries, 0 to 9999\n",
            "Series name: churn\n",
            "Non-Null Count  Dtype\n",
            "--------------  -----\n",
            "10000 non-null  int64\n",
            "dtypes: int64(1)\n",
            "memory usage: 78.2 KB\n",
            "None\n",
            "Before OverSampling, counts of label '1': 1453\n",
            "Before OverSampling, counts of label '0': 5547 \n",
            "\n",
            "After OverSampling, the shape of train_X: (11094, 6)\n",
            "After OverSampling, the shape of train_y: (11094,) \n",
            "\n",
            "After OverSampling, counts of label '1': 5547\n",
            "After OverSampling, counts of label '0': 5547\n"
          ]
        }
      ],
      "source": [
        "#defining variables\n",
        "XX = df2.iloc[:,[9,2,5,1,4,7]]\n",
        "yy = df2.iloc[:,-1]\n",
        "print(XX.info())\n",
        "print(yy.info())\n",
        "\n",
        "#train-test split\n",
        "XX_train,XX_test,yy_train,yy_test=train_test_split(XX,yy,test_size=0.30,random_state=42)\n",
        "\n",
        "#smote on variables\n",
        "print(\"Before OverSampling, counts of label '1': {}\".format(sum(yy_train == 1)))\n",
        "print(\"Before OverSampling, counts of label '0': {} \\n\".format(sum(yy_train == 0)))\n",
        "\n",
        "sm1 = SMOTE(random_state = 2)\n",
        "XX_train_res, yy_train_res = sm1.fit_resample(XX_train, yy_train.ravel())\n",
        "  \n",
        "print('After OverSampling, the shape of train_X: {}'.format(XX_train_res.shape))\n",
        "print('After OverSampling, the shape of train_y: {} \\n'.format(yy_train_res.shape))\n",
        "  \n",
        "print(\"After OverSampling, counts of label '1': {}\".format(sum(yy_train_res == 1)))\n",
        "print(\"After OverSampling, counts of label '0': {}\".format(sum(yy_train_res == 0)))"
      ]
    },
    {
      "cell_type": "code",
      "execution_count": null,
      "id": "f71b4dae",
      "metadata": {
        "id": "f71b4dae",
        "outputId": "914f8169-0e9e-4c05-cfdd-46136566a471"
      },
      "outputs": [
        {
          "name": "stdout",
          "output_type": "stream",
          "text": [
            "[-1.4986567]\n",
            "[[-0.8377485   5.84898678 -0.53151169  1.21733376  0.09165709 -0.07833638]]\n",
            "\n",
            "confusion matrix\n",
            "[[1710  706]\n",
            " [ 179  405]]\n",
            "classification report\n",
            "              precision    recall  f1-score   support\n",
            "\n",
            "           0       0.91      0.71      0.79      2416\n",
            "           1       0.36      0.69      0.48       584\n",
            "\n",
            "    accuracy                           0.70      3000\n",
            "   macro avg       0.63      0.70      0.64      3000\n",
            "weighted avg       0.80      0.70      0.73      3000\n",
            "\n"
          ]
        }
      ],
      "source": [
        "#solver liblinear\n",
        "from sklearn.linear_model import LogisticRegression\n",
        "model15 = LogisticRegression(solver='liblinear', random_state=42)\n",
        "model15.fit(XX_train_res,yy_train_res)\n",
        "print(model15.intercept_)\n",
        "print(model15.coef_)\n",
        "\n",
        "#Predictions\n",
        "y_pred15 = model15.predict(XX_test)\n",
        "\n",
        "#Confusion matrix\n",
        "from sklearn import metrics\n",
        "cm = metrics.confusion_matrix(yy_test,y_pred15)\n",
        "print(\"\\nconfusion matrix\" )\n",
        "print(cm)\n",
        "\n",
        "#Classification report\n",
        "from sklearn.metrics import classification_report\n",
        "print(\"classification report\")\n",
        "print(classification_report(yy_test,y_pred15))\n"
      ]
    },
    {
      "cell_type": "code",
      "execution_count": null,
      "id": "9eb45688",
      "metadata": {
        "id": "9eb45688",
        "outputId": "c6f94eb6-40bd-4381-90f5-620e1f92470f"
      },
      "outputs": [
        {
          "name": "stdout",
          "output_type": "stream",
          "text": [
            "[-1.51012638]\n",
            "[[-0.83710187  5.86198035 -0.53021958  1.2221004   0.092352   -0.07580633]]\n",
            "\n",
            "confusion matrix\n",
            "[[1710  706]\n",
            " [ 181  403]]\n",
            "classification report\n",
            "              precision    recall  f1-score   support\n",
            "\n",
            "           0       0.90      0.71      0.79      2416\n",
            "           1       0.36      0.69      0.48       584\n",
            "\n",
            "    accuracy                           0.70      3000\n",
            "   macro avg       0.63      0.70      0.64      3000\n",
            "weighted avg       0.80      0.70      0.73      3000\n",
            "\n"
          ]
        }
      ],
      "source": [
        "\n",
        "#solver lbfgs\n",
        "from sklearn.linear_model import LogisticRegression\n",
        "model16 = LogisticRegression(solver='lbfgs', random_state=42)\n",
        "model16.fit(XX_train_res,yy_train_res)\n",
        "print(model16.intercept_)\n",
        "print(model16.coef_)\n",
        "\n",
        "#Predictions\n",
        "y_pred16 = model16.predict(XX_test)\n",
        "\n",
        "#Confusion matrix\n",
        "from sklearn import metrics\n",
        "cm = metrics.confusion_matrix(yy_test,y_pred16)\n",
        "print(\"\\nconfusion matrix\" )\n",
        "print(cm)\n",
        "\n",
        "#Classification report\n",
        "from sklearn.metrics import classification_report\n",
        "print(\"classification report\")\n",
        "print(classification_report(yy_test,y_pred16))\n"
      ]
    },
    {
      "cell_type": "markdown",
      "id": "2708b4fe",
      "metadata": {
        "id": "2708b4fe"
      },
      "source": [
        "# Decision Tree"
      ]
    },
    {
      "cell_type": "code",
      "execution_count": null,
      "id": "4bfab3a3",
      "metadata": {
        "id": "4bfab3a3",
        "outputId": "711ba05e-958d-40c5-8134-02cbbefcf5e6"
      },
      "outputs": [
        {
          "name": "stdout",
          "output_type": "stream",
          "text": [
            "\n",
            "confusion matrix\n",
            "[[1983  433]\n",
            " [ 212  372]]\n",
            "classification report\n",
            "              precision    recall  f1-score   support\n",
            "\n",
            "           0       0.90      0.82      0.86      2416\n",
            "           1       0.46      0.64      0.54       584\n",
            "\n",
            "    accuracy                           0.79      3000\n",
            "   macro avg       0.68      0.73      0.70      3000\n",
            "weighted avg       0.82      0.79      0.80      3000\n",
            "\n"
          ]
        }
      ],
      "source": [
        "from sklearn.tree import DecisionTreeClassifier\n",
        "\n",
        "tree_clf=DecisionTreeClassifier(criterion='entropy',max_depth=12,random_state=42)\n",
        "tree_clf.fit(XX_train_res,yy_train_res)\n",
        "\n",
        "y_pred17 = tree_clf.predict(XX_test)\n",
        "\n",
        "#Confusion matrix\n",
        "cm = metrics.confusion_matrix(yy_test,y_pred17)\n",
        "print(\"\\nconfusion matrix\" )\n",
        "print(cm)\n",
        "\n",
        "#Classification report\n",
        "print(\"classification report\")\n",
        "print(classification_report(yy_test,y_pred17))"
      ]
    },
    {
      "cell_type": "markdown",
      "id": "b93e0ba8",
      "metadata": {
        "id": "b93e0ba8"
      },
      "source": [
        "# XGBOOST"
      ]
    },
    {
      "cell_type": "code",
      "execution_count": null,
      "id": "be3c12c1",
      "metadata": {
        "id": "be3c12c1",
        "outputId": "e949d42c-7c19-4675-f7c1-b95e97c9b825"
      },
      "outputs": [
        {
          "name": "stdout",
          "output_type": "stream",
          "text": [
            "0.8054236023965287\n"
          ]
        }
      ],
      "source": [
        "from xgboost import XGBRegressor\n",
        "# define model\n",
        "model18 = XGBRegressor()\n",
        "model18.fit(XX_train_res,yy_train_res)\n",
        "y_pred18=model18.predict(XX_test)\n",
        "print(model18.score(XX_train_res,yy_train_res)) \n"
      ]
    },
    {
      "cell_type": "code",
      "execution_count": null,
      "id": "698d10a5",
      "metadata": {
        "id": "698d10a5",
        "outputId": "61346c91-c1d5-4c37-c1ef-627fa284a6f3"
      },
      "outputs": [
        {
          "name": "stdout",
          "output_type": "stream",
          "text": [
            "Fitting 5 folds for each of 5 candidates, totalling 25 fits\n",
            "[CV 1/5] END colsample_bytree=0.7, gamma=0.0, learning_rate=0.2, max_depth=4, min_child_weight=3;, score=0.871 total time=   0.3s\n",
            "[CV 2/5] END colsample_bytree=0.7, gamma=0.0, learning_rate=0.2, max_depth=4, min_child_weight=3;, score=0.943 total time=   0.2s\n",
            "[CV 3/5] END colsample_bytree=0.7, gamma=0.0, learning_rate=0.2, max_depth=4, min_child_weight=3;, score=0.973 total time=   0.2s\n",
            "[CV 4/5] END colsample_bytree=0.7, gamma=0.0, learning_rate=0.2, max_depth=4, min_child_weight=3;, score=0.969 total time=   0.3s\n",
            "[CV 5/5] END colsample_bytree=0.7, gamma=0.0, learning_rate=0.2, max_depth=4, min_child_weight=3;, score=0.972 total time=   0.2s\n",
            "[CV 1/5] END colsample_bytree=0.4, gamma=0.2, learning_rate=0.05, max_depth=12, min_child_weight=3;, score=0.852 total time=   0.5s\n",
            "[CV 2/5] END colsample_bytree=0.4, gamma=0.2, learning_rate=0.05, max_depth=12, min_child_weight=3;, score=0.940 total time=   0.5s\n",
            "[CV 3/5] END colsample_bytree=0.4, gamma=0.2, learning_rate=0.05, max_depth=12, min_child_weight=3;, score=0.975 total time=   0.5s\n",
            "[CV 4/5] END colsample_bytree=0.4, gamma=0.2, learning_rate=0.05, max_depth=12, min_child_weight=3;, score=0.974 total time=   0.5s\n",
            "[CV 5/5] END colsample_bytree=0.4, gamma=0.2, learning_rate=0.05, max_depth=12, min_child_weight=3;, score=0.978 total time=   0.5s\n",
            "[CV 1/5] END colsample_bytree=0.7, gamma=0.2, learning_rate=0.2, max_depth=10, min_child_weight=3;, score=0.871 total time=   0.6s\n",
            "[CV 2/5] END colsample_bytree=0.7, gamma=0.2, learning_rate=0.2, max_depth=10, min_child_weight=3;, score=0.947 total time=   0.6s\n",
            "[CV 3/5] END colsample_bytree=0.7, gamma=0.2, learning_rate=0.2, max_depth=10, min_child_weight=3;, score=0.985 total time=   0.6s\n",
            "[CV 4/5] END colsample_bytree=0.7, gamma=0.2, learning_rate=0.2, max_depth=10, min_child_weight=3;, score=0.983 total time=   0.6s\n",
            "[CV 5/5] END colsample_bytree=0.7, gamma=0.2, learning_rate=0.2, max_depth=10, min_child_weight=3;, score=0.984 total time=   0.6s\n",
            "[CV 1/5] END colsample_bytree=0.5, gamma=0.1, learning_rate=0.3, max_depth=8, min_child_weight=3;, score=0.864 total time=   0.4s\n",
            "[CV 2/5] END colsample_bytree=0.5, gamma=0.1, learning_rate=0.3, max_depth=8, min_child_weight=3;, score=0.946 total time=   0.4s\n",
            "[CV 3/5] END colsample_bytree=0.5, gamma=0.1, learning_rate=0.3, max_depth=8, min_child_weight=3;, score=0.986 total time=   0.4s\n",
            "[CV 4/5] END colsample_bytree=0.5, gamma=0.1, learning_rate=0.3, max_depth=8, min_child_weight=3;, score=0.983 total time=   0.4s\n",
            "[CV 5/5] END colsample_bytree=0.5, gamma=0.1, learning_rate=0.3, max_depth=8, min_child_weight=3;, score=0.986 total time=   0.4s\n",
            "[CV 1/5] END colsample_bytree=0.3, gamma=0.2, learning_rate=0.2, max_depth=5, min_child_weight=3;, score=0.842 total time=   0.1s\n",
            "[CV 2/5] END colsample_bytree=0.3, gamma=0.2, learning_rate=0.2, max_depth=5, min_child_weight=3;, score=0.924 total time=   0.1s\n",
            "[CV 3/5] END colsample_bytree=0.3, gamma=0.2, learning_rate=0.2, max_depth=5, min_child_weight=3;, score=0.951 total time=   0.1s\n",
            "[CV 4/5] END colsample_bytree=0.3, gamma=0.2, learning_rate=0.2, max_depth=5, min_child_weight=3;, score=0.949 total time=   0.1s\n",
            "[CV 5/5] END colsample_bytree=0.3, gamma=0.2, learning_rate=0.2, max_depth=5, min_child_weight=3;, score=0.956 total time=   0.1s\n"
          ]
        },
        {
          "data": {
            "text/html": [
              "<style>#sk-container-id-6 {color: black;background-color: white;}#sk-container-id-6 pre{padding: 0;}#sk-container-id-6 div.sk-toggleable {background-color: white;}#sk-container-id-6 label.sk-toggleable__label {cursor: pointer;display: block;width: 100%;margin-bottom: 0;padding: 0.3em;box-sizing: border-box;text-align: center;}#sk-container-id-6 label.sk-toggleable__label-arrow:before {content: \"▸\";float: left;margin-right: 0.25em;color: #696969;}#sk-container-id-6 label.sk-toggleable__label-arrow:hover:before {color: black;}#sk-container-id-6 div.sk-estimator:hover label.sk-toggleable__label-arrow:before {color: black;}#sk-container-id-6 div.sk-toggleable__content {max-height: 0;max-width: 0;overflow: hidden;text-align: left;background-color: #f0f8ff;}#sk-container-id-6 div.sk-toggleable__content pre {margin: 0.2em;color: black;border-radius: 0.25em;background-color: #f0f8ff;}#sk-container-id-6 input.sk-toggleable__control:checked~div.sk-toggleable__content {max-height: 200px;max-width: 100%;overflow: auto;}#sk-container-id-6 input.sk-toggleable__control:checked~label.sk-toggleable__label-arrow:before {content: \"▾\";}#sk-container-id-6 div.sk-estimator input.sk-toggleable__control:checked~label.sk-toggleable__label {background-color: #d4ebff;}#sk-container-id-6 div.sk-label input.sk-toggleable__control:checked~label.sk-toggleable__label {background-color: #d4ebff;}#sk-container-id-6 input.sk-hidden--visually {border: 0;clip: rect(1px 1px 1px 1px);clip: rect(1px, 1px, 1px, 1px);height: 1px;margin: -1px;overflow: hidden;padding: 0;position: absolute;width: 1px;}#sk-container-id-6 div.sk-estimator {font-family: monospace;background-color: #f0f8ff;border: 1px dotted black;border-radius: 0.25em;box-sizing: border-box;margin-bottom: 0.5em;}#sk-container-id-6 div.sk-estimator:hover {background-color: #d4ebff;}#sk-container-id-6 div.sk-parallel-item::after {content: \"\";width: 100%;border-bottom: 1px solid gray;flex-grow: 1;}#sk-container-id-6 div.sk-label:hover label.sk-toggleable__label {background-color: #d4ebff;}#sk-container-id-6 div.sk-serial::before {content: \"\";position: absolute;border-left: 1px solid gray;box-sizing: border-box;top: 0;bottom: 0;left: 50%;z-index: 0;}#sk-container-id-6 div.sk-serial {display: flex;flex-direction: column;align-items: center;background-color: white;padding-right: 0.2em;padding-left: 0.2em;position: relative;}#sk-container-id-6 div.sk-item {position: relative;z-index: 1;}#sk-container-id-6 div.sk-parallel {display: flex;align-items: stretch;justify-content: center;background-color: white;position: relative;}#sk-container-id-6 div.sk-item::before, #sk-container-id-6 div.sk-parallel-item::before {content: \"\";position: absolute;border-left: 1px solid gray;box-sizing: border-box;top: 0;bottom: 0;left: 50%;z-index: -1;}#sk-container-id-6 div.sk-parallel-item {display: flex;flex-direction: column;z-index: 1;position: relative;background-color: white;}#sk-container-id-6 div.sk-parallel-item:first-child::after {align-self: flex-end;width: 50%;}#sk-container-id-6 div.sk-parallel-item:last-child::after {align-self: flex-start;width: 50%;}#sk-container-id-6 div.sk-parallel-item:only-child::after {width: 0;}#sk-container-id-6 div.sk-dashed-wrapped {border: 1px dashed gray;margin: 0 0.4em 0.5em 0.4em;box-sizing: border-box;padding-bottom: 0.4em;background-color: white;}#sk-container-id-6 div.sk-label label {font-family: monospace;font-weight: bold;display: inline-block;line-height: 1.2em;}#sk-container-id-6 div.sk-label-container {text-align: center;}#sk-container-id-6 div.sk-container {/* jupyter's `normalize.less` sets `[hidden] { display: none; }` but bootstrap.min.css set `[hidden] { display: none !important; }` so we also need the `!important` here to be able to override the default hidden behavior on the sphinx rendered scikit-learn.org. See: https://github.com/scikit-learn/scikit-learn/issues/21755 */display: inline-block !important;position: relative;}#sk-container-id-6 div.sk-text-repr-fallback {display: none;}</style><div id=\"sk-container-id-6\" class=\"sk-top-container\"><div class=\"sk-text-repr-fallback\"><pre>RandomizedSearchCV(cv=5,\n",
              "                   estimator=XGBClassifier(base_score=None, booster=None,\n",
              "                                           callbacks=None,\n",
              "                                           colsample_bylevel=None,\n",
              "                                           colsample_bynode=None,\n",
              "                                           colsample_bytree=None,\n",
              "                                           early_stopping_rounds=None,\n",
              "                                           enable_categorical=False,\n",
              "                                           eval_metric=None, gamma=None,\n",
              "                                           gpu_id=None, grow_policy=None,\n",
              "                                           importance_type=None,\n",
              "                                           interaction_constraints=None,\n",
              "                                           learning_rate=None, max_bin=None,...\n",
              "                                           n_estimators=100, n_jobs=None,\n",
              "                                           num_parallel_tree=None,\n",
              "                                           predictor=None, random_state=None,\n",
              "                                           reg_alpha=None, reg_lambda=None, ...),\n",
              "                   n_iter=5,\n",
              "                   param_distributions={&#x27;colsample_bytree&#x27;: [0.3, 0.4, 0.5,\n",
              "                                                             0.7],\n",
              "                                        &#x27;gamma&#x27;: [0.0, 0.1, 0.2, 0.3, 0.4],\n",
              "                                        &#x27;learning_rate&#x27;: [0.05, 0.1, 0.15, 0.2,\n",
              "                                                          0.25, 0.3],\n",
              "                                        &#x27;max_depth&#x27;: [2, 3, 4, 5, 6, 8, 10, 12,\n",
              "                                                      15],\n",
              "                                        &#x27;min_child_weight&#x27;: [1, 3, 5, 7]},\n",
              "                   scoring=&#x27;roc_auc&#x27;, verbose=3)</pre><b>In a Jupyter environment, please rerun this cell to show the HTML representation or trust the notebook. <br />On GitHub, the HTML representation is unable to render, please try loading this page with nbviewer.org.</b></div><div class=\"sk-container\" hidden><div class=\"sk-item sk-dashed-wrapped\"><div class=\"sk-label-container\"><div class=\"sk-label sk-toggleable\"><input class=\"sk-toggleable__control sk-hidden--visually\" id=\"sk-estimator-id-12\" type=\"checkbox\" ><label for=\"sk-estimator-id-12\" class=\"sk-toggleable__label sk-toggleable__label-arrow\">RandomizedSearchCV</label><div class=\"sk-toggleable__content\"><pre>RandomizedSearchCV(cv=5,\n",
              "                   estimator=XGBClassifier(base_score=None, booster=None,\n",
              "                                           callbacks=None,\n",
              "                                           colsample_bylevel=None,\n",
              "                                           colsample_bynode=None,\n",
              "                                           colsample_bytree=None,\n",
              "                                           early_stopping_rounds=None,\n",
              "                                           enable_categorical=False,\n",
              "                                           eval_metric=None, gamma=None,\n",
              "                                           gpu_id=None, grow_policy=None,\n",
              "                                           importance_type=None,\n",
              "                                           interaction_constraints=None,\n",
              "                                           learning_rate=None, max_bin=None,...\n",
              "                                           n_estimators=100, n_jobs=None,\n",
              "                                           num_parallel_tree=None,\n",
              "                                           predictor=None, random_state=None,\n",
              "                                           reg_alpha=None, reg_lambda=None, ...),\n",
              "                   n_iter=5,\n",
              "                   param_distributions={&#x27;colsample_bytree&#x27;: [0.3, 0.4, 0.5,\n",
              "                                                             0.7],\n",
              "                                        &#x27;gamma&#x27;: [0.0, 0.1, 0.2, 0.3, 0.4],\n",
              "                                        &#x27;learning_rate&#x27;: [0.05, 0.1, 0.15, 0.2,\n",
              "                                                          0.25, 0.3],\n",
              "                                        &#x27;max_depth&#x27;: [2, 3, 4, 5, 6, 8, 10, 12,\n",
              "                                                      15],\n",
              "                                        &#x27;min_child_weight&#x27;: [1, 3, 5, 7]},\n",
              "                   scoring=&#x27;roc_auc&#x27;, verbose=3)</pre></div></div></div><div class=\"sk-parallel\"><div class=\"sk-parallel-item\"><div class=\"sk-item\"><div class=\"sk-label-container\"><div class=\"sk-label sk-toggleable\"><input class=\"sk-toggleable__control sk-hidden--visually\" id=\"sk-estimator-id-13\" type=\"checkbox\" ><label for=\"sk-estimator-id-13\" class=\"sk-toggleable__label sk-toggleable__label-arrow\">estimator: XGBClassifier</label><div class=\"sk-toggleable__content\"><pre>XGBClassifier(base_score=None, booster=None, callbacks=None,\n",
              "              colsample_bylevel=None, colsample_bynode=None,\n",
              "              colsample_bytree=None, early_stopping_rounds=None,\n",
              "              enable_categorical=False, eval_metric=None, gamma=None,\n",
              "              gpu_id=None, grow_policy=None, importance_type=None,\n",
              "              interaction_constraints=None, learning_rate=None, max_bin=None,\n",
              "              max_cat_to_onehot=None, max_delta_step=None, max_depth=None,\n",
              "              max_leaves=None, min_child_weight=None, missing=nan,\n",
              "              monotone_constraints=None, n_estimators=100, n_jobs=None,\n",
              "              num_parallel_tree=None, predictor=None, random_state=None,\n",
              "              reg_alpha=None, reg_lambda=None, ...)</pre></div></div></div><div class=\"sk-serial\"><div class=\"sk-item\"><div class=\"sk-estimator sk-toggleable\"><input class=\"sk-toggleable__control sk-hidden--visually\" id=\"sk-estimator-id-14\" type=\"checkbox\" ><label for=\"sk-estimator-id-14\" class=\"sk-toggleable__label sk-toggleable__label-arrow\">XGBClassifier</label><div class=\"sk-toggleable__content\"><pre>XGBClassifier(base_score=None, booster=None, callbacks=None,\n",
              "              colsample_bylevel=None, colsample_bynode=None,\n",
              "              colsample_bytree=None, early_stopping_rounds=None,\n",
              "              enable_categorical=False, eval_metric=None, gamma=None,\n",
              "              gpu_id=None, grow_policy=None, importance_type=None,\n",
              "              interaction_constraints=None, learning_rate=None, max_bin=None,\n",
              "              max_cat_to_onehot=None, max_delta_step=None, max_depth=None,\n",
              "              max_leaves=None, min_child_weight=None, missing=nan,\n",
              "              monotone_constraints=None, n_estimators=100, n_jobs=None,\n",
              "              num_parallel_tree=None, predictor=None, random_state=None,\n",
              "              reg_alpha=None, reg_lambda=None, ...)</pre></div></div></div></div></div></div></div></div></div></div>"
            ],
            "text/plain": [
              "RandomizedSearchCV(cv=5,\n",
              "                   estimator=XGBClassifier(base_score=None, booster=None,\n",
              "                                           callbacks=None,\n",
              "                                           colsample_bylevel=None,\n",
              "                                           colsample_bynode=None,\n",
              "                                           colsample_bytree=None,\n",
              "                                           early_stopping_rounds=None,\n",
              "                                           enable_categorical=False,\n",
              "                                           eval_metric=None, gamma=None,\n",
              "                                           gpu_id=None, grow_policy=None,\n",
              "                                           importance_type=None,\n",
              "                                           interaction_constraints=None,\n",
              "                                           learning_rate=None, max_bin=None,...\n",
              "                                           n_estimators=100, n_jobs=None,\n",
              "                                           num_parallel_tree=None,\n",
              "                                           predictor=None, random_state=None,\n",
              "                                           reg_alpha=None, reg_lambda=None, ...),\n",
              "                   n_iter=5,\n",
              "                   param_distributions={'colsample_bytree': [0.3, 0.4, 0.5,\n",
              "                                                             0.7],\n",
              "                                        'gamma': [0.0, 0.1, 0.2, 0.3, 0.4],\n",
              "                                        'learning_rate': [0.05, 0.1, 0.15, 0.2,\n",
              "                                                          0.25, 0.3],\n",
              "                                        'max_depth': [2, 3, 4, 5, 6, 8, 10, 12,\n",
              "                                                      15],\n",
              "                                        'min_child_weight': [1, 3, 5, 7]},\n",
              "                   scoring='roc_auc', verbose=3)"
            ]
          },
          "execution_count": 226,
          "metadata": {},
          "output_type": "execute_result"
        }
      ],
      "source": [
        "from sklearn.model_selection import RandomizedSearchCV\n",
        "import xgboost\n",
        "\n",
        "classifier=xgboost.XGBClassifier()\n",
        "\n",
        "params={\n",
        "    \"learning_rate\":[0.05,0.10,0.15,0.20,0.25,0.30],\n",
        "    \"max_depth\":[2,3,4,5,6,8,10,12,15],\n",
        "    \"min_child_weight\":[1,3,5,7],\n",
        "    \"gamma\":[0.0,0.1,0.2,0.3,0.4],\n",
        "    \"colsample_bytree\":[0.3,0.4,0.5,0.7]}\n",
        "\n",
        "clf =RandomizedSearchCV(classifier,param_distributions=params,n_iter=5,scoring='roc_auc',cv=5,verbose=3)\n",
        "clf.fit(XX_train_res,yy_train_res)"
      ]
    },
    {
      "cell_type": "code",
      "execution_count": null,
      "id": "4f3fc2f8",
      "metadata": {
        "id": "4f3fc2f8",
        "outputId": "71237a00-710b-44d2-e7c5-ef80cabaef36"
      },
      "outputs": [
        {
          "data": {
            "text/plain": [
              "{'min_child_weight': 3,\n",
              " 'max_depth': 10,\n",
              " 'learning_rate': 0.2,\n",
              " 'gamma': 0.2,\n",
              " 'colsample_bytree': 0.7}"
            ]
          },
          "execution_count": 227,
          "metadata": {},
          "output_type": "execute_result"
        }
      ],
      "source": [
        "clf.best_params_"
      ]
    },
    {
      "cell_type": "code",
      "execution_count": null,
      "id": "c4f780ce",
      "metadata": {
        "id": "c4f780ce"
      },
      "outputs": [],
      "source": [
        "best_model=clf.best_estimator_"
      ]
    },
    {
      "cell_type": "code",
      "execution_count": null,
      "id": "a4894b64",
      "metadata": {
        "id": "a4894b64",
        "outputId": "d4b96325-d6cf-46b0-e699-8b95d8417936"
      },
      "outputs": [
        {
          "name": "stdout",
          "output_type": "stream",
          "text": [
            "[[2237  179]\n",
            " [ 249  335]]\n",
            "classification report\n",
            "              precision    recall  f1-score   support\n",
            "\n",
            "           0       0.90      0.93      0.91      2416\n",
            "           1       0.65      0.57      0.61       584\n",
            "\n",
            "    accuracy                           0.86      3000\n",
            "   macro avg       0.78      0.75      0.76      3000\n",
            "weighted avg       0.85      0.86      0.85      3000\n",
            "\n"
          ]
        }
      ],
      "source": [
        "best_model.fit(XX_train_res,yy_train_res)\n",
        "\n",
        "pred_xgboost = best_model.predict(XX_test)\n",
        "\n",
        "# Confusion Matrix\n",
        "cm = confusion_matrix(yy_test, pred_xgboost)\n",
        "print(cm)\n",
        "\n",
        "#Classification report\n",
        "print(\"classification report\")\n",
        "print(classification_report(yy_test, pred_xgboost))"
      ]
    },
    {
      "cell_type": "code",
      "execution_count": null,
      "id": "6aca8d64",
      "metadata": {
        "id": "6aca8d64",
        "outputId": "907d412e-02e0-4337-94fb-78ccc4b222c4"
      },
      "outputs": [
        {
          "name": "stdout",
          "output_type": "stream",
          "text": [
            "[[5297  250]\n",
            " [ 472 5075]]\n",
            "classification report\n",
            "              precision    recall  f1-score   support\n",
            "\n",
            "           0       0.92      0.95      0.94      5547\n",
            "           1       0.95      0.91      0.93      5547\n",
            "\n",
            "    accuracy                           0.93     11094\n",
            "   macro avg       0.94      0.93      0.93     11094\n",
            "weighted avg       0.94      0.93      0.93     11094\n",
            "\n"
          ]
        }
      ],
      "source": [
        "pred_xgboost_train = best_model.predict(XX_train_res)\n",
        "# Confusion Matrix\n",
        "cm = confusion_matrix(yy_train_res, pred_xgboost_train)\n",
        "print(cm)\n",
        "\n",
        "#Classification report\n",
        "print(\"classification report\")\n",
        "print(classification_report(yy_train_res, pred_xgboost_train))"
      ]
    },
    {
      "cell_type": "code",
      "execution_count": null,
      "id": "224b3fd8",
      "metadata": {
        "id": "224b3fd8"
      },
      "outputs": [],
      "source": []
    }
  ],
  "metadata": {
    "kernelspec": {
      "display_name": "Python 3 (ipykernel)",
      "language": "python",
      "name": "python3"
    },
    "language_info": {
      "codemirror_mode": {
        "name": "ipython",
        "version": 3
      },
      "file_extension": ".py",
      "mimetype": "text/x-python",
      "name": "python",
      "nbconvert_exporter": "python",
      "pygments_lexer": "ipython3",
      "version": "3.9.12"
    },
    "colab": {
      "provenance": [],
      "include_colab_link": true
    }
  },
  "nbformat": 4,
  "nbformat_minor": 5
}